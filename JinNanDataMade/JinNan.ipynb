{
 "cells": [
  {
   "cell_type": "code",
   "execution_count": 2,
   "metadata": {},
   "outputs": [
    {
     "name": "stdout",
     "output_type": "stream",
     "text": [
      "Checking whether there is an H2O instance running at http://localhost:54321. connected.\n"
     ]
    },
    {
     "data": {
      "text/html": [
       "<div style=\"overflow:auto\"><table style=\"width:50%\"><tr><td>H2O cluster uptime:</td>\n",
       "<td>4 hours 46 mins</td></tr>\n",
       "<tr><td>H2O cluster timezone:</td>\n",
       "<td>Asia/Shanghai</td></tr>\n",
       "<tr><td>H2O data parsing timezone:</td>\n",
       "<td>UTC</td></tr>\n",
       "<tr><td>H2O cluster version:</td>\n",
       "<td>3.22.1.1</td></tr>\n",
       "<tr><td>H2O cluster version age:</td>\n",
       "<td>14 days, 10 hours and 47 minutes </td></tr>\n",
       "<tr><td>H2O cluster name:</td>\n",
       "<td>H2O_from_python_liucuili_c6mph0</td></tr>\n",
       "<tr><td>H2O cluster total nodes:</td>\n",
       "<td>1</td></tr>\n",
       "<tr><td>H2O cluster free memory:</td>\n",
       "<td>3.975 Gb</td></tr>\n",
       "<tr><td>H2O cluster total cores:</td>\n",
       "<td>4</td></tr>\n",
       "<tr><td>H2O cluster allowed cores:</td>\n",
       "<td>4</td></tr>\n",
       "<tr><td>H2O cluster status:</td>\n",
       "<td>locked, healthy</td></tr>\n",
       "<tr><td>H2O connection url:</td>\n",
       "<td>http://localhost:54321</td></tr>\n",
       "<tr><td>H2O connection proxy:</td>\n",
       "<td>None</td></tr>\n",
       "<tr><td>H2O internal security:</td>\n",
       "<td>False</td></tr>\n",
       "<tr><td>H2O API Extensions:</td>\n",
       "<td>Algos, AutoML, Core V3, Core V4</td></tr>\n",
       "<tr><td>Python version:</td>\n",
       "<td>3.7.0 final</td></tr></table></div>"
      ],
      "text/plain": [
       "--------------------------  --------------------------------\n",
       "H2O cluster uptime:         4 hours 46 mins\n",
       "H2O cluster timezone:       Asia/Shanghai\n",
       "H2O data parsing timezone:  UTC\n",
       "H2O cluster version:        3.22.1.1\n",
       "H2O cluster version age:    14 days, 10 hours and 47 minutes\n",
       "H2O cluster name:           H2O_from_python_liucuili_c6mph0\n",
       "H2O cluster total nodes:    1\n",
       "H2O cluster free memory:    3.975 Gb\n",
       "H2O cluster total cores:    4\n",
       "H2O cluster allowed cores:  4\n",
       "H2O cluster status:         locked, healthy\n",
       "H2O connection url:         http://localhost:54321\n",
       "H2O connection proxy:\n",
       "H2O internal security:      False\n",
       "H2O API Extensions:         Algos, AutoML, Core V3, Core V4\n",
       "Python version:             3.7.0 final\n",
       "--------------------------  --------------------------------"
      ]
     },
     "metadata": {},
     "output_type": "display_data"
    }
   ],
   "source": [
    "# 想直接看对自己模型的提升的，把max_model改成20，赋权重融合到自己模型里\n",
    "# 按我的经验，融合之前先算一下差异性,np.corr,可以达到0.97左右的相关性的话，融合效果会比较好\n",
    "\n",
    "# 想用的就用，不想用的没必要在这浪费时间\n",
    "# 也呼吁大家多看看鱼的代码，里面干货很多，这份代码的成绩取决于你放进来什么特征\n",
    "# 这份特征在我自己特征工程之后可以达到榜上的成绩，原始特征大概是88左右\n",
    "\n",
    "import h2o\n",
    "from h2o.automl import H2OAutoML\n",
    "#h2o.init(max_mem_size='64G')\n",
    "h2o.init()"
   ]
  },
  {
   "cell_type": "code",
   "execution_count": 17,
   "metadata": {},
   "outputs": [
    {
     "name": "stdout",
     "output_type": "stream",
     "text": [
      "Parse progress: |█████████████████████████████████████████████████████████| 100%\n",
      "Parse progress: |█████████████████████████████████████████████████████████| 100%\n"
     ]
    }
   ],
   "source": [
    "#train = h2o.upload_file(\"./datasets1/jinnan_round1_train_20181227.csv\", header=0)\n",
    "#test = h2o.upload_file(\"./datasets1/jinnan_round1_testA_20181227.csv\", header=0)\n",
    "\n",
    "#train = h2o.upload_file(\"./datasets1/train.csv\", header=0)\n",
    "#test = h2o.upload_file(\"./datasets1/test.csv\", header=0)\n",
    "\n",
    "#train = h2o.upload_file(\"./o/trainDropT.csv\", header=0)\n",
    "#test = h2o.upload_file(\"./o/testDropT.csv\", header=0)\n",
    "\n",
    "train = h2o.upload_file(\"./o/trainDropALLT.csv\", header=0)\n",
    "test = h2o.upload_file(\"./o/testDropALLT.csv\", header=0)"
   ]
  },
  {
   "cell_type": "code",
   "execution_count": 6,
   "metadata": {},
   "outputs": [
    {
     "data": {
      "text/html": [
       "<table>\n",
       "<thead>\n",
       "<tr><th style=\"text-align: right;\">  A1</th><th style=\"text-align: right;\">  A2</th><th style=\"text-align: right;\">  A3</th><th style=\"text-align: right;\">  A4</th><th>A5                 </th><th style=\"text-align: right;\">  A6</th><th style=\"text-align: right;\">  A8</th><th style=\"text-align: right;\">  A10</th><th style=\"text-align: right;\">  A12</th><th style=\"text-align: right;\">  A13</th><th style=\"text-align: right;\">  A15</th><th style=\"text-align: right;\">  A17</th><th style=\"text-align: right;\">  A18</th><th style=\"text-align: right;\">  A19</th><th style=\"text-align: right;\">  A21</th><th style=\"text-align: right;\">  A22</th><th style=\"text-align: right;\">  A23</th><th style=\"text-align: right;\">  A25</th><th style=\"text-align: right;\">  A27</th><th style=\"text-align: right;\">  B1</th><th style=\"text-align: right;\">  B2</th><th style=\"text-align: right;\">  B3</th><th style=\"text-align: right;\">  B6</th><th style=\"text-align: right;\">  B8</th><th style=\"text-align: right;\">  B12</th><th style=\"text-align: right;\">  B13</th><th style=\"text-align: right;\">  B14</th><th>id         </th><th style=\"text-align: right;\">  A5_o</th><th style=\"text-align: right;\">  A7_o</th><th style=\"text-align: right;\">  A9_o</th><th style=\"text-align: right;\">  A11_o</th><th style=\"text-align: right;\">  A14_o</th><th style=\"text-align: right;\">  A16_o</th><th style=\"text-align: right;\">  A20_per_o</th><th style=\"text-align: right;\">  A20_last_o</th><th style=\"text-align: right;\">  A24_o</th><th style=\"text-align: right;\">  A26_o</th><th style=\"text-align: right;\">  A28_per_o</th><th style=\"text-align: right;\">  A28_last_o</th><th style=\"text-align: right;\">  B4_per_o</th><th style=\"text-align: right;\">  B4_last_o</th><th style=\"text-align: right;\">  B5_o</th><th style=\"text-align: right;\">  B7_o</th><th style=\"text-align: right;\">  B9_per_o</th><th style=\"text-align: right;\">  B9_last_o</th><th style=\"text-align: right;\">  B10_per_o</th><th style=\"text-align: right;\">  B10_last_o</th><th style=\"text-align: right;\">  B11_per_o</th><th style=\"text-align: right;\">  B11_last_o</th><th style=\"text-align: right;\">  target</th></tr>\n",
       "</thead>\n",
       "<tbody>\n",
       "<tr><td style=\"text-align: right;\"> 300</td><td style=\"text-align: right;\"> nan</td><td style=\"text-align: right;\"> 405</td><td style=\"text-align: right;\"> 700</td><td>1970-01-01 06:30:00</td><td style=\"text-align: right;\">  25</td><td style=\"text-align: right;\"> nan</td><td style=\"text-align: right;\">  100</td><td style=\"text-align: right;\">  103</td><td style=\"text-align: right;\">  0.2</td><td style=\"text-align: right;\">  104</td><td style=\"text-align: right;\">  105</td><td style=\"text-align: right;\">  0.2</td><td style=\"text-align: right;\">  300</td><td style=\"text-align: right;\">   40</td><td style=\"text-align: right;\">    9</td><td style=\"text-align: right;\">    5</td><td style=\"text-align: right;\">   70</td><td style=\"text-align: right;\">   78</td><td style=\"text-align: right;\"> 320</td><td style=\"text-align: right;\"> 3.5</td><td style=\"text-align: right;\"> 3.5</td><td style=\"text-align: right;\">  60</td><td style=\"text-align: right;\">  40</td><td style=\"text-align: right;\">  800</td><td style=\"text-align: right;\"> 0.15</td><td style=\"text-align: right;\">  400</td><td>sample_1   </td><td style=\"text-align: right;\">     0</td><td style=\"text-align: right;\">     0</td><td style=\"text-align: right;\"> 81000</td><td style=\"text-align: right;\">  82800</td><td style=\"text-align: right;\">  82800</td><td style=\"text-align: right;\">  82800</td><td style=\"text-align: right;\">      72000</td><td style=\"text-align: right;\">       84600</td><td style=\"text-align: right;\">      0</td><td style=\"text-align: right;\">  84600</td><td style=\"text-align: right;\">      57600</td><td style=\"text-align: right;\">       82800</td><td style=\"text-align: right;\">         0</td><td style=\"text-align: right;\">      81000</td><td style=\"text-align: right;\">     0</td><td style=\"text-align: right;\"> 79200</td><td style=\"text-align: right;\">     73800</td><td style=\"text-align: right;\">      81000</td><td style=\"text-align: right;\">      84600</td><td style=\"text-align: right;\">       81000</td><td style=\"text-align: right;\">          0</td><td style=\"text-align: right;\">           0</td><td style=\"text-align: right;\">   0.9  </td></tr>\n",
       "<tr><td style=\"text-align: right;\"> 300</td><td style=\"text-align: right;\"> nan</td><td style=\"text-align: right;\"> 405</td><td style=\"text-align: right;\"> 700</td><td>1970-01-01 20:00:00</td><td style=\"text-align: right;\">  29</td><td style=\"text-align: right;\"> nan</td><td style=\"text-align: right;\">  101</td><td style=\"text-align: right;\">  103</td><td style=\"text-align: right;\">  0.2</td><td style=\"text-align: right;\">  104</td><td style=\"text-align: right;\">  105</td><td style=\"text-align: right;\">  0.2</td><td style=\"text-align: right;\">  200</td><td style=\"text-align: right;\">   50</td><td style=\"text-align: right;\">    9</td><td style=\"text-align: right;\">    5</td><td style=\"text-align: right;\">   80</td><td style=\"text-align: right;\">   73</td><td style=\"text-align: right;\"> 320</td><td style=\"text-align: right;\"> 3.5</td><td style=\"text-align: right;\"> 3.5</td><td style=\"text-align: right;\">  80</td><td style=\"text-align: right;\">  45</td><td style=\"text-align: right;\"> 1200</td><td style=\"text-align: right;\"> 0.15</td><td style=\"text-align: right;\">  400</td><td>sample_100 </td><td style=\"text-align: right;\">     0</td><td style=\"text-align: right;\">     0</td><td style=\"text-align: right;\"> 79200</td><td style=\"text-align: right;\">  82800</td><td style=\"text-align: right;\">  82800</td><td style=\"text-align: right;\">  82800</td><td style=\"text-align: right;\">          0</td><td style=\"text-align: right;\">       82800</td><td style=\"text-align: right;\">      0</td><td style=\"text-align: right;\">  82800</td><td style=\"text-align: right;\">          0</td><td style=\"text-align: right;\">       82800</td><td style=\"text-align: right;\">         0</td><td style=\"text-align: right;\">      82800</td><td style=\"text-align: right;\">     0</td><td style=\"text-align: right;\"> 79200</td><td style=\"text-align: right;\">         0</td><td style=\"text-align: right;\">      81000</td><td style=\"text-align: right;\">          0</td><td style=\"text-align: right;\">       81000</td><td style=\"text-align: right;\">          0</td><td style=\"text-align: right;\">       82800</td><td style=\"text-align: right;\">   0.902</td></tr>\n",
       "<tr><td style=\"text-align: right;\"> 300</td><td style=\"text-align: right;\"> nan</td><td style=\"text-align: right;\"> 405</td><td style=\"text-align: right;\"> 700</td><td>1970-01-01 17:00:00</td><td style=\"text-align: right;\">  30</td><td style=\"text-align: right;\"> nan</td><td style=\"text-align: right;\">  100</td><td style=\"text-align: right;\">  101</td><td style=\"text-align: right;\">  0.2</td><td style=\"text-align: right;\">  103</td><td style=\"text-align: right;\">  105</td><td style=\"text-align: right;\">  0.2</td><td style=\"text-align: right;\">  200</td><td style=\"text-align: right;\">   50</td><td style=\"text-align: right;\">   10</td><td style=\"text-align: right;\">    5</td><td style=\"text-align: right;\">   70</td><td style=\"text-align: right;\">   78</td><td style=\"text-align: right;\"> 290</td><td style=\"text-align: right;\"> 3.5</td><td style=\"text-align: right;\"> 3.5</td><td style=\"text-align: right;\">  65</td><td style=\"text-align: right;\">  45</td><td style=\"text-align: right;\">  800</td><td style=\"text-align: right;\"> 0.15</td><td style=\"text-align: right;\">  400</td><td>sample_1000</td><td style=\"text-align: right;\">     0</td><td style=\"text-align: right;\">     0</td><td style=\"text-align: right;\"> 82800</td><td style=\"text-align: right;\">  82800</td><td style=\"text-align: right;\">  82800</td><td style=\"text-align: right;\">  82800</td><td style=\"text-align: right;\">      84600</td><td style=\"text-align: right;\">       84600</td><td style=\"text-align: right;\">  84600</td><td style=\"text-align: right;\">  82800</td><td style=\"text-align: right;\">      72000</td><td style=\"text-align: right;\">       82800</td><td style=\"text-align: right;\">         0</td><td style=\"text-align: right;\">      82800</td><td style=\"text-align: right;\">     0</td><td style=\"text-align: right;\"> 79200</td><td style=\"text-align: right;\">     81000</td><td style=\"text-align: right;\">      81000</td><td style=\"text-align: right;\">          0</td><td style=\"text-align: right;\">       81000</td><td style=\"text-align: right;\">          0</td><td style=\"text-align: right;\">           0</td><td style=\"text-align: right;\">   0.902</td></tr>\n",
       "<tr><td style=\"text-align: right;\"> 300</td><td style=\"text-align: right;\"> nan</td><td style=\"text-align: right;\"> 405</td><td style=\"text-align: right;\"> 700</td><td>1970-01-01 14:00:00</td><td style=\"text-align: right;\">  21</td><td style=\"text-align: right;\"> nan</td><td style=\"text-align: right;\">  100</td><td style=\"text-align: right;\">  101</td><td style=\"text-align: right;\">  0.2</td><td style=\"text-align: right;\">  102</td><td style=\"text-align: right;\">  103</td><td style=\"text-align: right;\">  0.2</td><td style=\"text-align: right;\">  200</td><td style=\"text-align: right;\">   50</td><td style=\"text-align: right;\">    9</td><td style=\"text-align: right;\">    5</td><td style=\"text-align: right;\">   70</td><td style=\"text-align: right;\">   78</td><td style=\"text-align: right;\"> 300</td><td style=\"text-align: right;\"> 3.5</td><td style=\"text-align: right;\"> 3.5</td><td style=\"text-align: right;\">  60</td><td style=\"text-align: right;\">  39</td><td style=\"text-align: right;\">  800</td><td style=\"text-align: right;\"> 0.15</td><td style=\"text-align: right;\">  380</td><td>sample_1002</td><td style=\"text-align: right;\">     0</td><td style=\"text-align: right;\">     0</td><td style=\"text-align: right;\"> 82800</td><td style=\"text-align: right;\">  82800</td><td style=\"text-align: right;\">  82800</td><td style=\"text-align: right;\">  82800</td><td style=\"text-align: right;\">          0</td><td style=\"text-align: right;\">       84600</td><td style=\"text-align: right;\">      0</td><td style=\"text-align: right;\">  84600</td><td style=\"text-align: right;\">          0</td><td style=\"text-align: right;\">       82800</td><td style=\"text-align: right;\">         0</td><td style=\"text-align: right;\">      81000</td><td style=\"text-align: right;\">     0</td><td style=\"text-align: right;\"> 63000</td><td style=\"text-align: right;\">     84600</td><td style=\"text-align: right;\">      81000</td><td style=\"text-align: right;\">      82800</td><td style=\"text-align: right;\">       82800</td><td style=\"text-align: right;\">          0</td><td style=\"text-align: right;\">           0</td><td style=\"text-align: right;\"> nan    </td></tr>\n",
       "<tr><td style=\"text-align: right;\"> 300</td><td style=\"text-align: right;\"> nan</td><td style=\"text-align: right;\"> 405</td><td style=\"text-align: right;\"> 700</td><td>1970-01-01 07:00:00</td><td style=\"text-align: right;\">  20</td><td style=\"text-align: right;\"> nan</td><td style=\"text-align: right;\">  100</td><td style=\"text-align: right;\">  102</td><td style=\"text-align: right;\">  0.2</td><td style=\"text-align: right;\">  103</td><td style=\"text-align: right;\">  105</td><td style=\"text-align: right;\">  0.2</td><td style=\"text-align: right;\">  200</td><td style=\"text-align: right;\">   50</td><td style=\"text-align: right;\">    9</td><td style=\"text-align: right;\">    5</td><td style=\"text-align: right;\">   70</td><td style=\"text-align: right;\">   78</td><td style=\"text-align: right;\"> 290</td><td style=\"text-align: right;\"> 3.5</td><td style=\"text-align: right;\"> 3.5</td><td style=\"text-align: right;\">  60</td><td style=\"text-align: right;\">  40</td><td style=\"text-align: right;\">  800</td><td style=\"text-align: right;\"> 0.15</td><td style=\"text-align: right;\">  400</td><td>sample_1004</td><td style=\"text-align: right;\">     0</td><td style=\"text-align: right;\">     0</td><td style=\"text-align: right;\"> 81000</td><td style=\"text-align: right;\">  82800</td><td style=\"text-align: right;\">  82800</td><td style=\"text-align: right;\">  82800</td><td style=\"text-align: right;\">      84600</td><td style=\"text-align: right;\">       84600</td><td style=\"text-align: right;\">  84600</td><td style=\"text-align: right;\">  84600</td><td style=\"text-align: right;\">      73800</td><td style=\"text-align: right;\">       82800</td><td style=\"text-align: right;\">         0</td><td style=\"text-align: right;\">      82800</td><td style=\"text-align: right;\">     0</td><td style=\"text-align: right;\"> 79200</td><td style=\"text-align: right;\">     77400</td><td style=\"text-align: right;\">      81000</td><td style=\"text-align: right;\">      82800</td><td style=\"text-align: right;\">       81000</td><td style=\"text-align: right;\">          0</td><td style=\"text-align: right;\">           0</td><td style=\"text-align: right;\">   0.878</td></tr>\n",
       "<tr><td style=\"text-align: right;\"> 300</td><td style=\"text-align: right;\"> nan</td><td style=\"text-align: right;\"> 405</td><td style=\"text-align: right;\"> 700</td><td>1970-01-01 17:30:00</td><td style=\"text-align: right;\">  21</td><td style=\"text-align: right;\"> nan</td><td style=\"text-align: right;\">  100</td><td style=\"text-align: right;\">  101</td><td style=\"text-align: right;\">  0.2</td><td style=\"text-align: right;\">  103</td><td style=\"text-align: right;\">  105</td><td style=\"text-align: right;\">  0.2</td><td style=\"text-align: right;\">  200</td><td style=\"text-align: right;\">   40</td><td style=\"text-align: right;\">    9</td><td style=\"text-align: right;\">    5</td><td style=\"text-align: right;\">   70</td><td style=\"text-align: right;\">   78</td><td style=\"text-align: right;\"> 300</td><td style=\"text-align: right;\"> 3.5</td><td style=\"text-align: right;\"> 3.5</td><td style=\"text-align: right;\">  60</td><td style=\"text-align: right;\">  40</td><td style=\"text-align: right;\">  800</td><td style=\"text-align: right;\"> 0.15</td><td style=\"text-align: right;\">  400</td><td>sample_1005</td><td style=\"text-align: right;\">     0</td><td style=\"text-align: right;\">     0</td><td style=\"text-align: right;\"> 82800</td><td style=\"text-align: right;\">  82800</td><td style=\"text-align: right;\">  82800</td><td style=\"text-align: right;\">  82800</td><td style=\"text-align: right;\">          0</td><td style=\"text-align: right;\">       84600</td><td style=\"text-align: right;\">      0</td><td style=\"text-align: right;\">  84600</td><td style=\"text-align: right;\">      73800</td><td style=\"text-align: right;\">       82800</td><td style=\"text-align: right;\">         0</td><td style=\"text-align: right;\">      81000</td><td style=\"text-align: right;\">     0</td><td style=\"text-align: right;\"> 79200</td><td style=\"text-align: right;\">     77400</td><td style=\"text-align: right;\">      81000</td><td style=\"text-align: right;\">      84600</td><td style=\"text-align: right;\">       81000</td><td style=\"text-align: right;\">          0</td><td style=\"text-align: right;\">           0</td><td style=\"text-align: right;\">   0.902</td></tr>\n",
       "<tr><td style=\"text-align: right;\"> 300</td><td style=\"text-align: right;\"> nan</td><td style=\"text-align: right;\"> 405</td><td style=\"text-align: right;\"> 700</td><td>1970-01-01 01:30:00</td><td style=\"text-align: right;\">  35</td><td style=\"text-align: right;\"> nan</td><td style=\"text-align: right;\">  100</td><td style=\"text-align: right;\">  101</td><td style=\"text-align: right;\">  0.2</td><td style=\"text-align: right;\">  103</td><td style=\"text-align: right;\">  105</td><td style=\"text-align: right;\">  0.2</td><td style=\"text-align: right;\">  200</td><td style=\"text-align: right;\">   50</td><td style=\"text-align: right;\">    9</td><td style=\"text-align: right;\">    5</td><td style=\"text-align: right;\">   70</td><td style=\"text-align: right;\">   78</td><td style=\"text-align: right;\"> 280</td><td style=\"text-align: right;\"> 3.5</td><td style=\"text-align: right;\"> 3.5</td><td style=\"text-align: right;\">  60</td><td style=\"text-align: right;\">  40</td><td style=\"text-align: right;\">  800</td><td style=\"text-align: right;\"> 0.15</td><td style=\"text-align: right;\">  400</td><td>sample_1006</td><td style=\"text-align: right;\">     0</td><td style=\"text-align: right;\">     0</td><td style=\"text-align: right;\"> 82800</td><td style=\"text-align: right;\">  82800</td><td style=\"text-align: right;\">  82800</td><td style=\"text-align: right;\">  82800</td><td style=\"text-align: right;\">      84600</td><td style=\"text-align: right;\">       84600</td><td style=\"text-align: right;\">      0</td><td style=\"text-align: right;\">  84600</td><td style=\"text-align: right;\">      72000</td><td style=\"text-align: right;\">       82800</td><td style=\"text-align: right;\">         0</td><td style=\"text-align: right;\">      81000</td><td style=\"text-align: right;\">     0</td><td style=\"text-align: right;\"> 66600</td><td style=\"text-align: right;\">         0</td><td style=\"text-align: right;\">      81000</td><td style=\"text-align: right;\">      82800</td><td style=\"text-align: right;\">       81000</td><td style=\"text-align: right;\">          0</td><td style=\"text-align: right;\">           0</td><td style=\"text-align: right;\">   0.902</td></tr>\n",
       "<tr><td style=\"text-align: right;\"> 300</td><td style=\"text-align: right;\"> nan</td><td style=\"text-align: right;\"> 405</td><td style=\"text-align: right;\"> 700</td><td>1970-01-01 12:00:00</td><td style=\"text-align: right;\">  35</td><td style=\"text-align: right;\"> nan</td><td style=\"text-align: right;\">  100</td><td style=\"text-align: right;\">  102</td><td style=\"text-align: right;\">  0.2</td><td style=\"text-align: right;\">  103</td><td style=\"text-align: right;\">  105</td><td style=\"text-align: right;\">  0.2</td><td style=\"text-align: right;\">  200</td><td style=\"text-align: right;\">   50</td><td style=\"text-align: right;\">   10</td><td style=\"text-align: right;\">    5</td><td style=\"text-align: right;\">   70</td><td style=\"text-align: right;\">   70</td><td style=\"text-align: right;\"> 290</td><td style=\"text-align: right;\"> 3.5</td><td style=\"text-align: right;\"> 3.5</td><td style=\"text-align: right;\">  65</td><td style=\"text-align: right;\">  45</td><td style=\"text-align: right;\">  800</td><td style=\"text-align: right;\"> 0.15</td><td style=\"text-align: right;\">  400</td><td>sample_1007</td><td style=\"text-align: right;\">     0</td><td style=\"text-align: right;\">     0</td><td style=\"text-align: right;\"> 82800</td><td style=\"text-align: right;\">  82800</td><td style=\"text-align: right;\">  82800</td><td style=\"text-align: right;\">  82800</td><td style=\"text-align: right;\">      84600</td><td style=\"text-align: right;\">       84600</td><td style=\"text-align: right;\">  84600</td><td style=\"text-align: right;\">  84600</td><td style=\"text-align: right;\">      70200</td><td style=\"text-align: right;\">       82800</td><td style=\"text-align: right;\">         0</td><td style=\"text-align: right;\">      82800</td><td style=\"text-align: right;\">     0</td><td style=\"text-align: right;\"> 77400</td><td style=\"text-align: right;\">     79200</td><td style=\"text-align: right;\">      81000</td><td style=\"text-align: right;\">      82800</td><td style=\"text-align: right;\">       81000</td><td style=\"text-align: right;\">          0</td><td style=\"text-align: right;\">           0</td><td style=\"text-align: right;\">   0.902</td></tr>\n",
       "<tr><td style=\"text-align: right;\"> 300</td><td style=\"text-align: right;\"> nan</td><td style=\"text-align: right;\"> 405</td><td style=\"text-align: right;\"> 700</td><td>1970-01-01 22:00:00</td><td style=\"text-align: right;\">  21</td><td style=\"text-align: right;\"> nan</td><td style=\"text-align: right;\">  100</td><td style=\"text-align: right;\">  101</td><td style=\"text-align: right;\">  0.2</td><td style=\"text-align: right;\">  103</td><td style=\"text-align: right;\">  104</td><td style=\"text-align: right;\">  0.2</td><td style=\"text-align: right;\">  200</td><td style=\"text-align: right;\">   50</td><td style=\"text-align: right;\">    9</td><td style=\"text-align: right;\">    5</td><td style=\"text-align: right;\">   70</td><td style=\"text-align: right;\">   78</td><td style=\"text-align: right;\"> 290</td><td style=\"text-align: right;\"> 3.5</td><td style=\"text-align: right;\"> 3.5</td><td style=\"text-align: right;\">  60</td><td style=\"text-align: right;\">  40</td><td style=\"text-align: right;\">  800</td><td style=\"text-align: right;\"> 0.15</td><td style=\"text-align: right;\">  400</td><td>sample_1008</td><td style=\"text-align: right;\">     0</td><td style=\"text-align: right;\">     0</td><td style=\"text-align: right;\"> 81000</td><td style=\"text-align: right;\">  82800</td><td style=\"text-align: right;\">  82800</td><td style=\"text-align: right;\">  82800</td><td style=\"text-align: right;\">      84600</td><td style=\"text-align: right;\">       84600</td><td style=\"text-align: right;\">  84600</td><td style=\"text-align: right;\">  84600</td><td style=\"text-align: right;\">      77400</td><td style=\"text-align: right;\">       82800</td><td style=\"text-align: right;\">     84600</td><td style=\"text-align: right;\">      81000</td><td style=\"text-align: right;\">     0</td><td style=\"text-align: right;\"> 79200</td><td style=\"text-align: right;\">     81000</td><td style=\"text-align: right;\">      81000</td><td style=\"text-align: right;\">          0</td><td style=\"text-align: right;\">       79200</td><td style=\"text-align: right;\">          0</td><td style=\"text-align: right;\">           0</td><td style=\"text-align: right;\">   0.913</td></tr>\n",
       "<tr><td style=\"text-align: right;\"> 300</td><td style=\"text-align: right;\"> nan</td><td style=\"text-align: right;\"> 405</td><td style=\"text-align: right;\"> 700</td><td>1970-01-01 07:00:00</td><td style=\"text-align: right;\">  20</td><td style=\"text-align: right;\"> nan</td><td style=\"text-align: right;\">  100</td><td style=\"text-align: right;\">  101</td><td style=\"text-align: right;\">  0.2</td><td style=\"text-align: right;\">  102</td><td style=\"text-align: right;\">  105</td><td style=\"text-align: right;\">  0.2</td><td style=\"text-align: right;\">  200</td><td style=\"text-align: right;\">   40</td><td style=\"text-align: right;\">    9</td><td style=\"text-align: right;\">    5</td><td style=\"text-align: right;\">   70</td><td style=\"text-align: right;\">   78</td><td style=\"text-align: right;\"> 290</td><td style=\"text-align: right;\"> 3.5</td><td style=\"text-align: right;\"> 3.5</td><td style=\"text-align: right;\">  60</td><td style=\"text-align: right;\">  38</td><td style=\"text-align: right;\">  800</td><td style=\"text-align: right;\"> 0.15</td><td style=\"text-align: right;\">  400</td><td>sample_1009</td><td style=\"text-align: right;\">     0</td><td style=\"text-align: right;\">     0</td><td style=\"text-align: right;\"> 82800</td><td style=\"text-align: right;\">  82800</td><td style=\"text-align: right;\">  82800</td><td style=\"text-align: right;\">  82800</td><td style=\"text-align: right;\">      84600</td><td style=\"text-align: right;\">       84600</td><td style=\"text-align: right;\">  84600</td><td style=\"text-align: right;\">  84600</td><td style=\"text-align: right;\">      73800</td><td style=\"text-align: right;\">       84600</td><td style=\"text-align: right;\">     84600</td><td style=\"text-align: right;\">      81000</td><td style=\"text-align: right;\">     0</td><td style=\"text-align: right;\"> 79200</td><td style=\"text-align: right;\">     75600</td><td style=\"text-align: right;\">      81000</td><td style=\"text-align: right;\">      82800</td><td style=\"text-align: right;\">       81000</td><td style=\"text-align: right;\">          0</td><td style=\"text-align: right;\">           0</td><td style=\"text-align: right;\">   0.902</td></tr>\n",
       "</tbody>\n",
       "</table>"
      ]
     },
     "metadata": {},
     "output_type": "display_data"
    },
    {
     "data": {
      "text/plain": []
     },
     "execution_count": 6,
     "metadata": {},
     "output_type": "execute_result"
    }
   ],
   "source": [
    "train.head()"
   ]
  },
  {
   "cell_type": "code",
   "execution_count": 18,
   "metadata": {},
   "outputs": [],
   "source": [
    "feature_name = [i for i in train.columns if i not in ['id','target']]\n",
    "x = feature_name\n",
    "y = 'target'"
   ]
  },
  {
   "cell_type": "code",
   "execution_count": 8,
   "metadata": {
    "scrolled": true
   },
   "outputs": [
    {
     "data": {
      "text/plain": [
       "['A1',\n",
       " 'A2',\n",
       " 'A3',\n",
       " 'A4',\n",
       " 'A5',\n",
       " 'A6',\n",
       " 'A8',\n",
       " 'A10',\n",
       " 'A12',\n",
       " 'A13',\n",
       " 'A15',\n",
       " 'A17',\n",
       " 'A18',\n",
       " 'A19',\n",
       " 'A21',\n",
       " 'A22',\n",
       " 'A23',\n",
       " 'A25',\n",
       " 'A27',\n",
       " 'B1',\n",
       " 'B2',\n",
       " 'B3',\n",
       " 'B6',\n",
       " 'B8',\n",
       " 'B12',\n",
       " 'B13',\n",
       " 'B14',\n",
       " 'A5_o',\n",
       " 'A7_o',\n",
       " 'A9_o',\n",
       " 'A11_o',\n",
       " 'A14_o',\n",
       " 'A16_o',\n",
       " 'A20_per_o',\n",
       " 'A20_last_o',\n",
       " 'A24_o',\n",
       " 'A26_o',\n",
       " 'A28_per_o',\n",
       " 'A28_last_o',\n",
       " 'B4_per_o',\n",
       " 'B4_last_o',\n",
       " 'B5_o',\n",
       " 'B7_o',\n",
       " 'B9_per_o',\n",
       " 'B9_last_o',\n",
       " 'B10_per_o',\n",
       " 'B10_last_o',\n",
       " 'B11_per_o',\n",
       " 'B11_last_o']"
      ]
     },
     "execution_count": 8,
     "metadata": {},
     "output_type": "execute_result"
    }
   ],
   "source": [
    "feature_name"
   ]
  },
  {
   "cell_type": "code",
   "execution_count": 19,
   "metadata": {},
   "outputs": [
    {
     "name": "stdout",
     "output_type": "stream",
     "text": [
      "AutoML progress: |████████████████████████████████████████████████████████| 100%\n"
     ]
    }
   ],
   "source": [
    "aml = H2OAutoML(max_models=320, seed=2019, max_runtime_secs=60)\n",
    "#aml.train(x=feature_name, y=y, training_frame=train, leaderboard_frame=test)\n",
    "aml.train(x=feature_name, y=y, training_frame=train)"
   ]
  },
  {
   "cell_type": "code",
   "execution_count": 20,
   "metadata": {},
   "outputs": [
    {
     "name": "stdout",
     "output_type": "stream",
     "text": [
      "gbm prediction progress: |████████████████████████████████████████████████| 100%\n"
     ]
    },
    {
     "data": {
      "text/html": [
       "<table>\n",
       "<thead>\n",
       "<tr><th style=\"text-align: right;\">  predict</th></tr>\n",
       "</thead>\n",
       "<tbody>\n",
       "<tr><td style=\"text-align: right;\"> 0.930377</td></tr>\n",
       "<tr><td style=\"text-align: right;\"> 0.905193</td></tr>\n",
       "<tr><td style=\"text-align: right;\"> 0.937515</td></tr>\n",
       "<tr><td style=\"text-align: right;\"> 0.928733</td></tr>\n",
       "<tr><td style=\"text-align: right;\"> 0.931634</td></tr>\n",
       "<tr><td style=\"text-align: right;\"> 0.929525</td></tr>\n",
       "<tr><td style=\"text-align: right;\"> 0.935244</td></tr>\n",
       "<tr><td style=\"text-align: right;\"> 0.927185</td></tr>\n",
       "<tr><td style=\"text-align: right;\"> 0.936103</td></tr>\n",
       "<tr><td style=\"text-align: right;\"> 0.92867 </td></tr>\n",
       "<tr><td style=\"text-align: right;\"> 0.929028</td></tr>\n",
       "<tr><td style=\"text-align: right;\"> 0.928603</td></tr>\n",
       "<tr><td style=\"text-align: right;\"> 0.92692 </td></tr>\n",
       "<tr><td style=\"text-align: right;\"> 0.928594</td></tr>\n",
       "<tr><td style=\"text-align: right;\"> 0.90937 </td></tr>\n",
       "<tr><td style=\"text-align: right;\"> 0.929525</td></tr>\n",
       "<tr><td style=\"text-align: right;\"> 0.903625</td></tr>\n",
       "<tr><td style=\"text-align: right;\"> 0.915965</td></tr>\n",
       "<tr><td style=\"text-align: right;\"> 0.927582</td></tr>\n",
       "<tr><td style=\"text-align: right;\"> 0.931782</td></tr>\n",
       "<tr><td style=\"text-align: right;\"> 0.929944</td></tr>\n",
       "<tr><td style=\"text-align: right;\"> 0.929802</td></tr>\n",
       "<tr><td style=\"text-align: right;\"> 0.934166</td></tr>\n",
       "<tr><td style=\"text-align: right;\"> 0.930021</td></tr>\n",
       "<tr><td style=\"text-align: right;\"> 0.932034</td></tr>\n",
       "<tr><td style=\"text-align: right;\"> 0.937021</td></tr>\n",
       "<tr><td style=\"text-align: right;\"> 0.899644</td></tr>\n",
       "<tr><td style=\"text-align: right;\"> 0.935225</td></tr>\n",
       "<tr><td style=\"text-align: right;\"> 0.929892</td></tr>\n",
       "<tr><td style=\"text-align: right;\"> 0.916627</td></tr>\n",
       "<tr><td style=\"text-align: right;\"> 0.931145</td></tr>\n",
       "<tr><td style=\"text-align: right;\"> 0.915427</td></tr>\n",
       "<tr><td style=\"text-align: right;\"> 0.931118</td></tr>\n",
       "<tr><td style=\"text-align: right;\"> 0.91941 </td></tr>\n",
       "<tr><td style=\"text-align: right;\"> 0.928335</td></tr>\n",
       "<tr><td style=\"text-align: right;\"> 0.903013</td></tr>\n",
       "<tr><td style=\"text-align: right;\"> 0.928733</td></tr>\n",
       "<tr><td style=\"text-align: right;\"> 0.909167</td></tr>\n",
       "<tr><td style=\"text-align: right;\"> 0.917239</td></tr>\n",
       "<tr><td style=\"text-align: right;\"> 0.914083</td></tr>\n",
       "<tr><td style=\"text-align: right;\"> 0.909002</td></tr>\n",
       "<tr><td style=\"text-align: right;\"> 0.934837</td></tr>\n",
       "<tr><td style=\"text-align: right;\"> 0.931513</td></tr>\n",
       "<tr><td style=\"text-align: right;\"> 0.935979</td></tr>\n",
       "<tr><td style=\"text-align: right;\"> 0.914908</td></tr>\n",
       "<tr><td style=\"text-align: right;\"> 0.902931</td></tr>\n",
       "<tr><td style=\"text-align: right;\"> 0.929706</td></tr>\n",
       "<tr><td style=\"text-align: right;\"> 0.904942</td></tr>\n",
       "<tr><td style=\"text-align: right;\"> 0.923334</td></tr>\n",
       "<tr><td style=\"text-align: right;\"> 0.928335</td></tr>\n",
       "<tr><td style=\"text-align: right;\"> 0.915533</td></tr>\n",
       "<tr><td style=\"text-align: right;\"> 0.931866</td></tr>\n",
       "<tr><td style=\"text-align: right;\"> 0.917405</td></tr>\n",
       "<tr><td style=\"text-align: right;\"> 0.929861</td></tr>\n",
       "<tr><td style=\"text-align: right;\"> 0.904478</td></tr>\n",
       "<tr><td style=\"text-align: right;\"> 0.936265</td></tr>\n",
       "<tr><td style=\"text-align: right;\"> 0.929525</td></tr>\n",
       "<tr><td style=\"text-align: right;\"> 0.904481</td></tr>\n",
       "<tr><td style=\"text-align: right;\"> 0.927464</td></tr>\n",
       "<tr><td style=\"text-align: right;\"> 0.937021</td></tr>\n",
       "<tr><td style=\"text-align: right;\"> 0.935949</td></tr>\n",
       "<tr><td style=\"text-align: right;\"> 0.923277</td></tr>\n",
       "<tr><td style=\"text-align: right;\"> 0.928733</td></tr>\n",
       "<tr><td style=\"text-align: right;\"> 0.917799</td></tr>\n",
       "<tr><td style=\"text-align: right;\"> 0.931504</td></tr>\n",
       "<tr><td style=\"text-align: right;\"> 0.931937</td></tr>\n",
       "<tr><td style=\"text-align: right;\"> 0.904577</td></tr>\n",
       "<tr><td style=\"text-align: right;\"> 0.915807</td></tr>\n",
       "<tr><td style=\"text-align: right;\"> 0.922776</td></tr>\n",
       "<tr><td style=\"text-align: right;\"> 0.929525</td></tr>\n",
       "<tr><td style=\"text-align: right;\"> 0.91595 </td></tr>\n",
       "<tr><td style=\"text-align: right;\"> 0.937208</td></tr>\n",
       "<tr><td style=\"text-align: right;\"> 0.930333</td></tr>\n",
       "<tr><td style=\"text-align: right;\"> 0.900439</td></tr>\n",
       "<tr><td style=\"text-align: right;\"> 0.932467</td></tr>\n",
       "<tr><td style=\"text-align: right;\"> 0.936103</td></tr>\n",
       "<tr><td style=\"text-align: right;\"> 0.930391</td></tr>\n",
       "<tr><td style=\"text-align: right;\"> 0.936103</td></tr>\n",
       "<tr><td style=\"text-align: right;\"> 0.905999</td></tr>\n",
       "<tr><td style=\"text-align: right;\"> 0.914582</td></tr>\n",
       "<tr><td style=\"text-align: right;\"> 0.903491</td></tr>\n",
       "<tr><td style=\"text-align: right;\"> 0.935979</td></tr>\n",
       "<tr><td style=\"text-align: right;\"> 0.932989</td></tr>\n",
       "<tr><td style=\"text-align: right;\"> 0.919075</td></tr>\n",
       "<tr><td style=\"text-align: right;\"> 0.931656</td></tr>\n",
       "<tr><td style=\"text-align: right;\"> 0.904061</td></tr>\n",
       "<tr><td style=\"text-align: right;\"> 0.928594</td></tr>\n",
       "<tr><td style=\"text-align: right;\"> 0.928834</td></tr>\n",
       "<tr><td style=\"text-align: right;\"> 0.928594</td></tr>\n",
       "<tr><td style=\"text-align: right;\"> 0.929525</td></tr>\n",
       "<tr><td style=\"text-align: right;\"> 0.90858 </td></tr>\n",
       "<tr><td style=\"text-align: right;\"> 0.918078</td></tr>\n",
       "<tr><td style=\"text-align: right;\"> 0.918434</td></tr>\n",
       "<tr><td style=\"text-align: right;\"> 0.920102</td></tr>\n",
       "<tr><td style=\"text-align: right;\"> 0.914824</td></tr>\n",
       "<tr><td style=\"text-align: right;\"> 0.932028</td></tr>\n",
       "<tr><td style=\"text-align: right;\"> 0.919819</td></tr>\n",
       "<tr><td style=\"text-align: right;\"> 0.90154 </td></tr>\n",
       "<tr><td style=\"text-align: right;\"> 0.926035</td></tr>\n",
       "<tr><td style=\"text-align: right;\"> 0.924919</td></tr>\n",
       "<tr><td style=\"text-align: right;\"> 0.930923</td></tr>\n",
       "<tr><td style=\"text-align: right;\"> 0.927582</td></tr>\n",
       "<tr><td style=\"text-align: right;\"> 0.930185</td></tr>\n",
       "<tr><td style=\"text-align: right;\"> 0.929525</td></tr>\n",
       "<tr><td style=\"text-align: right;\"> 0.928594</td></tr>\n",
       "<tr><td style=\"text-align: right;\"> 0.927948</td></tr>\n",
       "<tr><td style=\"text-align: right;\"> 0.905337</td></tr>\n",
       "<tr><td style=\"text-align: right;\"> 0.907655</td></tr>\n",
       "<tr><td style=\"text-align: right;\"> 0.929944</td></tr>\n",
       "<tr><td style=\"text-align: right;\"> 0.937208</td></tr>\n",
       "<tr><td style=\"text-align: right;\"> 0.936491</td></tr>\n",
       "<tr><td style=\"text-align: right;\"> 0.935979</td></tr>\n",
       "<tr><td style=\"text-align: right;\"> 0.928594</td></tr>\n",
       "<tr><td style=\"text-align: right;\"> 0.924109</td></tr>\n",
       "<tr><td style=\"text-align: right;\"> 0.928616</td></tr>\n",
       "<tr><td style=\"text-align: right;\"> 0.918875</td></tr>\n",
       "<tr><td style=\"text-align: right;\"> 0.925141</td></tr>\n",
       "<tr><td style=\"text-align: right;\"> 0.931866</td></tr>\n",
       "<tr><td style=\"text-align: right;\"> 0.925437</td></tr>\n",
       "<tr><td style=\"text-align: right;\"> 0.932719</td></tr>\n",
       "<tr><td style=\"text-align: right;\"> 0.926723</td></tr>\n",
       "<tr><td style=\"text-align: right;\"> 0.905061</td></tr>\n",
       "<tr><td style=\"text-align: right;\"> 0.924989</td></tr>\n",
       "<tr><td style=\"text-align: right;\"> 0.934749</td></tr>\n",
       "<tr><td style=\"text-align: right;\"> 0.935979</td></tr>\n",
       "<tr><td style=\"text-align: right;\"> 0.931971</td></tr>\n",
       "<tr><td style=\"text-align: right;\"> 0.927104</td></tr>\n",
       "<tr><td style=\"text-align: right;\"> 0.928335</td></tr>\n",
       "<tr><td style=\"text-align: right;\"> 0.930405</td></tr>\n",
       "<tr><td style=\"text-align: right;\"> 0.924891</td></tr>\n",
       "<tr><td style=\"text-align: right;\"> 0.929454</td></tr>\n",
       "<tr><td style=\"text-align: right;\"> 0.928498</td></tr>\n",
       "<tr><td style=\"text-align: right;\"> 0.936103</td></tr>\n",
       "<tr><td style=\"text-align: right;\"> 0.924988</td></tr>\n",
       "<tr><td style=\"text-align: right;\"> 0.93769 </td></tr>\n",
       "<tr><td style=\"text-align: right;\"> 0.922247</td></tr>\n",
       "<tr><td style=\"text-align: right;\"> 0.925298</td></tr>\n",
       "<tr><td style=\"text-align: right;\"> 0.937665</td></tr>\n",
       "<tr><td style=\"text-align: right;\"> 0.924198</td></tr>\n",
       "<tr><td style=\"text-align: right;\"> 0.900901</td></tr>\n",
       "<tr><td style=\"text-align: right;\"> 0.937208</td></tr>\n",
       "<tr><td style=\"text-align: right;\"> 0.93711 </td></tr>\n",
       "<tr><td style=\"text-align: right;\"> 0.928733</td></tr>\n",
       "<tr><td style=\"text-align: right;\"> 0.906232</td></tr>\n",
       "<tr><td style=\"text-align: right;\"> 0.917407</td></tr>\n",
       "<tr><td style=\"text-align: right;\"> 0.925075</td></tr>\n",
       "<tr><td style=\"text-align: right;\"> 0.936801</td></tr>\n",
       "<tr><td style=\"text-align: right;\"> 0.920049</td></tr>\n",
       "<tr><td style=\"text-align: right;\"> 0.915219</td></tr>\n",
       "<tr><td style=\"text-align: right;\"> 0.922417</td></tr>\n",
       "</tbody>\n",
       "</table>"
      ]
     },
     "metadata": {},
     "output_type": "display_data"
    },
    {
     "data": {
      "text/plain": []
     },
     "execution_count": 20,
     "metadata": {},
     "output_type": "execute_result"
    }
   ],
   "source": [
    "automl_predictions = aml.predict(test)\n",
    "automl_predictions.head(rows=150, cols=1)"
   ]
  },
  {
   "cell_type": "code",
   "execution_count": 11,
   "metadata": {},
   "outputs": [
    {
     "data": {
      "text/html": [
       "<table>\n",
       "<thead>\n",
       "<tr><th>model_id                                           </th><th style=\"text-align: right;\">  mean_residual_deviance</th><th style=\"text-align: right;\">       rmse</th><th style=\"text-align: right;\">        mse</th><th style=\"text-align: right;\">        mae</th><th style=\"text-align: right;\">    rmsle</th></tr>\n",
       "</thead>\n",
       "<tbody>\n",
       "<tr><td>StackedEnsemble_AllModels_AutoML_20190112_010355   </td><td style=\"text-align: right;\">             0.000662353</td><td style=\"text-align: right;\">0.0257362  </td><td style=\"text-align: right;\">0.000662353</td><td style=\"text-align: right;\">0.0204465  </td><td style=\"text-align: right;\">0.0133197</td></tr>\n",
       "<tr><td>StackedEnsemble_BestOfFamily_AutoML_20190112_010355</td><td style=\"text-align: right;\">             0.00066275 </td><td style=\"text-align: right;\">0.0257439  </td><td style=\"text-align: right;\">0.00066275 </td><td style=\"text-align: right;\">0.0204515  </td><td style=\"text-align: right;\">0.0133232</td></tr>\n",
       "<tr><td>GBM_grid_1_AutoML_20190112_010355_model_19         </td><td style=\"text-align: right;\">             0.00066402 </td><td style=\"text-align: right;\">0.0257686  </td><td style=\"text-align: right;\">0.00066402 </td><td style=\"text-align: right;\">0.0205642  </td><td style=\"text-align: right;\">0.013336 </td></tr>\n",
       "<tr><td>GBM_grid_1_AutoML_20190112_010355_model_14         </td><td style=\"text-align: right;\">             0.000664719</td><td style=\"text-align: right;\">0.0257821  </td><td style=\"text-align: right;\">0.000664719</td><td style=\"text-align: right;\">0.0205103  </td><td style=\"text-align: right;\">0.0133427</td></tr>\n",
       "<tr><td>GBM_grid_1_AutoML_20190112_010355_model_1          </td><td style=\"text-align: right;\">             0.000665215</td><td style=\"text-align: right;\">0.0257918  </td><td style=\"text-align: right;\">0.000665215</td><td style=\"text-align: right;\">0.0203724  </td><td style=\"text-align: right;\">0.0133502</td></tr>\n",
       "<tr><td>GBM_5_AutoML_20190112_010355                       </td><td style=\"text-align: right;\">             0.000665792</td><td style=\"text-align: right;\">0.025803   </td><td style=\"text-align: right;\">0.000665792</td><td style=\"text-align: right;\">0.0205608  </td><td style=\"text-align: right;\">0.0133543</td></tr>\n",
       "<tr><td>GBM_grid_1_AutoML_20190112_010355_model_9          </td><td style=\"text-align: right;\">             0.000671496</td><td style=\"text-align: right;\">0.0259132  </td><td style=\"text-align: right;\">0.000671496</td><td style=\"text-align: right;\">0.0206292  </td><td style=\"text-align: right;\">0.0134122</td></tr>\n",
       "<tr><td>GBM_1_AutoML_20190112_010355                       </td><td style=\"text-align: right;\">             0.000680684</td><td style=\"text-align: right;\">0.0260899  </td><td style=\"text-align: right;\">0.000680684</td><td style=\"text-align: right;\">0.0205785  </td><td style=\"text-align: right;\">0.0135032</td></tr>\n",
       "<tr><td>GBM_grid_1_AutoML_20190112_010355_model_10         </td><td style=\"text-align: right;\">             0.000682172</td><td style=\"text-align: right;\">0.0261184  </td><td style=\"text-align: right;\">0.000682172</td><td style=\"text-align: right;\">0.0206567  </td><td style=\"text-align: right;\">0.0135194</td></tr>\n",
       "<tr><td>GBM_2_AutoML_20190112_010355                       </td><td style=\"text-align: right;\">             0.000683461</td><td style=\"text-align: right;\">0.0261431  </td><td style=\"text-align: right;\">0.000683461</td><td style=\"text-align: right;\">0.020695   </td><td style=\"text-align: right;\">0.0135336</td></tr>\n",
       "<tr><td>GBM_grid_1_AutoML_20190112_010355_model_20         </td><td style=\"text-align: right;\">             0.000684606</td><td style=\"text-align: right;\">0.026165   </td><td style=\"text-align: right;\">0.000684606</td><td style=\"text-align: right;\">0.020693   </td><td style=\"text-align: right;\">0.0135436</td></tr>\n",
       "<tr><td>GBM_3_AutoML_20190112_010355                       </td><td style=\"text-align: right;\">             0.00068568 </td><td style=\"text-align: right;\">0.0261855  </td><td style=\"text-align: right;\">0.00068568 </td><td style=\"text-align: right;\">0.0206977  </td><td style=\"text-align: right;\">0.0135551</td></tr>\n",
       "<tr><td>GBM_4_AutoML_20190112_010355                       </td><td style=\"text-align: right;\">             0.000689185</td><td style=\"text-align: right;\">0.0262523  </td><td style=\"text-align: right;\">0.000689185</td><td style=\"text-align: right;\">0.0207456  </td><td style=\"text-align: right;\">0.01359  </td></tr>\n",
       "<tr><td>GLM_grid_1_AutoML_20190112_010355_model_1          </td><td style=\"text-align: right;\">             0.000707079</td><td style=\"text-align: right;\">0.026591   </td><td style=\"text-align: right;\">0.000707079</td><td style=\"text-align: right;\">0.0214145  </td><td style=\"text-align: right;\">0.0137639</td></tr>\n",
       "<tr><td>GBM_grid_1_AutoML_20190112_010355_model_8          </td><td style=\"text-align: right;\">             0.000717734</td><td style=\"text-align: right;\">0.0267906  </td><td style=\"text-align: right;\">0.000717734</td><td style=\"text-align: right;\">0.0216554  </td><td style=\"text-align: right;\">0.0138704</td></tr>\n",
       "<tr><td>DeepLearning_grid_1_AutoML_20190112_010355_model_2 </td><td style=\"text-align: right;\">             0.000722582</td><td style=\"text-align: right;\">0.0268809  </td><td style=\"text-align: right;\">0.000722582</td><td style=\"text-align: right;\">0.0212041  </td><td style=\"text-align: right;\">0.0139186</td></tr>\n",
       "<tr><td>GBM_grid_1_AutoML_20190112_010355_model_7          </td><td style=\"text-align: right;\">             0.000727195</td><td style=\"text-align: right;\">0.0269666  </td><td style=\"text-align: right;\">0.000727195</td><td style=\"text-align: right;\">0.0218501  </td><td style=\"text-align: right;\">0.0139625</td></tr>\n",
       "<tr><td>XRT_1_AutoML_20190112_010355                       </td><td style=\"text-align: right;\">             0.000740511</td><td style=\"text-align: right;\">0.0272123  </td><td style=\"text-align: right;\">0.000740511</td><td style=\"text-align: right;\">0.0213122  </td><td style=\"text-align: right;\">0.0140879</td></tr>\n",
       "<tr><td>GBM_grid_1_AutoML_20190112_010355_model_6          </td><td style=\"text-align: right;\">             0.000744188</td><td style=\"text-align: right;\">0.0272798  </td><td style=\"text-align: right;\">0.000744188</td><td style=\"text-align: right;\">0.0221676  </td><td style=\"text-align: right;\">0.0141264</td></tr>\n",
       "<tr><td>GBM_grid_1_AutoML_20190112_010355_model_16         </td><td style=\"text-align: right;\">             0.000745445</td><td style=\"text-align: right;\">0.0273028  </td><td style=\"text-align: right;\">0.000745445</td><td style=\"text-align: right;\">0.0222104  </td><td style=\"text-align: right;\">0.0141384</td></tr>\n",
       "<tr><td>GBM_grid_1_AutoML_20190112_010355_model_4          </td><td style=\"text-align: right;\">             0.000759081</td><td style=\"text-align: right;\">0.0275514  </td><td style=\"text-align: right;\">0.000759081</td><td style=\"text-align: right;\">0.0225006  </td><td style=\"text-align: right;\">0.0142684</td></tr>\n",
       "<tr><td>DRF_1_AutoML_20190112_010355                       </td><td style=\"text-align: right;\">             0.000762826</td><td style=\"text-align: right;\">0.0276193  </td><td style=\"text-align: right;\">0.000762826</td><td style=\"text-align: right;\">0.0217831  </td><td style=\"text-align: right;\">0.0143019</td></tr>\n",
       "<tr><td>GBM_grid_1_AutoML_20190112_010355_model_17         </td><td style=\"text-align: right;\">             0.000762949</td><td style=\"text-align: right;\">0.0276215  </td><td style=\"text-align: right;\">0.000762949</td><td style=\"text-align: right;\">0.0225945  </td><td style=\"text-align: right;\">0.0143051</td></tr>\n",
       "<tr><td>GBM_grid_1_AutoML_20190112_010355_model_13         </td><td style=\"text-align: right;\">             0.000773039</td><td style=\"text-align: right;\">0.0278036  </td><td style=\"text-align: right;\">0.000773039</td><td style=\"text-align: right;\">0.0227122  </td><td style=\"text-align: right;\">0.0144   </td></tr>\n",
       "<tr><td>GBM_grid_1_AutoML_20190112_010355_model_2          </td><td style=\"text-align: right;\">             0.000775037</td><td style=\"text-align: right;\">0.0278395  </td><td style=\"text-align: right;\">0.000775037</td><td style=\"text-align: right;\">0.0227373  </td><td style=\"text-align: right;\">0.0144186</td></tr>\n",
       "<tr><td>GBM_grid_1_AutoML_20190112_010355_model_3          </td><td style=\"text-align: right;\">             0.000799556</td><td style=\"text-align: right;\">0.0282764  </td><td style=\"text-align: right;\">0.000799556</td><td style=\"text-align: right;\">0.023216   </td><td style=\"text-align: right;\">0.0146469</td></tr>\n",
       "<tr><td>GBM_grid_1_AutoML_20190112_010355_model_5          </td><td style=\"text-align: right;\">             0.000799599</td><td style=\"text-align: right;\">0.0282772  </td><td style=\"text-align: right;\">0.000799599</td><td style=\"text-align: right;\">0.0232169  </td><td style=\"text-align: right;\">0.0146472</td></tr>\n",
       "<tr><td>GBM_grid_1_AutoML_20190112_010355_model_18         </td><td style=\"text-align: right;\">             0.000800016</td><td style=\"text-align: right;\">0.0282846  </td><td style=\"text-align: right;\">0.000800016</td><td style=\"text-align: right;\">0.0232208  </td><td style=\"text-align: right;\">0.0146511</td></tr>\n",
       "<tr><td>DeepLearning_1_AutoML_20190112_010355              </td><td style=\"text-align: right;\">             0.000814341</td><td style=\"text-align: right;\">0.0285367  </td><td style=\"text-align: right;\">0.000814341</td><td style=\"text-align: right;\">0.0217595  </td><td style=\"text-align: right;\">0.0149853</td></tr>\n",
       "<tr><td>GBM_grid_1_AutoML_20190112_010355_model_15         </td><td style=\"text-align: right;\">             0.000856565</td><td style=\"text-align: right;\">0.0292671  </td><td style=\"text-align: right;\">0.000856565</td><td style=\"text-align: right;\">0.0231096  </td><td style=\"text-align: right;\">0.0151674</td></tr>\n",
       "<tr><td>GBM_grid_1_AutoML_20190112_010355_model_11         </td><td style=\"text-align: right;\">             0.000894873</td><td style=\"text-align: right;\">0.0299144  </td><td style=\"text-align: right;\">0.000894873</td><td style=\"text-align: right;\">0.0237778  </td><td style=\"text-align: right;\">0.0155095</td></tr>\n",
       "<tr><td>GBM_grid_1_AutoML_20190112_010355_model_12         </td><td style=\"text-align: right;\">             0.00149852 </td><td style=\"text-align: right;\">0.0387107  </td><td style=\"text-align: right;\">0.00149852 </td><td style=\"text-align: right;\">0.0304256  </td><td style=\"text-align: right;\">0.0200918</td></tr>\n",
       "<tr><td>DeepLearning_grid_1_AutoML_20190112_010355_model_1 </td><td style=\"text-align: right;\">             6.39723e+22</td><td style=\"text-align: right;\">2.52927e+11</td><td style=\"text-align: right;\">6.39723e+22</td><td style=\"text-align: right;\">6.83838e+09</td><td style=\"text-align: right;\">0.790431 </td></tr>\n",
       "</tbody>\n",
       "</table>"
      ]
     },
     "metadata": {},
     "output_type": "display_data"
    },
    {
     "data": {
      "text/plain": []
     },
     "execution_count": 11,
     "metadata": {},
     "output_type": "execute_result"
    }
   ],
   "source": [
    "lb = aml.leaderboard\n",
    "lb.head(rows=lb.nrows)"
   ]
  },
  {
   "cell_type": "code",
   "execution_count": 28,
   "metadata": {},
   "outputs": [
    {
     "name": "stdout",
     "output_type": "stream",
     "text": [
      "Model Details\n",
      "=============\n",
      "H2OStackedEnsembleEstimator :  Stacked Ensemble\n",
      "Model Key:  StackedEnsemble_AllModels_AutoML_20190110_120658\n",
      "No model summary for this model\n",
      "\n",
      "\n",
      "ModelMetricsRegressionGLM: stackedensemble\n",
      "** Reported on train data. **\n",
      "\n",
      "MSE: 9.716535239498877e-05\n",
      "RMSE: 0.009857248723400904\n",
      "MAE: 0.007091659915052013\n",
      "RMSLE: 0.005101946532386582\n",
      "R^2: 0.8795073723011559\n",
      "Mean Residual Deviance: 9.716535239498877e-05\n",
      "Null degrees of freedom: 1380\n",
      "Residual degrees of freedom: 1371\n",
      "Null deviance: 1.1136395165360133\n",
      "Residual deviance: 0.1341853516574795\n",
      "AIC: -8818.083853957432\n",
      "\n",
      "ModelMetricsRegressionGLM: stackedensemble\n",
      "** Reported on cross-validation data. **\n",
      "\n",
      "MSE: 0.00019396523959161393\n",
      "RMSE: 0.013927140395343688\n",
      "MAE: 0.01015580633562329\n",
      "RMSLE: 0.007218808292789458\n",
      "R^2: 0.7594679499970829\n",
      "Mean Residual Deviance: 0.00019396523959161393\n",
      "Null degrees of freedom: 1380\n",
      "Residual degrees of freedom: 1372\n",
      "Null deviance: 1.1163126684125588\n",
      "Residual deviance: 0.26786599587601884\n",
      "AIC: -7865.447200279772\n"
     ]
    },
    {
     "data": {
      "text/plain": []
     },
     "execution_count": 28,
     "metadata": {},
     "output_type": "execute_result"
    }
   ],
   "source": [
    "aml.leader"
   ]
  },
  {
   "cell_type": "code",
   "execution_count": 29,
   "metadata": {},
   "outputs": [
    {
     "data": {
      "text/plain": [
       "<h2o.automl.autoh2o.H2OAutoML at 0xf1c5898>"
      ]
     },
     "execution_count": 29,
     "metadata": {},
     "output_type": "execute_result"
    }
   ],
   "source": [
    "aml"
   ]
  },
  {
   "cell_type": "code",
   "execution_count": null,
   "metadata": {},
   "outputs": [],
   "source": []
  },
  {
   "cell_type": "code",
   "execution_count": 30,
   "metadata": {},
   "outputs": [
    {
     "name": "stdout",
     "output_type": "stream",
     "text": [
      "stackedensemble prediction progress: |████████████████████████████████████| 100%\n"
     ]
    }
   ],
   "source": [
    "automl_predictions = aml.predict(test).as_data_frame().values.flatten()"
   ]
  },
  {
   "cell_type": "code",
   "execution_count": 12,
   "metadata": {},
   "outputs": [
    {
     "name": "stdout",
     "output_type": "stream",
     "text": [
      "stackedensemble prediction progress: |████████████████████████████████████| 100%\n"
     ]
    }
   ],
   "source": [
    "automl_predictions = aml.predict(test)"
   ]
  },
  {
   "cell_type": "code",
   "execution_count": 13,
   "metadata": {},
   "outputs": [
    {
     "data": {
      "text/html": [
       "<table>\n",
       "<thead>\n",
       "<tr><th style=\"text-align: right;\">  predict</th></tr>\n",
       "</thead>\n",
       "<tbody>\n",
       "<tr><td style=\"text-align: right;\"> 0.933028</td></tr>\n",
       "<tr><td style=\"text-align: right;\"> 0.898071</td></tr>\n",
       "<tr><td style=\"text-align: right;\"> 0.938293</td></tr>\n",
       "<tr><td style=\"text-align: right;\"> 0.930748</td></tr>\n",
       "<tr><td style=\"text-align: right;\"> 0.932339</td></tr>\n",
       "<tr><td style=\"text-align: right;\"> 0.929042</td></tr>\n",
       "<tr><td style=\"text-align: right;\"> 0.938805</td></tr>\n",
       "<tr><td style=\"text-align: right;\"> 0.926341</td></tr>\n",
       "<tr><td style=\"text-align: right;\"> 0.938058</td></tr>\n",
       "<tr><td style=\"text-align: right;\"> 0.927858</td></tr>\n",
       "</tbody>\n",
       "</table>"
      ]
     },
     "metadata": {},
     "output_type": "display_data"
    },
    {
     "data": {
      "text/plain": []
     },
     "execution_count": 13,
     "metadata": {},
     "output_type": "execute_result"
    }
   ],
   "source": [
    "automl_predictions"
   ]
  },
  {
   "cell_type": "code",
   "execution_count": 33,
   "metadata": {},
   "outputs": [
    {
     "ename": "TypeError",
     "evalue": "'tuple' object is not callable",
     "output_type": "error",
     "traceback": [
      "\u001b[1;31m---------------------------------------------------------------------------\u001b[0m",
      "\u001b[1;31mTypeError\u001b[0m                                 Traceback (most recent call last)",
      "\u001b[1;32m<ipython-input-33-bb80cfeb0e22>\u001b[0m in \u001b[0;36m<module>\u001b[1;34m()\u001b[0m\n\u001b[1;32m----> 1\u001b[1;33m \u001b[0maaa\u001b[0m \u001b[1;33m=\u001b[0m \u001b[0mautoml_predictions\u001b[0m\u001b[1;33m.\u001b[0m\u001b[0mshape\u001b[0m\u001b[1;33m(\u001b[0m\u001b[1;33m)\u001b[0m\u001b[1;33m\u001b[0m\u001b[0m\n\u001b[0m",
      "\u001b[1;31mTypeError\u001b[0m: 'tuple' object is not callable"
     ]
    }
   ],
   "source": [
    "aaa = automl_predictions.shape()"
   ]
  },
  {
   "cell_type": "code",
   "execution_count": 14,
   "metadata": {},
   "outputs": [],
   "source": [
    "aa = automl_predictions.head(rows=150, cols=1)"
   ]
  },
  {
   "cell_type": "code",
   "execution_count": 15,
   "metadata": {},
   "outputs": [
    {
     "data": {
      "text/plain": [
       "h2o.frame.H2OFrame"
      ]
     },
     "execution_count": 15,
     "metadata": {},
     "output_type": "execute_result"
    }
   ],
   "source": [
    "type(aa)"
   ]
  },
  {
   "cell_type": "code",
   "execution_count": 16,
   "metadata": {},
   "outputs": [
    {
     "data": {
      "text/html": [
       "<table>\n",
       "<thead>\n",
       "<tr><th style=\"text-align: right;\">  predict</th></tr>\n",
       "</thead>\n",
       "<tbody>\n",
       "<tr><td style=\"text-align: right;\"> 0.933028</td></tr>\n",
       "<tr><td style=\"text-align: right;\"> 0.898071</td></tr>\n",
       "<tr><td style=\"text-align: right;\"> 0.938293</td></tr>\n",
       "<tr><td style=\"text-align: right;\"> 0.930748</td></tr>\n",
       "<tr><td style=\"text-align: right;\"> 0.932339</td></tr>\n",
       "<tr><td style=\"text-align: right;\"> 0.929042</td></tr>\n",
       "<tr><td style=\"text-align: right;\"> 0.938805</td></tr>\n",
       "<tr><td style=\"text-align: right;\"> 0.926341</td></tr>\n",
       "<tr><td style=\"text-align: right;\"> 0.938058</td></tr>\n",
       "<tr><td style=\"text-align: right;\"> 0.927858</td></tr>\n",
       "<tr><td style=\"text-align: right;\"> 0.929755</td></tr>\n",
       "<tr><td style=\"text-align: right;\"> 0.929277</td></tr>\n",
       "<tr><td style=\"text-align: right;\"> 0.927349</td></tr>\n",
       "<tr><td style=\"text-align: right;\"> 0.930317</td></tr>\n",
       "<tr><td style=\"text-align: right;\"> 0.90384 </td></tr>\n",
       "<tr><td style=\"text-align: right;\"> 0.930233</td></tr>\n",
       "<tr><td style=\"text-align: right;\"> 0.899173</td></tr>\n",
       "<tr><td style=\"text-align: right;\"> 0.917697</td></tr>\n",
       "<tr><td style=\"text-align: right;\"> 0.927863</td></tr>\n",
       "<tr><td style=\"text-align: right;\"> 0.928511</td></tr>\n",
       "<tr><td style=\"text-align: right;\"> 0.930813</td></tr>\n",
       "<tr><td style=\"text-align: right;\"> 0.932636</td></tr>\n",
       "<tr><td style=\"text-align: right;\"> 0.937865</td></tr>\n",
       "<tr><td style=\"text-align: right;\"> 0.928771</td></tr>\n",
       "<tr><td style=\"text-align: right;\"> 0.933414</td></tr>\n",
       "<tr><td style=\"text-align: right;\"> 0.939265</td></tr>\n",
       "<tr><td style=\"text-align: right;\"> 0.899295</td></tr>\n",
       "<tr><td style=\"text-align: right;\"> 0.935005</td></tr>\n",
       "<tr><td style=\"text-align: right;\"> 0.932191</td></tr>\n",
       "<tr><td style=\"text-align: right;\"> 0.910534</td></tr>\n",
       "<tr><td style=\"text-align: right;\"> 0.931727</td></tr>\n",
       "<tr><td style=\"text-align: right;\"> 0.91066 </td></tr>\n",
       "<tr><td style=\"text-align: right;\"> 0.930767</td></tr>\n",
       "<tr><td style=\"text-align: right;\"> 0.915591</td></tr>\n",
       "<tr><td style=\"text-align: right;\"> 0.929175</td></tr>\n",
       "<tr><td style=\"text-align: right;\"> 0.898578</td></tr>\n",
       "<tr><td style=\"text-align: right;\"> 0.930748</td></tr>\n",
       "<tr><td style=\"text-align: right;\"> 0.915159</td></tr>\n",
       "<tr><td style=\"text-align: right;\"> 0.916315</td></tr>\n",
       "<tr><td style=\"text-align: right;\"> 0.908795</td></tr>\n",
       "<tr><td style=\"text-align: right;\"> 0.909272</td></tr>\n",
       "<tr><td style=\"text-align: right;\"> 0.938509</td></tr>\n",
       "<tr><td style=\"text-align: right;\"> 0.932994</td></tr>\n",
       "<tr><td style=\"text-align: right;\"> 0.946821</td></tr>\n",
       "<tr><td style=\"text-align: right;\"> 0.912265</td></tr>\n",
       "<tr><td style=\"text-align: right;\"> 0.899483</td></tr>\n",
       "<tr><td style=\"text-align: right;\"> 0.930355</td></tr>\n",
       "<tr><td style=\"text-align: right;\"> 0.901072</td></tr>\n",
       "<tr><td style=\"text-align: right;\"> 0.918005</td></tr>\n",
       "<tr><td style=\"text-align: right;\"> 0.927987</td></tr>\n",
       "<tr><td style=\"text-align: right;\"> 0.913286</td></tr>\n",
       "<tr><td style=\"text-align: right;\"> 0.933746</td></tr>\n",
       "<tr><td style=\"text-align: right;\"> 0.915216</td></tr>\n",
       "<tr><td style=\"text-align: right;\"> 0.933275</td></tr>\n",
       "<tr><td style=\"text-align: right;\"> 0.900925</td></tr>\n",
       "<tr><td style=\"text-align: right;\"> 0.941433</td></tr>\n",
       "<tr><td style=\"text-align: right;\"> 0.930233</td></tr>\n",
       "<tr><td style=\"text-align: right;\"> 0.899681</td></tr>\n",
       "<tr><td style=\"text-align: right;\"> 0.927637</td></tr>\n",
       "<tr><td style=\"text-align: right;\"> 0.939265</td></tr>\n",
       "<tr><td style=\"text-align: right;\"> 0.937543</td></tr>\n",
       "<tr><td style=\"text-align: right;\"> 0.928142</td></tr>\n",
       "<tr><td style=\"text-align: right;\"> 0.930748</td></tr>\n",
       "<tr><td style=\"text-align: right;\"> 0.914059</td></tr>\n",
       "<tr><td style=\"text-align: right;\"> 0.934431</td></tr>\n",
       "<tr><td style=\"text-align: right;\"> 0.931338</td></tr>\n",
       "<tr><td style=\"text-align: right;\"> 0.900904</td></tr>\n",
       "<tr><td style=\"text-align: right;\"> 0.916124</td></tr>\n",
       "<tr><td style=\"text-align: right;\"> 0.925245</td></tr>\n",
       "<tr><td style=\"text-align: right;\"> 0.931107</td></tr>\n",
       "<tr><td style=\"text-align: right;\"> 0.920006</td></tr>\n",
       "<tr><td style=\"text-align: right;\"> 0.936605</td></tr>\n",
       "<tr><td style=\"text-align: right;\"> 0.930782</td></tr>\n",
       "<tr><td style=\"text-align: right;\"> 0.90153 </td></tr>\n",
       "<tr><td style=\"text-align: right;\"> 0.933835</td></tr>\n",
       "<tr><td style=\"text-align: right;\"> 0.937108</td></tr>\n",
       "<tr><td style=\"text-align: right;\"> 0.93316 </td></tr>\n",
       "<tr><td style=\"text-align: right;\"> 0.936049</td></tr>\n",
       "<tr><td style=\"text-align: right;\"> 0.908141</td></tr>\n",
       "<tr><td style=\"text-align: right;\"> 0.91448 </td></tr>\n",
       "<tr><td style=\"text-align: right;\"> 0.91023 </td></tr>\n",
       "<tr><td style=\"text-align: right;\"> 0.937869</td></tr>\n",
       "<tr><td style=\"text-align: right;\"> 0.934996</td></tr>\n",
       "<tr><td style=\"text-align: right;\"> 0.913896</td></tr>\n",
       "<tr><td style=\"text-align: right;\"> 0.934026</td></tr>\n",
       "<tr><td style=\"text-align: right;\"> 0.901017</td></tr>\n",
       "<tr><td style=\"text-align: right;\"> 0.930967</td></tr>\n",
       "<tr><td style=\"text-align: right;\"> 0.928607</td></tr>\n",
       "<tr><td style=\"text-align: right;\"> 0.930317</td></tr>\n",
       "<tr><td style=\"text-align: right;\"> 0.931107</td></tr>\n",
       "<tr><td style=\"text-align: right;\"> 0.90476 </td></tr>\n",
       "<tr><td style=\"text-align: right;\"> 0.916939</td></tr>\n",
       "<tr><td style=\"text-align: right;\"> 0.914291</td></tr>\n",
       "<tr><td style=\"text-align: right;\"> 0.92965 </td></tr>\n",
       "<tr><td style=\"text-align: right;\"> 0.912776</td></tr>\n",
       "<tr><td style=\"text-align: right;\"> 0.946558</td></tr>\n",
       "<tr><td style=\"text-align: right;\"> 0.915684</td></tr>\n",
       "<tr><td style=\"text-align: right;\"> 0.898013</td></tr>\n",
       "<tr><td style=\"text-align: right;\"> 0.922093</td></tr>\n",
       "<tr><td style=\"text-align: right;\"> 0.922299</td></tr>\n",
       "<tr><td style=\"text-align: right;\"> 0.931493</td></tr>\n",
       "<tr><td style=\"text-align: right;\"> 0.929068</td></tr>\n",
       "<tr><td style=\"text-align: right;\"> 0.932666</td></tr>\n",
       "<tr><td style=\"text-align: right;\"> 0.930233</td></tr>\n",
       "<tr><td style=\"text-align: right;\"> 0.930967</td></tr>\n",
       "<tr><td style=\"text-align: right;\"> 0.930099</td></tr>\n",
       "<tr><td style=\"text-align: right;\"> 0.900397</td></tr>\n",
       "<tr><td style=\"text-align: right;\"> 0.905608</td></tr>\n",
       "<tr><td style=\"text-align: right;\"> 0.930916</td></tr>\n",
       "<tr><td style=\"text-align: right;\"> 0.936728</td></tr>\n",
       "<tr><td style=\"text-align: right;\"> 0.939729</td></tr>\n",
       "<tr><td style=\"text-align: right;\"> 0.937869</td></tr>\n",
       "<tr><td style=\"text-align: right;\"> 0.930317</td></tr>\n",
       "<tr><td style=\"text-align: right;\"> 0.928359</td></tr>\n",
       "<tr><td style=\"text-align: right;\"> 0.922343</td></tr>\n",
       "<tr><td style=\"text-align: right;\"> 0.913199</td></tr>\n",
       "<tr><td style=\"text-align: right;\"> 0.929118</td></tr>\n",
       "<tr><td style=\"text-align: right;\"> 0.933746</td></tr>\n",
       "<tr><td style=\"text-align: right;\"> 0.930802</td></tr>\n",
       "<tr><td style=\"text-align: right;\"> 0.935598</td></tr>\n",
       "<tr><td style=\"text-align: right;\"> 0.934308</td></tr>\n",
       "<tr><td style=\"text-align: right;\"> 0.90785 </td></tr>\n",
       "<tr><td style=\"text-align: right;\"> 0.927093</td></tr>\n",
       "<tr><td style=\"text-align: right;\"> 0.935816</td></tr>\n",
       "<tr><td style=\"text-align: right;\"> 0.946821</td></tr>\n",
       "<tr><td style=\"text-align: right;\"> 0.933163</td></tr>\n",
       "<tr><td style=\"text-align: right;\"> 0.926358</td></tr>\n",
       "<tr><td style=\"text-align: right;\"> 0.929175</td></tr>\n",
       "<tr><td style=\"text-align: right;\"> 0.929315</td></tr>\n",
       "<tr><td style=\"text-align: right;\"> 0.923384</td></tr>\n",
       "<tr><td style=\"text-align: right;\"> 0.9298  </td></tr>\n",
       "<tr><td style=\"text-align: right;\"> 0.929533</td></tr>\n",
       "<tr><td style=\"text-align: right;\"> 0.937108</td></tr>\n",
       "<tr><td style=\"text-align: right;\"> 0.921096</td></tr>\n",
       "<tr><td style=\"text-align: right;\"> 0.946675</td></tr>\n",
       "<tr><td style=\"text-align: right;\"> 0.921688</td></tr>\n",
       "<tr><td style=\"text-align: right;\"> 0.923284</td></tr>\n",
       "<tr><td style=\"text-align: right;\"> 0.93793 </td></tr>\n",
       "<tr><td style=\"text-align: right;\"> 0.923438</td></tr>\n",
       "<tr><td style=\"text-align: right;\"> 0.900973</td></tr>\n",
       "<tr><td style=\"text-align: right;\"> 0.939797</td></tr>\n",
       "<tr><td style=\"text-align: right;\"> 0.94447 </td></tr>\n",
       "<tr><td style=\"text-align: right;\"> 0.93    </td></tr>\n",
       "<tr><td style=\"text-align: right;\"> 0.913408</td></tr>\n",
       "<tr><td style=\"text-align: right;\"> 0.913886</td></tr>\n",
       "<tr><td style=\"text-align: right;\"> 0.92719 </td></tr>\n",
       "<tr><td style=\"text-align: right;\"> 0.939395</td></tr>\n",
       "<tr><td style=\"text-align: right;\"> 0.924541</td></tr>\n",
       "<tr><td style=\"text-align: right;\"> 0.914809</td></tr>\n",
       "<tr><td style=\"text-align: right;\"> 0.91927 </td></tr>\n",
       "</tbody>\n",
       "</table>"
      ]
     },
     "metadata": {},
     "output_type": "display_data"
    },
    {
     "data": {
      "text/plain": []
     },
     "execution_count": 16,
     "metadata": {},
     "output_type": "execute_result"
    }
   ],
   "source": [
    "aa"
   ]
  },
  {
   "cell_type": "code",
   "execution_count": null,
   "metadata": {},
   "outputs": [],
   "source": []
  },
  {
   "cell_type": "code",
   "execution_count": null,
   "metadata": {},
   "outputs": [],
   "source": []
  },
  {
   "cell_type": "code",
   "execution_count": null,
   "metadata": {},
   "outputs": [],
   "source": [
    "type(automl_predictions)"
   ]
  },
  {
   "cell_type": "code",
   "execution_count": null,
   "metadata": {},
   "outputs": [],
   "source": [
    "import numpy as np\n",
    "import pandas as pd"
   ]
  },
  {
   "cell_type": "code",
   "execution_count": null,
   "metadata": {},
   "outputs": [],
   "source": [
    "import pandas as pd\n",
    "predictions = pd.DataFrame({'rate': automl_predictions})"
   ]
  },
  {
   "cell_type": "code",
   "execution_count": null,
   "metadata": {},
   "outputs": [],
   "source": [
    "test['id']"
   ]
  },
  {
   "cell_type": "code",
   "execution_count": null,
   "metadata": {},
   "outputs": [],
   "source": [
    "type(test['id'])"
   ]
  },
  {
   "cell_type": "code",
   "execution_count": null,
   "metadata": {},
   "outputs": [],
   "source": [
    "test['id'][0]"
   ]
  },
  {
   "cell_type": "code",
   "execution_count": null,
   "metadata": {},
   "outputs": [],
   "source": [
    "type(test['id'][0][0])"
   ]
  },
  {
   "cell_type": "code",
   "execution_count": null,
   "metadata": {},
   "outputs": [],
   "source": [
    "test['id'][0][0]"
   ]
  },
  {
   "cell_type": "code",
   "execution_count": null,
   "metadata": {},
   "outputs": [],
   "source": [
    "def parsePoint(point):\n",
    "    return LabeledPoint(point[0], np.array(point[1:]))"
   ]
  },
  {
   "cell_type": "code",
   "execution_count": null,
   "metadata": {},
   "outputs": [],
   "source": [
    "parsePoint(automl_predictions)"
   ]
  },
  {
   "cell_type": "code",
   "execution_count": null,
   "metadata": {},
   "outputs": [],
   "source": [
    "aa = [i for i in automl_predictions]"
   ]
  },
  {
   "cell_type": "code",
   "execution_count": 202,
   "metadata": {},
   "outputs": [
    {
     "data": {
      "text/plain": [
       "h2o.frame.H2OFrame"
      ]
     },
     "execution_count": 202,
     "metadata": {},
     "output_type": "execute_result"
    }
   ],
   "source": [
    "type(aa[0])"
   ]
  },
  {
   "cell_type": "code",
   "execution_count": 175,
   "metadata": {},
   "outputs": [
    {
     "ename": "ValueError",
     "evalue": "cannot copy sequence with size 150 to array axis with dimension 1",
     "output_type": "error",
     "traceback": [
      "\u001b[1;31m---------------------------------------------------------------------------\u001b[0m",
      "\u001b[1;31mValueError\u001b[0m                                Traceback (most recent call last)",
      "\u001b[1;32m<ipython-input-175-29a2bfb904d6>\u001b[0m in \u001b[0;36m<module>\u001b[1;34m()\u001b[0m\n\u001b[1;32m----> 1\u001b[1;33m \u001b[0mnp\u001b[0m\u001b[1;33m.\u001b[0m\u001b[0marray\u001b[0m\u001b[1;33m(\u001b[0m\u001b[0mautoml_predictions\u001b[0m\u001b[1;33m[\u001b[0m\u001b[1;36m0\u001b[0m\u001b[1;33m]\u001b[0m\u001b[1;33m)\u001b[0m\u001b[1;33m\u001b[0m\u001b[0m\n\u001b[0m",
      "\u001b[1;31mValueError\u001b[0m: cannot copy sequence with size 150 to array axis with dimension 1"
     ]
    }
   ],
   "source": [
    "np.array(automl_predictions[0])"
   ]
  },
  {
   "cell_type": "code",
   "execution_count": null,
   "metadata": {},
   "outputs": [],
   "source": []
  },
  {
   "cell_type": "code",
   "execution_count": null,
   "metadata": {},
   "outputs": [],
   "source": []
  },
  {
   "cell_type": "code",
   "execution_count": 153,
   "metadata": {},
   "outputs": [
    {
     "ename": "ValueError",
     "evalue": "cannot copy sequence with size 150 to array axis with dimension 1",
     "output_type": "error",
     "traceback": [
      "\u001b[1;31m---------------------------------------------------------------------------\u001b[0m",
      "\u001b[1;31mValueError\u001b[0m                                Traceback (most recent call last)",
      "\u001b[1;32mc:\\python37\\lib\\site-packages\\pandas\\core\\series.py\u001b[0m in \u001b[0;36m_try_cast\u001b[1;34m(arr, take_fast_path)\u001b[0m\n\u001b[0;32m   4043\u001b[0m         \u001b[1;32mtry\u001b[0m\u001b[1;33m:\u001b[0m\u001b[1;33m\u001b[0m\u001b[0m\n\u001b[1;32m-> 4044\u001b[1;33m             \u001b[0msubarr\u001b[0m \u001b[1;33m=\u001b[0m \u001b[0mmaybe_cast_to_datetime\u001b[0m\u001b[1;33m(\u001b[0m\u001b[0marr\u001b[0m\u001b[1;33m,\u001b[0m \u001b[0mdtype\u001b[0m\u001b[1;33m)\u001b[0m\u001b[1;33m\u001b[0m\u001b[0m\n\u001b[0m\u001b[0;32m   4045\u001b[0m             \u001b[1;31m# Take care in creating object arrays (but iterators are not\u001b[0m\u001b[1;33m\u001b[0m\u001b[1;33m\u001b[0m\u001b[0m\n",
      "\u001b[1;32mc:\\python37\\lib\\site-packages\\pandas\\core\\dtypes\\cast.py\u001b[0m in \u001b[0;36mmaybe_cast_to_datetime\u001b[1;34m(value, dtype, errors)\u001b[0m\n\u001b[0;32m   1087\u001b[0m                                     value.dtype == np.object_)):\n\u001b[1;32m-> 1088\u001b[1;33m             \u001b[0mvalue\u001b[0m \u001b[1;33m=\u001b[0m \u001b[0mmaybe_infer_to_datetimelike\u001b[0m\u001b[1;33m(\u001b[0m\u001b[0mvalue\u001b[0m\u001b[1;33m)\u001b[0m\u001b[1;33m\u001b[0m\u001b[0m\n\u001b[0m\u001b[0;32m   1089\u001b[0m \u001b[1;33m\u001b[0m\u001b[0m\n",
      "\u001b[1;32mc:\\python37\\lib\\site-packages\\pandas\\core\\dtypes\\cast.py\u001b[0m in \u001b[0;36mmaybe_infer_to_datetimelike\u001b[1;34m(value, convert_dates)\u001b[0m\n\u001b[0;32m    894\u001b[0m         \u001b[0mv\u001b[0m \u001b[1;33m=\u001b[0m \u001b[1;33m[\u001b[0m\u001b[0mv\u001b[0m\u001b[1;33m]\u001b[0m\u001b[1;33m\u001b[0m\u001b[0m\n\u001b[1;32m--> 895\u001b[1;33m     \u001b[0mv\u001b[0m \u001b[1;33m=\u001b[0m \u001b[0mnp\u001b[0m\u001b[1;33m.\u001b[0m\u001b[0marray\u001b[0m\u001b[1;33m(\u001b[0m\u001b[0mv\u001b[0m\u001b[1;33m,\u001b[0m \u001b[0mcopy\u001b[0m\u001b[1;33m=\u001b[0m\u001b[1;32mFalse\u001b[0m\u001b[1;33m)\u001b[0m\u001b[1;33m\u001b[0m\u001b[0m\n\u001b[0m\u001b[0;32m    896\u001b[0m \u001b[1;33m\u001b[0m\u001b[0m\n",
      "\u001b[1;31mValueError\u001b[0m: cannot copy sequence with size 150 to array axis with dimension 1",
      "\nDuring handling of the above exception, another exception occurred:\n",
      "\u001b[1;31mValueError\u001b[0m                                Traceback (most recent call last)",
      "\u001b[1;32m<ipython-input-153-6bdefb5e07fa>\u001b[0m in \u001b[0;36m<module>\u001b[1;34m()\u001b[0m\n\u001b[1;32m----> 1\u001b[1;33m \u001b[0mids\u001b[0m \u001b[1;33m=\u001b[0m \u001b[0mpd\u001b[0m\u001b[1;33m.\u001b[0m\u001b[0mSeries\u001b[0m\u001b[1;33m(\u001b[0m\u001b[0mtest\u001b[0m\u001b[1;33m[\u001b[0m\u001b[1;34m'id'\u001b[0m\u001b[1;33m]\u001b[0m\u001b[1;33m)\u001b[0m\u001b[1;33m\u001b[0m\u001b[0m\n\u001b[0m",
      "\u001b[1;32mc:\\python37\\lib\\site-packages\\pandas\\core\\series.py\u001b[0m in \u001b[0;36m__init__\u001b[1;34m(self, data, index, dtype, name, copy, fastpath)\u001b[0m\n\u001b[0;32m    273\u001b[0m             \u001b[1;32melse\u001b[0m\u001b[1;33m:\u001b[0m\u001b[1;33m\u001b[0m\u001b[0m\n\u001b[0;32m    274\u001b[0m                 data = _sanitize_array(data, index, dtype, copy,\n\u001b[1;32m--> 275\u001b[1;33m                                        raise_cast_failure=True)\n\u001b[0m\u001b[0;32m    276\u001b[0m \u001b[1;33m\u001b[0m\u001b[0m\n\u001b[0;32m    277\u001b[0m                 \u001b[0mdata\u001b[0m \u001b[1;33m=\u001b[0m \u001b[0mSingleBlockManager\u001b[0m\u001b[1;33m(\u001b[0m\u001b[0mdata\u001b[0m\u001b[1;33m,\u001b[0m \u001b[0mindex\u001b[0m\u001b[1;33m,\u001b[0m \u001b[0mfastpath\u001b[0m\u001b[1;33m=\u001b[0m\u001b[1;32mTrue\u001b[0m\u001b[1;33m)\u001b[0m\u001b[1;33m\u001b[0m\u001b[0m\n",
      "\u001b[1;32mc:\\python37\\lib\\site-packages\\pandas\\core\\series.py\u001b[0m in \u001b[0;36m_sanitize_array\u001b[1;34m(data, index, dtype, copy, raise_cast_failure)\u001b[0m\n\u001b[0;32m   4130\u001b[0m         \u001b[0msubarr\u001b[0m \u001b[1;33m=\u001b[0m \u001b[0m_try_cast\u001b[0m\u001b[1;33m(\u001b[0m\u001b[0marr\u001b[0m\u001b[1;33m,\u001b[0m \u001b[1;32mFalse\u001b[0m\u001b[1;33m)\u001b[0m\u001b[1;33m\u001b[0m\u001b[0m\n\u001b[0;32m   4131\u001b[0m     \u001b[1;32melse\u001b[0m\u001b[1;33m:\u001b[0m\u001b[1;33m\u001b[0m\u001b[0m\n\u001b[1;32m-> 4132\u001b[1;33m         \u001b[0msubarr\u001b[0m \u001b[1;33m=\u001b[0m \u001b[0m_try_cast\u001b[0m\u001b[1;33m(\u001b[0m\u001b[0mdata\u001b[0m\u001b[1;33m,\u001b[0m \u001b[1;32mFalse\u001b[0m\u001b[1;33m)\u001b[0m\u001b[1;33m\u001b[0m\u001b[0m\n\u001b[0m\u001b[0;32m   4133\u001b[0m \u001b[1;33m\u001b[0m\u001b[0m\n\u001b[0;32m   4134\u001b[0m     \u001b[1;31m# scalar like, GH\u001b[0m\u001b[1;33m\u001b[0m\u001b[1;33m\u001b[0m\u001b[0m\n",
      "\u001b[1;32mc:\\python37\\lib\\site-packages\\pandas\\core\\series.py\u001b[0m in \u001b[0;36m_try_cast\u001b[1;34m(arr, take_fast_path)\u001b[0m\n\u001b[0;32m   4068\u001b[0m                 \u001b[1;32mraise\u001b[0m\u001b[1;33m\u001b[0m\u001b[0m\n\u001b[0;32m   4069\u001b[0m             \u001b[1;32melse\u001b[0m\u001b[1;33m:\u001b[0m\u001b[1;33m\u001b[0m\u001b[0m\n\u001b[1;32m-> 4070\u001b[1;33m                 \u001b[0msubarr\u001b[0m \u001b[1;33m=\u001b[0m \u001b[0mnp\u001b[0m\u001b[1;33m.\u001b[0m\u001b[0marray\u001b[0m\u001b[1;33m(\u001b[0m\u001b[0marr\u001b[0m\u001b[1;33m,\u001b[0m \u001b[0mdtype\u001b[0m\u001b[1;33m=\u001b[0m\u001b[0mobject\u001b[0m\u001b[1;33m,\u001b[0m \u001b[0mcopy\u001b[0m\u001b[1;33m=\u001b[0m\u001b[0mcopy\u001b[0m\u001b[1;33m)\u001b[0m\u001b[1;33m\u001b[0m\u001b[0m\n\u001b[0m\u001b[0;32m   4071\u001b[0m         \u001b[1;32mreturn\u001b[0m \u001b[0msubarr\u001b[0m\u001b[1;33m\u001b[0m\u001b[0m\n\u001b[0;32m   4072\u001b[0m \u001b[1;33m\u001b[0m\u001b[0m\n",
      "\u001b[1;31mValueError\u001b[0m: cannot copy sequence with size 150 to array axis with dimension 1"
     ]
    }
   ],
   "source": [
    "ids = pd.Series(test['id'])"
   ]
  },
  {
   "cell_type": "code",
   "execution_count": null,
   "metadata": {},
   "outputs": [],
   "source": []
  },
  {
   "cell_type": "code",
   "execution_count": 195,
   "metadata": {},
   "outputs": [],
   "source": [
    "predictions = pd.DataFrame({\"id\":aa})"
   ]
  },
  {
   "cell_type": "code",
   "execution_count": 196,
   "metadata": {},
   "outputs": [
    {
     "data": {
      "text/html": [
       "<table>\n",
       "<thead>\n",
       "<tr><th style=\"text-align: right;\">  predict</th></tr>\n",
       "</thead>\n",
       "<tbody>\n",
       "<tr><td style=\"text-align: right;\"> 0.918879</td></tr>\n",
       "<tr><td style=\"text-align: right;\"> 0.890137</td></tr>\n",
       "<tr><td style=\"text-align: right;\"> 0.941667</td></tr>\n",
       "<tr><td style=\"text-align: right;\"> 0.914733</td></tr>\n",
       "<tr><td style=\"text-align: right;\"> 0.924386</td></tr>\n",
       "<tr><td style=\"text-align: right;\"> 0.927693</td></tr>\n",
       "<tr><td style=\"text-align: right;\"> 0.9237  </td></tr>\n",
       "<tr><td style=\"text-align: right;\"> 0.899857</td></tr>\n",
       "<tr><td style=\"text-align: right;\"> 0.932536</td></tr>\n",
       "<tr><td style=\"text-align: right;\"> 0.925355</td></tr>\n",
       "</tbody>\n",
       "</table>"
      ]
     },
     "metadata": {},
     "output_type": "display_data"
    },
    {
     "ename": "StopIteration",
     "evalue": "",
     "output_type": "error",
     "traceback": [
      "\u001b[1;31m---------------------------------------------------------------------------\u001b[0m",
      "\u001b[1;31mStopIteration\u001b[0m                             Traceback (most recent call last)",
      "\u001b[1;32mc:\\python37\\lib\\site-packages\\IPython\\core\\formatters.py\u001b[0m in \u001b[0;36m__call__\u001b[1;34m(self, obj)\u001b[0m\n\u001b[0;32m    700\u001b[0m                 \u001b[0mtype_pprinters\u001b[0m\u001b[1;33m=\u001b[0m\u001b[0mself\u001b[0m\u001b[1;33m.\u001b[0m\u001b[0mtype_printers\u001b[0m\u001b[1;33m,\u001b[0m\u001b[1;33m\u001b[0m\u001b[0m\n\u001b[0;32m    701\u001b[0m                 deferred_pprinters=self.deferred_printers)\n\u001b[1;32m--> 702\u001b[1;33m             \u001b[0mprinter\u001b[0m\u001b[1;33m.\u001b[0m\u001b[0mpretty\u001b[0m\u001b[1;33m(\u001b[0m\u001b[0mobj\u001b[0m\u001b[1;33m)\u001b[0m\u001b[1;33m\u001b[0m\u001b[0m\n\u001b[0m\u001b[0;32m    703\u001b[0m             \u001b[0mprinter\u001b[0m\u001b[1;33m.\u001b[0m\u001b[0mflush\u001b[0m\u001b[1;33m(\u001b[0m\u001b[1;33m)\u001b[0m\u001b[1;33m\u001b[0m\u001b[0m\n\u001b[0;32m    704\u001b[0m             \u001b[1;32mreturn\u001b[0m \u001b[0mstream\u001b[0m\u001b[1;33m.\u001b[0m\u001b[0mgetvalue\u001b[0m\u001b[1;33m(\u001b[0m\u001b[1;33m)\u001b[0m\u001b[1;33m\u001b[0m\u001b[0m\n",
      "\u001b[1;32mc:\\python37\\lib\\site-packages\\IPython\\lib\\pretty.py\u001b[0m in \u001b[0;36mpretty\u001b[1;34m(self, obj)\u001b[0m\n\u001b[0;32m    398\u001b[0m                         \u001b[1;32mif\u001b[0m \u001b[0mcls\u001b[0m \u001b[1;32mis\u001b[0m \u001b[1;32mnot\u001b[0m \u001b[0mobject\u001b[0m\u001b[0;31m \u001b[0m\u001b[0;31m\\\u001b[0m\u001b[1;33m\u001b[0m\u001b[0m\n\u001b[0;32m    399\u001b[0m                                 \u001b[1;32mand\u001b[0m \u001b[0mcallable\u001b[0m\u001b[1;33m(\u001b[0m\u001b[0mcls\u001b[0m\u001b[1;33m.\u001b[0m\u001b[0m__dict__\u001b[0m\u001b[1;33m.\u001b[0m\u001b[0mget\u001b[0m\u001b[1;33m(\u001b[0m\u001b[1;34m'__repr__'\u001b[0m\u001b[1;33m)\u001b[0m\u001b[1;33m)\u001b[0m\u001b[1;33m:\u001b[0m\u001b[1;33m\u001b[0m\u001b[0m\n\u001b[1;32m--> 400\u001b[1;33m                             \u001b[1;32mreturn\u001b[0m \u001b[0m_repr_pprint\u001b[0m\u001b[1;33m(\u001b[0m\u001b[0mobj\u001b[0m\u001b[1;33m,\u001b[0m \u001b[0mself\u001b[0m\u001b[1;33m,\u001b[0m \u001b[0mcycle\u001b[0m\u001b[1;33m)\u001b[0m\u001b[1;33m\u001b[0m\u001b[0m\n\u001b[0m\u001b[0;32m    401\u001b[0m \u001b[1;33m\u001b[0m\u001b[0m\n\u001b[0;32m    402\u001b[0m             \u001b[1;32mreturn\u001b[0m \u001b[0m_default_pprint\u001b[0m\u001b[1;33m(\u001b[0m\u001b[0mobj\u001b[0m\u001b[1;33m,\u001b[0m \u001b[0mself\u001b[0m\u001b[1;33m,\u001b[0m \u001b[0mcycle\u001b[0m\u001b[1;33m)\u001b[0m\u001b[1;33m\u001b[0m\u001b[0m\n",
      "\u001b[1;32mc:\\python37\\lib\\site-packages\\IPython\\lib\\pretty.py\u001b[0m in \u001b[0;36m_repr_pprint\u001b[1;34m(obj, p, cycle)\u001b[0m\n\u001b[0;32m    693\u001b[0m     \u001b[1;34m\"\"\"A pprint that just redirects to the normal repr function.\"\"\"\u001b[0m\u001b[1;33m\u001b[0m\u001b[0m\n\u001b[0;32m    694\u001b[0m     \u001b[1;31m# Find newlines and replace them with p.break_()\u001b[0m\u001b[1;33m\u001b[0m\u001b[1;33m\u001b[0m\u001b[0m\n\u001b[1;32m--> 695\u001b[1;33m     \u001b[0moutput\u001b[0m \u001b[1;33m=\u001b[0m \u001b[0mrepr\u001b[0m\u001b[1;33m(\u001b[0m\u001b[0mobj\u001b[0m\u001b[1;33m)\u001b[0m\u001b[1;33m\u001b[0m\u001b[0m\n\u001b[0m\u001b[0;32m    696\u001b[0m     \u001b[1;32mfor\u001b[0m \u001b[0midx\u001b[0m\u001b[1;33m,\u001b[0m\u001b[0moutput_line\u001b[0m \u001b[1;32min\u001b[0m \u001b[0menumerate\u001b[0m\u001b[1;33m(\u001b[0m\u001b[0moutput\u001b[0m\u001b[1;33m.\u001b[0m\u001b[0msplitlines\u001b[0m\u001b[1;33m(\u001b[0m\u001b[1;33m)\u001b[0m\u001b[1;33m)\u001b[0m\u001b[1;33m:\u001b[0m\u001b[1;33m\u001b[0m\u001b[0m\n\u001b[0;32m    697\u001b[0m         \u001b[1;32mif\u001b[0m \u001b[0midx\u001b[0m\u001b[1;33m:\u001b[0m\u001b[1;33m\u001b[0m\u001b[0m\n",
      "\u001b[1;32mc:\\python37\\lib\\site-packages\\pandas\\core\\base.py\u001b[0m in \u001b[0;36m__repr__\u001b[1;34m(self)\u001b[0m\n\u001b[0;32m     80\u001b[0m         \u001b[0mYields\u001b[0m \u001b[0mBytestring\u001b[0m \u001b[1;32min\u001b[0m \u001b[0mPy2\u001b[0m\u001b[1;33m,\u001b[0m \u001b[0mUnicode\u001b[0m \u001b[0mString\u001b[0m \u001b[1;32min\u001b[0m \u001b[0mpy3\u001b[0m\u001b[1;33m.\u001b[0m\u001b[1;33m\u001b[0m\u001b[0m\n\u001b[0;32m     81\u001b[0m         \"\"\"\n\u001b[1;32m---> 82\u001b[1;33m         \u001b[1;32mreturn\u001b[0m \u001b[0mstr\u001b[0m\u001b[1;33m(\u001b[0m\u001b[0mself\u001b[0m\u001b[1;33m)\u001b[0m\u001b[1;33m\u001b[0m\u001b[0m\n\u001b[0m\u001b[0;32m     83\u001b[0m \u001b[1;33m\u001b[0m\u001b[0m\n\u001b[0;32m     84\u001b[0m \u001b[1;33m\u001b[0m\u001b[0m\n",
      "\u001b[1;32mc:\\python37\\lib\\site-packages\\pandas\\core\\base.py\u001b[0m in \u001b[0;36m__str__\u001b[1;34m(self)\u001b[0m\n\u001b[0;32m     59\u001b[0m \u001b[1;33m\u001b[0m\u001b[0m\n\u001b[0;32m     60\u001b[0m         \u001b[1;32mif\u001b[0m \u001b[0mcompat\u001b[0m\u001b[1;33m.\u001b[0m\u001b[0mPY3\u001b[0m\u001b[1;33m:\u001b[0m\u001b[1;33m\u001b[0m\u001b[0m\n\u001b[1;32m---> 61\u001b[1;33m             \u001b[1;32mreturn\u001b[0m \u001b[0mself\u001b[0m\u001b[1;33m.\u001b[0m\u001b[0m__unicode__\u001b[0m\u001b[1;33m(\u001b[0m\u001b[1;33m)\u001b[0m\u001b[1;33m\u001b[0m\u001b[0m\n\u001b[0m\u001b[0;32m     62\u001b[0m         \u001b[1;32mreturn\u001b[0m \u001b[0mself\u001b[0m\u001b[1;33m.\u001b[0m\u001b[0m__bytes__\u001b[0m\u001b[1;33m(\u001b[0m\u001b[1;33m)\u001b[0m\u001b[1;33m\u001b[0m\u001b[0m\n\u001b[0;32m     63\u001b[0m \u001b[1;33m\u001b[0m\u001b[0m\n",
      "\u001b[1;32mc:\\python37\\lib\\site-packages\\pandas\\core\\frame.py\u001b[0m in \u001b[0;36m__unicode__\u001b[1;34m(self)\u001b[0m\n\u001b[0;32m    661\u001b[0m             \u001b[0mwidth\u001b[0m \u001b[1;33m=\u001b[0m \u001b[1;32mNone\u001b[0m\u001b[1;33m\u001b[0m\u001b[0m\n\u001b[0;32m    662\u001b[0m         self.to_string(buf=buf, max_rows=max_rows, max_cols=max_cols,\n\u001b[1;32m--> 663\u001b[1;33m                        line_width=width, show_dimensions=show_dimensions)\n\u001b[0m\u001b[0;32m    664\u001b[0m \u001b[1;33m\u001b[0m\u001b[0m\n\u001b[0;32m    665\u001b[0m         \u001b[1;32mreturn\u001b[0m \u001b[0mbuf\u001b[0m\u001b[1;33m.\u001b[0m\u001b[0mgetvalue\u001b[0m\u001b[1;33m(\u001b[0m\u001b[1;33m)\u001b[0m\u001b[1;33m\u001b[0m\u001b[0m\n",
      "\u001b[1;32mc:\\python37\\lib\\site-packages\\pandas\\core\\frame.py\u001b[0m in \u001b[0;36mto_string\u001b[1;34m(self, buf, columns, col_space, header, index, na_rep, formatters, float_format, sparsify, index_names, justify, line_width, max_rows, max_cols, show_dimensions)\u001b[0m\n\u001b[0;32m   1969\u001b[0m                                            \u001b[0mmax_cols\u001b[0m\u001b[1;33m=\u001b[0m\u001b[0mmax_cols\u001b[0m\u001b[1;33m,\u001b[0m\u001b[1;33m\u001b[0m\u001b[0m\n\u001b[0;32m   1970\u001b[0m                                            show_dimensions=show_dimensions)\n\u001b[1;32m-> 1971\u001b[1;33m         \u001b[0mformatter\u001b[0m\u001b[1;33m.\u001b[0m\u001b[0mto_string\u001b[0m\u001b[1;33m(\u001b[0m\u001b[1;33m)\u001b[0m\u001b[1;33m\u001b[0m\u001b[0m\n\u001b[0m\u001b[0;32m   1972\u001b[0m \u001b[1;33m\u001b[0m\u001b[0m\n\u001b[0;32m   1973\u001b[0m         \u001b[1;32mif\u001b[0m \u001b[0mbuf\u001b[0m \u001b[1;32mis\u001b[0m \u001b[1;32mNone\u001b[0m\u001b[1;33m:\u001b[0m\u001b[1;33m\u001b[0m\u001b[0m\n",
      "\u001b[1;32mc:\\python37\\lib\\site-packages\\pandas\\io\\formats\\format.py\u001b[0m in \u001b[0;36mto_string\u001b[1;34m(self)\u001b[0m\n\u001b[0;32m    609\u001b[0m         \u001b[1;32melse\u001b[0m\u001b[1;33m:\u001b[0m\u001b[1;33m\u001b[0m\u001b[0m\n\u001b[0;32m    610\u001b[0m \u001b[1;33m\u001b[0m\u001b[0m\n\u001b[1;32m--> 611\u001b[1;33m             \u001b[0mstrcols\u001b[0m \u001b[1;33m=\u001b[0m \u001b[0mself\u001b[0m\u001b[1;33m.\u001b[0m\u001b[0m_to_str_columns\u001b[0m\u001b[1;33m(\u001b[0m\u001b[1;33m)\u001b[0m\u001b[1;33m\u001b[0m\u001b[0m\n\u001b[0m\u001b[0;32m    612\u001b[0m             \u001b[1;32mif\u001b[0m \u001b[0mself\u001b[0m\u001b[1;33m.\u001b[0m\u001b[0mline_width\u001b[0m \u001b[1;32mis\u001b[0m \u001b[1;32mNone\u001b[0m\u001b[1;33m:\u001b[0m  \u001b[1;31m# no need to wrap around just print\u001b[0m\u001b[1;33m\u001b[0m\u001b[0m\n\u001b[0;32m    613\u001b[0m                 \u001b[1;31m# the whole frame\u001b[0m\u001b[1;33m\u001b[0m\u001b[1;33m\u001b[0m\u001b[0m\n",
      "\u001b[1;32mc:\\python37\\lib\\site-packages\\pandas\\io\\formats\\format.py\u001b[0m in \u001b[0;36m_to_str_columns\u001b[1;34m(self)\u001b[0m\n\u001b[0;32m    544\u001b[0m                 header_colwidth = max(self.col_space or 0,\n\u001b[0;32m    545\u001b[0m                                       *(self.adj.len(x) for x in cheader))\n\u001b[1;32m--> 546\u001b[1;33m                 \u001b[0mfmt_values\u001b[0m \u001b[1;33m=\u001b[0m \u001b[0mself\u001b[0m\u001b[1;33m.\u001b[0m\u001b[0m_format_col\u001b[0m\u001b[1;33m(\u001b[0m\u001b[0mi\u001b[0m\u001b[1;33m)\u001b[0m\u001b[1;33m\u001b[0m\u001b[0m\n\u001b[0m\u001b[0;32m    547\u001b[0m                 fmt_values = _make_fixed_width(fmt_values, self.justify,\n\u001b[0;32m    548\u001b[0m                                                \u001b[0mminimum\u001b[0m\u001b[1;33m=\u001b[0m\u001b[0mheader_colwidth\u001b[0m\u001b[1;33m,\u001b[0m\u001b[1;33m\u001b[0m\u001b[0m\n",
      "\u001b[1;32mc:\\python37\\lib\\site-packages\\pandas\\io\\formats\\format.py\u001b[0m in \u001b[0;36m_format_col\u001b[1;34m(self, i)\u001b[0m\n\u001b[0;32m    726\u001b[0m         return format_array(values_to_format, formatter,\n\u001b[0;32m    727\u001b[0m                             \u001b[0mfloat_format\u001b[0m\u001b[1;33m=\u001b[0m\u001b[0mself\u001b[0m\u001b[1;33m.\u001b[0m\u001b[0mfloat_format\u001b[0m\u001b[1;33m,\u001b[0m \u001b[0mna_rep\u001b[0m\u001b[1;33m=\u001b[0m\u001b[0mself\u001b[0m\u001b[1;33m.\u001b[0m\u001b[0mna_rep\u001b[0m\u001b[1;33m,\u001b[0m\u001b[1;33m\u001b[0m\u001b[0m\n\u001b[1;32m--> 728\u001b[1;33m                             space=self.col_space, decimal=self.decimal)\n\u001b[0m\u001b[0;32m    729\u001b[0m \u001b[1;33m\u001b[0m\u001b[0m\n\u001b[0;32m    730\u001b[0m     \u001b[1;32mdef\u001b[0m \u001b[0mto_html\u001b[0m\u001b[1;33m(\u001b[0m\u001b[0mself\u001b[0m\u001b[1;33m,\u001b[0m \u001b[0mclasses\u001b[0m\u001b[1;33m=\u001b[0m\u001b[1;32mNone\u001b[0m\u001b[1;33m,\u001b[0m \u001b[0mnotebook\u001b[0m\u001b[1;33m=\u001b[0m\u001b[1;32mFalse\u001b[0m\u001b[1;33m,\u001b[0m \u001b[0mborder\u001b[0m\u001b[1;33m=\u001b[0m\u001b[1;32mNone\u001b[0m\u001b[1;33m)\u001b[0m\u001b[1;33m:\u001b[0m\u001b[1;33m\u001b[0m\u001b[0m\n",
      "\u001b[1;32mc:\\python37\\lib\\site-packages\\pandas\\io\\formats\\format.py\u001b[0m in \u001b[0;36mformat_array\u001b[1;34m(values, formatter, float_format, na_rep, digits, space, justify, decimal)\u001b[0m\n\u001b[0;32m    894\u001b[0m                         space=space, justify=justify, decimal=decimal)\n\u001b[0;32m    895\u001b[0m \u001b[1;33m\u001b[0m\u001b[0m\n\u001b[1;32m--> 896\u001b[1;33m     \u001b[1;32mreturn\u001b[0m \u001b[0mfmt_obj\u001b[0m\u001b[1;33m.\u001b[0m\u001b[0mget_result\u001b[0m\u001b[1;33m(\u001b[0m\u001b[1;33m)\u001b[0m\u001b[1;33m\u001b[0m\u001b[0m\n\u001b[0m\u001b[0;32m    897\u001b[0m \u001b[1;33m\u001b[0m\u001b[0m\n\u001b[0;32m    898\u001b[0m \u001b[1;33m\u001b[0m\u001b[0m\n",
      "\u001b[1;32mc:\\python37\\lib\\site-packages\\pandas\\io\\formats\\format.py\u001b[0m in \u001b[0;36mget_result\u001b[1;34m(self)\u001b[0m\n\u001b[0;32m    914\u001b[0m \u001b[1;33m\u001b[0m\u001b[0m\n\u001b[0;32m    915\u001b[0m     \u001b[1;32mdef\u001b[0m \u001b[0mget_result\u001b[0m\u001b[1;33m(\u001b[0m\u001b[0mself\u001b[0m\u001b[1;33m)\u001b[0m\u001b[1;33m:\u001b[0m\u001b[1;33m\u001b[0m\u001b[0m\n\u001b[1;32m--> 916\u001b[1;33m         \u001b[0mfmt_values\u001b[0m \u001b[1;33m=\u001b[0m \u001b[0mself\u001b[0m\u001b[1;33m.\u001b[0m\u001b[0m_format_strings\u001b[0m\u001b[1;33m(\u001b[0m\u001b[1;33m)\u001b[0m\u001b[1;33m\u001b[0m\u001b[0m\n\u001b[0m\u001b[0;32m    917\u001b[0m         \u001b[1;32mreturn\u001b[0m \u001b[0m_make_fixed_width\u001b[0m\u001b[1;33m(\u001b[0m\u001b[0mfmt_values\u001b[0m\u001b[1;33m,\u001b[0m \u001b[0mself\u001b[0m\u001b[1;33m.\u001b[0m\u001b[0mjustify\u001b[0m\u001b[1;33m)\u001b[0m\u001b[1;33m\u001b[0m\u001b[0m\n\u001b[0;32m    918\u001b[0m \u001b[1;33m\u001b[0m\u001b[0m\n",
      "\u001b[1;32mc:\\python37\\lib\\site-packages\\pandas\\io\\formats\\format.py\u001b[0m in \u001b[0;36m_format_strings\u001b[1;34m(self)\u001b[0m\n\u001b[0;32m    960\u001b[0m                 \u001b[0mfmt_values\u001b[0m\u001b[1;33m.\u001b[0m\u001b[0mappend\u001b[0m\u001b[1;33m(\u001b[0m\u001b[0mfloat_format\u001b[0m\u001b[1;33m(\u001b[0m\u001b[0mv\u001b[0m\u001b[1;33m)\u001b[0m\u001b[1;33m)\u001b[0m\u001b[1;33m\u001b[0m\u001b[0m\n\u001b[0;32m    961\u001b[0m             \u001b[1;32melse\u001b[0m\u001b[1;33m:\u001b[0m\u001b[1;33m\u001b[0m\u001b[0m\n\u001b[1;32m--> 962\u001b[1;33m                 \u001b[0mfmt_values\u001b[0m\u001b[1;33m.\u001b[0m\u001b[0mappend\u001b[0m\u001b[1;33m(\u001b[0m\u001b[1;34mu' {v}'\u001b[0m\u001b[1;33m.\u001b[0m\u001b[0mformat\u001b[0m\u001b[1;33m(\u001b[0m\u001b[0mv\u001b[0m\u001b[1;33m=\u001b[0m\u001b[0m_format\u001b[0m\u001b[1;33m(\u001b[0m\u001b[0mv\u001b[0m\u001b[1;33m)\u001b[0m\u001b[1;33m)\u001b[0m\u001b[1;33m)\u001b[0m\u001b[1;33m\u001b[0m\u001b[0m\n\u001b[0m\u001b[0;32m    963\u001b[0m \u001b[1;33m\u001b[0m\u001b[0m\n\u001b[0;32m    964\u001b[0m         \u001b[1;32mreturn\u001b[0m \u001b[0mfmt_values\u001b[0m\u001b[1;33m\u001b[0m\u001b[0m\n",
      "\u001b[1;32mc:\\python37\\lib\\site-packages\\pandas\\io\\formats\\format.py\u001b[0m in \u001b[0;36m_format\u001b[1;34m(x)\u001b[0m\n\u001b[0;32m    942\u001b[0m             \u001b[1;32melse\u001b[0m\u001b[1;33m:\u001b[0m\u001b[1;33m\u001b[0m\u001b[0m\n\u001b[0;32m    943\u001b[0m                 \u001b[1;31m# object dtype\u001b[0m\u001b[1;33m\u001b[0m\u001b[1;33m\u001b[0m\u001b[0m\n\u001b[1;32m--> 944\u001b[1;33m                 \u001b[1;32mreturn\u001b[0m \u001b[1;34mu'{x}'\u001b[0m\u001b[1;33m.\u001b[0m\u001b[0mformat\u001b[0m\u001b[1;33m(\u001b[0m\u001b[0mx\u001b[0m\u001b[1;33m=\u001b[0m\u001b[0mformatter\u001b[0m\u001b[1;33m(\u001b[0m\u001b[0mx\u001b[0m\u001b[1;33m)\u001b[0m\u001b[1;33m)\u001b[0m\u001b[1;33m\u001b[0m\u001b[0m\n\u001b[0m\u001b[0;32m    945\u001b[0m \u001b[1;33m\u001b[0m\u001b[0m\n\u001b[0;32m    946\u001b[0m         \u001b[0mvals\u001b[0m \u001b[1;33m=\u001b[0m \u001b[0mself\u001b[0m\u001b[1;33m.\u001b[0m\u001b[0mvalues\u001b[0m\u001b[1;33m\u001b[0m\u001b[0m\n",
      "\u001b[1;32mc:\\python37\\lib\\site-packages\\pandas\\io\\formats\\format.py\u001b[0m in \u001b[0;36m<lambda>\u001b[1;34m(x)\u001b[0m\n\u001b[0;32m    929\u001b[0m         formatter = (\n\u001b[0;32m    930\u001b[0m             \u001b[0mself\u001b[0m\u001b[1;33m.\u001b[0m\u001b[0mformatter\u001b[0m \u001b[1;32mif\u001b[0m \u001b[0mself\u001b[0m\u001b[1;33m.\u001b[0m\u001b[0mformatter\u001b[0m \u001b[1;32mis\u001b[0m \u001b[1;32mnot\u001b[0m \u001b[1;32mNone\u001b[0m \u001b[1;32melse\u001b[0m\u001b[1;33m\u001b[0m\u001b[0m\n\u001b[1;32m--> 931\u001b[1;33m             (lambda x: pprint_thing(x, escape_chars=('\\t', '\\r', '\\n'))))\n\u001b[0m\u001b[0;32m    932\u001b[0m \u001b[1;33m\u001b[0m\u001b[0m\n\u001b[0;32m    933\u001b[0m         \u001b[1;32mdef\u001b[0m \u001b[0m_format\u001b[0m\u001b[1;33m(\u001b[0m\u001b[0mx\u001b[0m\u001b[1;33m)\u001b[0m\u001b[1;33m:\u001b[0m\u001b[1;33m\u001b[0m\u001b[0m\n",
      "\u001b[1;32mc:\\python37\\lib\\site-packages\\pandas\\io\\formats\\printing.py\u001b[0m in \u001b[0;36mpprint_thing\u001b[1;34m(thing, _nest_lvl, escape_chars, default_escapes, quote_strings, max_seq_items)\u001b[0m\n\u001b[0;32m    215\u001b[0m         result = _pprint_seq(thing, _nest_lvl, escape_chars=escape_chars,\n\u001b[0;32m    216\u001b[0m                              \u001b[0mquote_strings\u001b[0m\u001b[1;33m=\u001b[0m\u001b[0mquote_strings\u001b[0m\u001b[1;33m,\u001b[0m\u001b[1;33m\u001b[0m\u001b[0m\n\u001b[1;32m--> 217\u001b[1;33m                              max_seq_items=max_seq_items)\n\u001b[0m\u001b[0;32m    218\u001b[0m     \u001b[1;32melif\u001b[0m \u001b[0misinstance\u001b[0m\u001b[1;33m(\u001b[0m\u001b[0mthing\u001b[0m\u001b[1;33m,\u001b[0m \u001b[0mcompat\u001b[0m\u001b[1;33m.\u001b[0m\u001b[0mstring_types\u001b[0m\u001b[1;33m)\u001b[0m \u001b[1;32mand\u001b[0m \u001b[0mquote_strings\u001b[0m\u001b[1;33m:\u001b[0m\u001b[1;33m\u001b[0m\u001b[0m\n\u001b[0;32m    219\u001b[0m         \u001b[1;32mif\u001b[0m \u001b[0mcompat\u001b[0m\u001b[1;33m.\u001b[0m\u001b[0mPY3\u001b[0m\u001b[1;33m:\u001b[0m\u001b[1;33m\u001b[0m\u001b[0m\n",
      "\u001b[1;32mc:\\python37\\lib\\site-packages\\pandas\\io\\formats\\printing.py\u001b[0m in \u001b[0;36m_pprint_seq\u001b[1;34m(seq, _nest_lvl, max_seq_items, **kwds)\u001b[0m\n\u001b[0;32m    111\u001b[0m     \u001b[1;32mfor\u001b[0m \u001b[0mi\u001b[0m \u001b[1;32min\u001b[0m \u001b[0mrange\u001b[0m\u001b[1;33m(\u001b[0m\u001b[0mmin\u001b[0m\u001b[1;33m(\u001b[0m\u001b[0mnitems\u001b[0m\u001b[1;33m,\u001b[0m \u001b[0mlen\u001b[0m\u001b[1;33m(\u001b[0m\u001b[0mseq\u001b[0m\u001b[1;33m)\u001b[0m\u001b[1;33m)\u001b[0m\u001b[1;33m)\u001b[0m\u001b[1;33m:\u001b[0m  \u001b[1;31m# handle sets, no slicing\u001b[0m\u001b[1;33m\u001b[0m\u001b[0m\n\u001b[0;32m    112\u001b[0m         r.append(pprint_thing(\n\u001b[1;32m--> 113\u001b[1;33m             next(s), _nest_lvl + 1, max_seq_items=max_seq_items, **kwds))\n\u001b[0m\u001b[0;32m    114\u001b[0m     \u001b[0mbody\u001b[0m \u001b[1;33m=\u001b[0m \u001b[1;34m\", \"\u001b[0m\u001b[1;33m.\u001b[0m\u001b[0mjoin\u001b[0m\u001b[1;33m(\u001b[0m\u001b[0mr\u001b[0m\u001b[1;33m)\u001b[0m\u001b[1;33m\u001b[0m\u001b[0m\n\u001b[0;32m    115\u001b[0m \u001b[1;33m\u001b[0m\u001b[0m\n",
      "\u001b[1;32mc:\\python37\\lib\\site-packages\\pandas\\io\\formats\\printing.py\u001b[0m in \u001b[0;36mpprint_thing\u001b[1;34m(thing, _nest_lvl, escape_chars, default_escapes, quote_strings, max_seq_items)\u001b[0m\n\u001b[0;32m    215\u001b[0m         result = _pprint_seq(thing, _nest_lvl, escape_chars=escape_chars,\n\u001b[0;32m    216\u001b[0m                              \u001b[0mquote_strings\u001b[0m\u001b[1;33m=\u001b[0m\u001b[0mquote_strings\u001b[0m\u001b[1;33m,\u001b[0m\u001b[1;33m\u001b[0m\u001b[0m\n\u001b[1;32m--> 217\u001b[1;33m                              max_seq_items=max_seq_items)\n\u001b[0m\u001b[0;32m    218\u001b[0m     \u001b[1;32melif\u001b[0m \u001b[0misinstance\u001b[0m\u001b[1;33m(\u001b[0m\u001b[0mthing\u001b[0m\u001b[1;33m,\u001b[0m \u001b[0mcompat\u001b[0m\u001b[1;33m.\u001b[0m\u001b[0mstring_types\u001b[0m\u001b[1;33m)\u001b[0m \u001b[1;32mand\u001b[0m \u001b[0mquote_strings\u001b[0m\u001b[1;33m:\u001b[0m\u001b[1;33m\u001b[0m\u001b[0m\n\u001b[0;32m    219\u001b[0m         \u001b[1;32mif\u001b[0m \u001b[0mcompat\u001b[0m\u001b[1;33m.\u001b[0m\u001b[0mPY3\u001b[0m\u001b[1;33m:\u001b[0m\u001b[1;33m\u001b[0m\u001b[0m\n",
      "\u001b[1;32mc:\\python37\\lib\\site-packages\\pandas\\io\\formats\\printing.py\u001b[0m in \u001b[0;36m_pprint_seq\u001b[1;34m(seq, _nest_lvl, max_seq_items, **kwds)\u001b[0m\n\u001b[0;32m    111\u001b[0m     \u001b[1;32mfor\u001b[0m \u001b[0mi\u001b[0m \u001b[1;32min\u001b[0m \u001b[0mrange\u001b[0m\u001b[1;33m(\u001b[0m\u001b[0mmin\u001b[0m\u001b[1;33m(\u001b[0m\u001b[0mnitems\u001b[0m\u001b[1;33m,\u001b[0m \u001b[0mlen\u001b[0m\u001b[1;33m(\u001b[0m\u001b[0mseq\u001b[0m\u001b[1;33m)\u001b[0m\u001b[1;33m)\u001b[0m\u001b[1;33m)\u001b[0m\u001b[1;33m:\u001b[0m  \u001b[1;31m# handle sets, no slicing\u001b[0m\u001b[1;33m\u001b[0m\u001b[0m\n\u001b[0;32m    112\u001b[0m         r.append(pprint_thing(\n\u001b[1;32m--> 113\u001b[1;33m             next(s), _nest_lvl + 1, max_seq_items=max_seq_items, **kwds))\n\u001b[0m\u001b[0;32m    114\u001b[0m     \u001b[0mbody\u001b[0m \u001b[1;33m=\u001b[0m \u001b[1;34m\", \"\u001b[0m\u001b[1;33m.\u001b[0m\u001b[0mjoin\u001b[0m\u001b[1;33m(\u001b[0m\u001b[0mr\u001b[0m\u001b[1;33m)\u001b[0m\u001b[1;33m\u001b[0m\u001b[0m\n\u001b[0;32m    115\u001b[0m \u001b[1;33m\u001b[0m\u001b[0m\n",
      "\u001b[1;32mc:\\python37\\lib\\site-packages\\pandas\\io\\formats\\printing.py\u001b[0m in \u001b[0;36mpprint_thing\u001b[1;34m(thing, _nest_lvl, escape_chars, default_escapes, quote_strings, max_seq_items)\u001b[0m\n\u001b[0;32m    215\u001b[0m         result = _pprint_seq(thing, _nest_lvl, escape_chars=escape_chars,\n\u001b[0;32m    216\u001b[0m                              \u001b[0mquote_strings\u001b[0m\u001b[1;33m=\u001b[0m\u001b[0mquote_strings\u001b[0m\u001b[1;33m,\u001b[0m\u001b[1;33m\u001b[0m\u001b[0m\n\u001b[1;32m--> 217\u001b[1;33m                              max_seq_items=max_seq_items)\n\u001b[0m\u001b[0;32m    218\u001b[0m     \u001b[1;32melif\u001b[0m \u001b[0misinstance\u001b[0m\u001b[1;33m(\u001b[0m\u001b[0mthing\u001b[0m\u001b[1;33m,\u001b[0m \u001b[0mcompat\u001b[0m\u001b[1;33m.\u001b[0m\u001b[0mstring_types\u001b[0m\u001b[1;33m)\u001b[0m \u001b[1;32mand\u001b[0m \u001b[0mquote_strings\u001b[0m\u001b[1;33m:\u001b[0m\u001b[1;33m\u001b[0m\u001b[0m\n\u001b[0;32m    219\u001b[0m         \u001b[1;32mif\u001b[0m \u001b[0mcompat\u001b[0m\u001b[1;33m.\u001b[0m\u001b[0mPY3\u001b[0m\u001b[1;33m:\u001b[0m\u001b[1;33m\u001b[0m\u001b[0m\n",
      "\u001b[1;32mc:\\python37\\lib\\site-packages\\pandas\\io\\formats\\printing.py\u001b[0m in \u001b[0;36m_pprint_seq\u001b[1;34m(seq, _nest_lvl, max_seq_items, **kwds)\u001b[0m\n\u001b[0;32m    111\u001b[0m     \u001b[1;32mfor\u001b[0m \u001b[0mi\u001b[0m \u001b[1;32min\u001b[0m \u001b[0mrange\u001b[0m\u001b[1;33m(\u001b[0m\u001b[0mmin\u001b[0m\u001b[1;33m(\u001b[0m\u001b[0mnitems\u001b[0m\u001b[1;33m,\u001b[0m \u001b[0mlen\u001b[0m\u001b[1;33m(\u001b[0m\u001b[0mseq\u001b[0m\u001b[1;33m)\u001b[0m\u001b[1;33m)\u001b[0m\u001b[1;33m)\u001b[0m\u001b[1;33m:\u001b[0m  \u001b[1;31m# handle sets, no slicing\u001b[0m\u001b[1;33m\u001b[0m\u001b[0m\n\u001b[0;32m    112\u001b[0m         r.append(pprint_thing(\n\u001b[1;32m--> 113\u001b[1;33m             next(s), _nest_lvl + 1, max_seq_items=max_seq_items, **kwds))\n\u001b[0m\u001b[0;32m    114\u001b[0m     \u001b[0mbody\u001b[0m \u001b[1;33m=\u001b[0m \u001b[1;34m\", \"\u001b[0m\u001b[1;33m.\u001b[0m\u001b[0mjoin\u001b[0m\u001b[1;33m(\u001b[0m\u001b[0mr\u001b[0m\u001b[1;33m)\u001b[0m\u001b[1;33m\u001b[0m\u001b[0m\n\u001b[0;32m    115\u001b[0m \u001b[1;33m\u001b[0m\u001b[0m\n",
      "\u001b[1;31mStopIteration\u001b[0m: "
     ]
    },
    {
     "data": {
      "text/html": [
       "<table>\n",
       "<thead>\n",
       "<tr><th style=\"text-align: right;\">  predict</th></tr>\n",
       "</thead>\n",
       "<tbody>\n",
       "<tr><td style=\"text-align: right;\"> 0.918879</td></tr>\n",
       "<tr><td style=\"text-align: right;\"> 0.890137</td></tr>\n",
       "<tr><td style=\"text-align: right;\"> 0.941667</td></tr>\n",
       "<tr><td style=\"text-align: right;\"> 0.914733</td></tr>\n",
       "<tr><td style=\"text-align: right;\"> 0.924386</td></tr>\n",
       "<tr><td style=\"text-align: right;\"> 0.927693</td></tr>\n",
       "<tr><td style=\"text-align: right;\"> 0.9237  </td></tr>\n",
       "<tr><td style=\"text-align: right;\"> 0.899857</td></tr>\n",
       "<tr><td style=\"text-align: right;\"> 0.932536</td></tr>\n",
       "<tr><td style=\"text-align: right;\"> 0.925355</td></tr>\n",
       "</tbody>\n",
       "</table>"
      ]
     },
     "metadata": {},
     "output_type": "display_data"
    },
    {
     "ename": "StopIteration",
     "evalue": "",
     "output_type": "error",
     "traceback": [
      "\u001b[1;31m---------------------------------------------------------------------------\u001b[0m",
      "\u001b[1;31mStopIteration\u001b[0m                             Traceback (most recent call last)",
      "\u001b[1;32mc:\\python37\\lib\\site-packages\\IPython\\core\\formatters.py\u001b[0m in \u001b[0;36m__call__\u001b[1;34m(self, obj)\u001b[0m\n\u001b[0;32m    343\u001b[0m             \u001b[0mmethod\u001b[0m \u001b[1;33m=\u001b[0m \u001b[0mget_real_method\u001b[0m\u001b[1;33m(\u001b[0m\u001b[0mobj\u001b[0m\u001b[1;33m,\u001b[0m \u001b[0mself\u001b[0m\u001b[1;33m.\u001b[0m\u001b[0mprint_method\u001b[0m\u001b[1;33m)\u001b[0m\u001b[1;33m\u001b[0m\u001b[0m\n\u001b[0;32m    344\u001b[0m             \u001b[1;32mif\u001b[0m \u001b[0mmethod\u001b[0m \u001b[1;32mis\u001b[0m \u001b[1;32mnot\u001b[0m \u001b[1;32mNone\u001b[0m\u001b[1;33m:\u001b[0m\u001b[1;33m\u001b[0m\u001b[0m\n\u001b[1;32m--> 345\u001b[1;33m                 \u001b[1;32mreturn\u001b[0m \u001b[0mmethod\u001b[0m\u001b[1;33m(\u001b[0m\u001b[1;33m)\u001b[0m\u001b[1;33m\u001b[0m\u001b[0m\n\u001b[0m\u001b[0;32m    346\u001b[0m             \u001b[1;32mreturn\u001b[0m \u001b[1;32mNone\u001b[0m\u001b[1;33m\u001b[0m\u001b[0m\n\u001b[0;32m    347\u001b[0m         \u001b[1;32melse\u001b[0m\u001b[1;33m:\u001b[0m\u001b[1;33m\u001b[0m\u001b[0m\n",
      "\u001b[1;32mc:\\python37\\lib\\site-packages\\pandas\\core\\frame.py\u001b[0m in \u001b[0;36m_repr_html_\u001b[1;34m(self)\u001b[0m\n\u001b[0;32m    694\u001b[0m \u001b[1;33m\u001b[0m\u001b[0m\n\u001b[0;32m    695\u001b[0m             return self.to_html(max_rows=max_rows, max_cols=max_cols,\n\u001b[1;32m--> 696\u001b[1;33m                                 show_dimensions=show_dimensions, notebook=True)\n\u001b[0m\u001b[0;32m    697\u001b[0m         \u001b[1;32melse\u001b[0m\u001b[1;33m:\u001b[0m\u001b[1;33m\u001b[0m\u001b[0m\n\u001b[0;32m    698\u001b[0m             \u001b[1;32mreturn\u001b[0m \u001b[1;32mNone\u001b[0m\u001b[1;33m\u001b[0m\u001b[0m\n",
      "\u001b[1;32mc:\\python37\\lib\\site-packages\\pandas\\core\\frame.py\u001b[0m in \u001b[0;36mto_html\u001b[1;34m(self, buf, columns, col_space, header, index, na_rep, formatters, float_format, sparsify, index_names, justify, bold_rows, classes, escape, max_rows, max_cols, show_dimensions, notebook, decimal, border, table_id)\u001b[0m\n\u001b[0;32m   2035\u001b[0m                                            decimal=decimal, table_id=table_id)\n\u001b[0;32m   2036\u001b[0m         \u001b[1;31m# TODO: a generic formatter wld b in DataFrameFormatter\u001b[0m\u001b[1;33m\u001b[0m\u001b[1;33m\u001b[0m\u001b[0m\n\u001b[1;32m-> 2037\u001b[1;33m         \u001b[0mformatter\u001b[0m\u001b[1;33m.\u001b[0m\u001b[0mto_html\u001b[0m\u001b[1;33m(\u001b[0m\u001b[0mclasses\u001b[0m\u001b[1;33m=\u001b[0m\u001b[0mclasses\u001b[0m\u001b[1;33m,\u001b[0m \u001b[0mnotebook\u001b[0m\u001b[1;33m=\u001b[0m\u001b[0mnotebook\u001b[0m\u001b[1;33m,\u001b[0m \u001b[0mborder\u001b[0m\u001b[1;33m=\u001b[0m\u001b[0mborder\u001b[0m\u001b[1;33m)\u001b[0m\u001b[1;33m\u001b[0m\u001b[0m\n\u001b[0m\u001b[0;32m   2038\u001b[0m \u001b[1;33m\u001b[0m\u001b[0m\n\u001b[0;32m   2039\u001b[0m         \u001b[1;32mif\u001b[0m \u001b[0mbuf\u001b[0m \u001b[1;32mis\u001b[0m \u001b[1;32mNone\u001b[0m\u001b[1;33m:\u001b[0m\u001b[1;33m\u001b[0m\u001b[0m\n",
      "\u001b[1;32mc:\\python37\\lib\\site-packages\\pandas\\io\\formats\\format.py\u001b[0m in \u001b[0;36mto_html\u001b[1;34m(self, classes, notebook, border)\u001b[0m\n\u001b[0;32m    753\u001b[0m                                       table_id=self.table_id)\n\u001b[0;32m    754\u001b[0m         \u001b[1;32mif\u001b[0m \u001b[0mhasattr\u001b[0m\u001b[1;33m(\u001b[0m\u001b[0mself\u001b[0m\u001b[1;33m.\u001b[0m\u001b[0mbuf\u001b[0m\u001b[1;33m,\u001b[0m \u001b[1;34m'write'\u001b[0m\u001b[1;33m)\u001b[0m\u001b[1;33m:\u001b[0m\u001b[1;33m\u001b[0m\u001b[0m\n\u001b[1;32m--> 755\u001b[1;33m             \u001b[0mhtml_renderer\u001b[0m\u001b[1;33m.\u001b[0m\u001b[0mwrite_result\u001b[0m\u001b[1;33m(\u001b[0m\u001b[0mself\u001b[0m\u001b[1;33m.\u001b[0m\u001b[0mbuf\u001b[0m\u001b[1;33m)\u001b[0m\u001b[1;33m\u001b[0m\u001b[0m\n\u001b[0m\u001b[0;32m    756\u001b[0m         \u001b[1;32melif\u001b[0m \u001b[0misinstance\u001b[0m\u001b[1;33m(\u001b[0m\u001b[0mself\u001b[0m\u001b[1;33m.\u001b[0m\u001b[0mbuf\u001b[0m\u001b[1;33m,\u001b[0m \u001b[0mcompat\u001b[0m\u001b[1;33m.\u001b[0m\u001b[0mstring_types\u001b[0m\u001b[1;33m)\u001b[0m\u001b[1;33m:\u001b[0m\u001b[1;33m\u001b[0m\u001b[0m\n\u001b[0;32m    757\u001b[0m             \u001b[1;32mwith\u001b[0m \u001b[0mopen\u001b[0m\u001b[1;33m(\u001b[0m\u001b[0mself\u001b[0m\u001b[1;33m.\u001b[0m\u001b[0mbuf\u001b[0m\u001b[1;33m,\u001b[0m \u001b[1;34m'w'\u001b[0m\u001b[1;33m)\u001b[0m \u001b[1;32mas\u001b[0m \u001b[0mf\u001b[0m\u001b[1;33m:\u001b[0m\u001b[1;33m\u001b[0m\u001b[0m\n",
      "\u001b[1;32mc:\\python37\\lib\\site-packages\\pandas\\io\\formats\\html.py\u001b[0m in \u001b[0;36mwrite_result\u001b[1;34m(self, buf)\u001b[0m\n\u001b[0;32m    178\u001b[0m         \u001b[0mindent\u001b[0m \u001b[1;33m+=\u001b[0m \u001b[0mself\u001b[0m\u001b[1;33m.\u001b[0m\u001b[0mindent_delta\u001b[0m\u001b[1;33m\u001b[0m\u001b[0m\n\u001b[0;32m    179\u001b[0m         \u001b[0mindent\u001b[0m \u001b[1;33m=\u001b[0m \u001b[0mself\u001b[0m\u001b[1;33m.\u001b[0m\u001b[0m_write_header\u001b[0m\u001b[1;33m(\u001b[0m\u001b[0mindent\u001b[0m\u001b[1;33m)\u001b[0m\u001b[1;33m\u001b[0m\u001b[0m\n\u001b[1;32m--> 180\u001b[1;33m         \u001b[0mindent\u001b[0m \u001b[1;33m=\u001b[0m \u001b[0mself\u001b[0m\u001b[1;33m.\u001b[0m\u001b[0m_write_body\u001b[0m\u001b[1;33m(\u001b[0m\u001b[0mindent\u001b[0m\u001b[1;33m)\u001b[0m\u001b[1;33m\u001b[0m\u001b[0m\n\u001b[0m\u001b[0;32m    181\u001b[0m \u001b[1;33m\u001b[0m\u001b[0m\n\u001b[0;32m    182\u001b[0m         \u001b[0mself\u001b[0m\u001b[1;33m.\u001b[0m\u001b[0mwrite\u001b[0m\u001b[1;33m(\u001b[0m\u001b[1;34m'</table>'\u001b[0m\u001b[1;33m,\u001b[0m \u001b[0mindent\u001b[0m\u001b[1;33m)\u001b[0m\u001b[1;33m\u001b[0m\u001b[0m\n",
      "\u001b[1;32mc:\\python37\\lib\\site-packages\\pandas\\io\\formats\\html.py\u001b[0m in \u001b[0;36m_write_body\u001b[1;34m(self, indent)\u001b[0m\n\u001b[0;32m    334\u001b[0m         \u001b[0mfmt_values\u001b[0m \u001b[1;33m=\u001b[0m \u001b[1;33m{\u001b[0m\u001b[1;33m}\u001b[0m\u001b[1;33m\u001b[0m\u001b[0m\n\u001b[0;32m    335\u001b[0m         \u001b[1;32mfor\u001b[0m \u001b[0mi\u001b[0m \u001b[1;32min\u001b[0m \u001b[0mrange\u001b[0m\u001b[1;33m(\u001b[0m\u001b[0mmin\u001b[0m\u001b[1;33m(\u001b[0m\u001b[0mlen\u001b[0m\u001b[1;33m(\u001b[0m\u001b[0mself\u001b[0m\u001b[1;33m.\u001b[0m\u001b[0mcolumns\u001b[0m\u001b[1;33m)\u001b[0m\u001b[1;33m,\u001b[0m \u001b[0mself\u001b[0m\u001b[1;33m.\u001b[0m\u001b[0mmax_cols\u001b[0m\u001b[1;33m)\u001b[0m\u001b[1;33m)\u001b[0m\u001b[1;33m:\u001b[0m\u001b[1;33m\u001b[0m\u001b[0m\n\u001b[1;32m--> 336\u001b[1;33m             \u001b[0mfmt_values\u001b[0m\u001b[1;33m[\u001b[0m\u001b[0mi\u001b[0m\u001b[1;33m]\u001b[0m \u001b[1;33m=\u001b[0m \u001b[0mself\u001b[0m\u001b[1;33m.\u001b[0m\u001b[0mfmt\u001b[0m\u001b[1;33m.\u001b[0m\u001b[0m_format_col\u001b[0m\u001b[1;33m(\u001b[0m\u001b[0mi\u001b[0m\u001b[1;33m)\u001b[0m\u001b[1;33m\u001b[0m\u001b[0m\n\u001b[0m\u001b[0;32m    337\u001b[0m \u001b[1;33m\u001b[0m\u001b[0m\n\u001b[0;32m    338\u001b[0m         \u001b[1;31m# write values\u001b[0m\u001b[1;33m\u001b[0m\u001b[1;33m\u001b[0m\u001b[0m\n",
      "\u001b[1;32mc:\\python37\\lib\\site-packages\\pandas\\io\\formats\\format.py\u001b[0m in \u001b[0;36m_format_col\u001b[1;34m(self, i)\u001b[0m\n\u001b[0;32m    726\u001b[0m         return format_array(values_to_format, formatter,\n\u001b[0;32m    727\u001b[0m                             \u001b[0mfloat_format\u001b[0m\u001b[1;33m=\u001b[0m\u001b[0mself\u001b[0m\u001b[1;33m.\u001b[0m\u001b[0mfloat_format\u001b[0m\u001b[1;33m,\u001b[0m \u001b[0mna_rep\u001b[0m\u001b[1;33m=\u001b[0m\u001b[0mself\u001b[0m\u001b[1;33m.\u001b[0m\u001b[0mna_rep\u001b[0m\u001b[1;33m,\u001b[0m\u001b[1;33m\u001b[0m\u001b[0m\n\u001b[1;32m--> 728\u001b[1;33m                             space=self.col_space, decimal=self.decimal)\n\u001b[0m\u001b[0;32m    729\u001b[0m \u001b[1;33m\u001b[0m\u001b[0m\n\u001b[0;32m    730\u001b[0m     \u001b[1;32mdef\u001b[0m \u001b[0mto_html\u001b[0m\u001b[1;33m(\u001b[0m\u001b[0mself\u001b[0m\u001b[1;33m,\u001b[0m \u001b[0mclasses\u001b[0m\u001b[1;33m=\u001b[0m\u001b[1;32mNone\u001b[0m\u001b[1;33m,\u001b[0m \u001b[0mnotebook\u001b[0m\u001b[1;33m=\u001b[0m\u001b[1;32mFalse\u001b[0m\u001b[1;33m,\u001b[0m \u001b[0mborder\u001b[0m\u001b[1;33m=\u001b[0m\u001b[1;32mNone\u001b[0m\u001b[1;33m)\u001b[0m\u001b[1;33m:\u001b[0m\u001b[1;33m\u001b[0m\u001b[0m\n",
      "\u001b[1;32mc:\\python37\\lib\\site-packages\\pandas\\io\\formats\\format.py\u001b[0m in \u001b[0;36mformat_array\u001b[1;34m(values, formatter, float_format, na_rep, digits, space, justify, decimal)\u001b[0m\n\u001b[0;32m    894\u001b[0m                         space=space, justify=justify, decimal=decimal)\n\u001b[0;32m    895\u001b[0m \u001b[1;33m\u001b[0m\u001b[0m\n\u001b[1;32m--> 896\u001b[1;33m     \u001b[1;32mreturn\u001b[0m \u001b[0mfmt_obj\u001b[0m\u001b[1;33m.\u001b[0m\u001b[0mget_result\u001b[0m\u001b[1;33m(\u001b[0m\u001b[1;33m)\u001b[0m\u001b[1;33m\u001b[0m\u001b[0m\n\u001b[0m\u001b[0;32m    897\u001b[0m \u001b[1;33m\u001b[0m\u001b[0m\n\u001b[0;32m    898\u001b[0m \u001b[1;33m\u001b[0m\u001b[0m\n",
      "\u001b[1;32mc:\\python37\\lib\\site-packages\\pandas\\io\\formats\\format.py\u001b[0m in \u001b[0;36mget_result\u001b[1;34m(self)\u001b[0m\n\u001b[0;32m    914\u001b[0m \u001b[1;33m\u001b[0m\u001b[0m\n\u001b[0;32m    915\u001b[0m     \u001b[1;32mdef\u001b[0m \u001b[0mget_result\u001b[0m\u001b[1;33m(\u001b[0m\u001b[0mself\u001b[0m\u001b[1;33m)\u001b[0m\u001b[1;33m:\u001b[0m\u001b[1;33m\u001b[0m\u001b[0m\n\u001b[1;32m--> 916\u001b[1;33m         \u001b[0mfmt_values\u001b[0m \u001b[1;33m=\u001b[0m \u001b[0mself\u001b[0m\u001b[1;33m.\u001b[0m\u001b[0m_format_strings\u001b[0m\u001b[1;33m(\u001b[0m\u001b[1;33m)\u001b[0m\u001b[1;33m\u001b[0m\u001b[0m\n\u001b[0m\u001b[0;32m    917\u001b[0m         \u001b[1;32mreturn\u001b[0m \u001b[0m_make_fixed_width\u001b[0m\u001b[1;33m(\u001b[0m\u001b[0mfmt_values\u001b[0m\u001b[1;33m,\u001b[0m \u001b[0mself\u001b[0m\u001b[1;33m.\u001b[0m\u001b[0mjustify\u001b[0m\u001b[1;33m)\u001b[0m\u001b[1;33m\u001b[0m\u001b[0m\n\u001b[0;32m    918\u001b[0m \u001b[1;33m\u001b[0m\u001b[0m\n",
      "\u001b[1;32mc:\\python37\\lib\\site-packages\\pandas\\io\\formats\\format.py\u001b[0m in \u001b[0;36m_format_strings\u001b[1;34m(self)\u001b[0m\n\u001b[0;32m    960\u001b[0m                 \u001b[0mfmt_values\u001b[0m\u001b[1;33m.\u001b[0m\u001b[0mappend\u001b[0m\u001b[1;33m(\u001b[0m\u001b[0mfloat_format\u001b[0m\u001b[1;33m(\u001b[0m\u001b[0mv\u001b[0m\u001b[1;33m)\u001b[0m\u001b[1;33m)\u001b[0m\u001b[1;33m\u001b[0m\u001b[0m\n\u001b[0;32m    961\u001b[0m             \u001b[1;32melse\u001b[0m\u001b[1;33m:\u001b[0m\u001b[1;33m\u001b[0m\u001b[0m\n\u001b[1;32m--> 962\u001b[1;33m                 \u001b[0mfmt_values\u001b[0m\u001b[1;33m.\u001b[0m\u001b[0mappend\u001b[0m\u001b[1;33m(\u001b[0m\u001b[1;34mu' {v}'\u001b[0m\u001b[1;33m.\u001b[0m\u001b[0mformat\u001b[0m\u001b[1;33m(\u001b[0m\u001b[0mv\u001b[0m\u001b[1;33m=\u001b[0m\u001b[0m_format\u001b[0m\u001b[1;33m(\u001b[0m\u001b[0mv\u001b[0m\u001b[1;33m)\u001b[0m\u001b[1;33m)\u001b[0m\u001b[1;33m)\u001b[0m\u001b[1;33m\u001b[0m\u001b[0m\n\u001b[0m\u001b[0;32m    963\u001b[0m \u001b[1;33m\u001b[0m\u001b[0m\n\u001b[0;32m    964\u001b[0m         \u001b[1;32mreturn\u001b[0m \u001b[0mfmt_values\u001b[0m\u001b[1;33m\u001b[0m\u001b[0m\n",
      "\u001b[1;32mc:\\python37\\lib\\site-packages\\pandas\\io\\formats\\format.py\u001b[0m in \u001b[0;36m_format\u001b[1;34m(x)\u001b[0m\n\u001b[0;32m    942\u001b[0m             \u001b[1;32melse\u001b[0m\u001b[1;33m:\u001b[0m\u001b[1;33m\u001b[0m\u001b[0m\n\u001b[0;32m    943\u001b[0m                 \u001b[1;31m# object dtype\u001b[0m\u001b[1;33m\u001b[0m\u001b[1;33m\u001b[0m\u001b[0m\n\u001b[1;32m--> 944\u001b[1;33m                 \u001b[1;32mreturn\u001b[0m \u001b[1;34mu'{x}'\u001b[0m\u001b[1;33m.\u001b[0m\u001b[0mformat\u001b[0m\u001b[1;33m(\u001b[0m\u001b[0mx\u001b[0m\u001b[1;33m=\u001b[0m\u001b[0mformatter\u001b[0m\u001b[1;33m(\u001b[0m\u001b[0mx\u001b[0m\u001b[1;33m)\u001b[0m\u001b[1;33m)\u001b[0m\u001b[1;33m\u001b[0m\u001b[0m\n\u001b[0m\u001b[0;32m    945\u001b[0m \u001b[1;33m\u001b[0m\u001b[0m\n\u001b[0;32m    946\u001b[0m         \u001b[0mvals\u001b[0m \u001b[1;33m=\u001b[0m \u001b[0mself\u001b[0m\u001b[1;33m.\u001b[0m\u001b[0mvalues\u001b[0m\u001b[1;33m\u001b[0m\u001b[0m\n",
      "\u001b[1;32mc:\\python37\\lib\\site-packages\\pandas\\io\\formats\\format.py\u001b[0m in \u001b[0;36m<lambda>\u001b[1;34m(x)\u001b[0m\n\u001b[0;32m    929\u001b[0m         formatter = (\n\u001b[0;32m    930\u001b[0m             \u001b[0mself\u001b[0m\u001b[1;33m.\u001b[0m\u001b[0mformatter\u001b[0m \u001b[1;32mif\u001b[0m \u001b[0mself\u001b[0m\u001b[1;33m.\u001b[0m\u001b[0mformatter\u001b[0m \u001b[1;32mis\u001b[0m \u001b[1;32mnot\u001b[0m \u001b[1;32mNone\u001b[0m \u001b[1;32melse\u001b[0m\u001b[1;33m\u001b[0m\u001b[0m\n\u001b[1;32m--> 931\u001b[1;33m             (lambda x: pprint_thing(x, escape_chars=('\\t', '\\r', '\\n'))))\n\u001b[0m\u001b[0;32m    932\u001b[0m \u001b[1;33m\u001b[0m\u001b[0m\n\u001b[0;32m    933\u001b[0m         \u001b[1;32mdef\u001b[0m \u001b[0m_format\u001b[0m\u001b[1;33m(\u001b[0m\u001b[0mx\u001b[0m\u001b[1;33m)\u001b[0m\u001b[1;33m:\u001b[0m\u001b[1;33m\u001b[0m\u001b[0m\n",
      "\u001b[1;32mc:\\python37\\lib\\site-packages\\pandas\\io\\formats\\printing.py\u001b[0m in \u001b[0;36mpprint_thing\u001b[1;34m(thing, _nest_lvl, escape_chars, default_escapes, quote_strings, max_seq_items)\u001b[0m\n\u001b[0;32m    215\u001b[0m         result = _pprint_seq(thing, _nest_lvl, escape_chars=escape_chars,\n\u001b[0;32m    216\u001b[0m                              \u001b[0mquote_strings\u001b[0m\u001b[1;33m=\u001b[0m\u001b[0mquote_strings\u001b[0m\u001b[1;33m,\u001b[0m\u001b[1;33m\u001b[0m\u001b[0m\n\u001b[1;32m--> 217\u001b[1;33m                              max_seq_items=max_seq_items)\n\u001b[0m\u001b[0;32m    218\u001b[0m     \u001b[1;32melif\u001b[0m \u001b[0misinstance\u001b[0m\u001b[1;33m(\u001b[0m\u001b[0mthing\u001b[0m\u001b[1;33m,\u001b[0m \u001b[0mcompat\u001b[0m\u001b[1;33m.\u001b[0m\u001b[0mstring_types\u001b[0m\u001b[1;33m)\u001b[0m \u001b[1;32mand\u001b[0m \u001b[0mquote_strings\u001b[0m\u001b[1;33m:\u001b[0m\u001b[1;33m\u001b[0m\u001b[0m\n\u001b[0;32m    219\u001b[0m         \u001b[1;32mif\u001b[0m \u001b[0mcompat\u001b[0m\u001b[1;33m.\u001b[0m\u001b[0mPY3\u001b[0m\u001b[1;33m:\u001b[0m\u001b[1;33m\u001b[0m\u001b[0m\n",
      "\u001b[1;32mc:\\python37\\lib\\site-packages\\pandas\\io\\formats\\printing.py\u001b[0m in \u001b[0;36m_pprint_seq\u001b[1;34m(seq, _nest_lvl, max_seq_items, **kwds)\u001b[0m\n\u001b[0;32m    111\u001b[0m     \u001b[1;32mfor\u001b[0m \u001b[0mi\u001b[0m \u001b[1;32min\u001b[0m \u001b[0mrange\u001b[0m\u001b[1;33m(\u001b[0m\u001b[0mmin\u001b[0m\u001b[1;33m(\u001b[0m\u001b[0mnitems\u001b[0m\u001b[1;33m,\u001b[0m \u001b[0mlen\u001b[0m\u001b[1;33m(\u001b[0m\u001b[0mseq\u001b[0m\u001b[1;33m)\u001b[0m\u001b[1;33m)\u001b[0m\u001b[1;33m)\u001b[0m\u001b[1;33m:\u001b[0m  \u001b[1;31m# handle sets, no slicing\u001b[0m\u001b[1;33m\u001b[0m\u001b[0m\n\u001b[0;32m    112\u001b[0m         r.append(pprint_thing(\n\u001b[1;32m--> 113\u001b[1;33m             next(s), _nest_lvl + 1, max_seq_items=max_seq_items, **kwds))\n\u001b[0m\u001b[0;32m    114\u001b[0m     \u001b[0mbody\u001b[0m \u001b[1;33m=\u001b[0m \u001b[1;34m\", \"\u001b[0m\u001b[1;33m.\u001b[0m\u001b[0mjoin\u001b[0m\u001b[1;33m(\u001b[0m\u001b[0mr\u001b[0m\u001b[1;33m)\u001b[0m\u001b[1;33m\u001b[0m\u001b[0m\n\u001b[0;32m    115\u001b[0m \u001b[1;33m\u001b[0m\u001b[0m\n",
      "\u001b[1;32mc:\\python37\\lib\\site-packages\\pandas\\io\\formats\\printing.py\u001b[0m in \u001b[0;36mpprint_thing\u001b[1;34m(thing, _nest_lvl, escape_chars, default_escapes, quote_strings, max_seq_items)\u001b[0m\n\u001b[0;32m    215\u001b[0m         result = _pprint_seq(thing, _nest_lvl, escape_chars=escape_chars,\n\u001b[0;32m    216\u001b[0m                              \u001b[0mquote_strings\u001b[0m\u001b[1;33m=\u001b[0m\u001b[0mquote_strings\u001b[0m\u001b[1;33m,\u001b[0m\u001b[1;33m\u001b[0m\u001b[0m\n\u001b[1;32m--> 217\u001b[1;33m                              max_seq_items=max_seq_items)\n\u001b[0m\u001b[0;32m    218\u001b[0m     \u001b[1;32melif\u001b[0m \u001b[0misinstance\u001b[0m\u001b[1;33m(\u001b[0m\u001b[0mthing\u001b[0m\u001b[1;33m,\u001b[0m \u001b[0mcompat\u001b[0m\u001b[1;33m.\u001b[0m\u001b[0mstring_types\u001b[0m\u001b[1;33m)\u001b[0m \u001b[1;32mand\u001b[0m \u001b[0mquote_strings\u001b[0m\u001b[1;33m:\u001b[0m\u001b[1;33m\u001b[0m\u001b[0m\n\u001b[0;32m    219\u001b[0m         \u001b[1;32mif\u001b[0m \u001b[0mcompat\u001b[0m\u001b[1;33m.\u001b[0m\u001b[0mPY3\u001b[0m\u001b[1;33m:\u001b[0m\u001b[1;33m\u001b[0m\u001b[0m\n",
      "\u001b[1;32mc:\\python37\\lib\\site-packages\\pandas\\io\\formats\\printing.py\u001b[0m in \u001b[0;36m_pprint_seq\u001b[1;34m(seq, _nest_lvl, max_seq_items, **kwds)\u001b[0m\n\u001b[0;32m    111\u001b[0m     \u001b[1;32mfor\u001b[0m \u001b[0mi\u001b[0m \u001b[1;32min\u001b[0m \u001b[0mrange\u001b[0m\u001b[1;33m(\u001b[0m\u001b[0mmin\u001b[0m\u001b[1;33m(\u001b[0m\u001b[0mnitems\u001b[0m\u001b[1;33m,\u001b[0m \u001b[0mlen\u001b[0m\u001b[1;33m(\u001b[0m\u001b[0mseq\u001b[0m\u001b[1;33m)\u001b[0m\u001b[1;33m)\u001b[0m\u001b[1;33m)\u001b[0m\u001b[1;33m:\u001b[0m  \u001b[1;31m# handle sets, no slicing\u001b[0m\u001b[1;33m\u001b[0m\u001b[0m\n\u001b[0;32m    112\u001b[0m         r.append(pprint_thing(\n\u001b[1;32m--> 113\u001b[1;33m             next(s), _nest_lvl + 1, max_seq_items=max_seq_items, **kwds))\n\u001b[0m\u001b[0;32m    114\u001b[0m     \u001b[0mbody\u001b[0m \u001b[1;33m=\u001b[0m \u001b[1;34m\", \"\u001b[0m\u001b[1;33m.\u001b[0m\u001b[0mjoin\u001b[0m\u001b[1;33m(\u001b[0m\u001b[0mr\u001b[0m\u001b[1;33m)\u001b[0m\u001b[1;33m\u001b[0m\u001b[0m\n\u001b[0;32m    115\u001b[0m \u001b[1;33m\u001b[0m\u001b[0m\n",
      "\u001b[1;32mc:\\python37\\lib\\site-packages\\pandas\\io\\formats\\printing.py\u001b[0m in \u001b[0;36mpprint_thing\u001b[1;34m(thing, _nest_lvl, escape_chars, default_escapes, quote_strings, max_seq_items)\u001b[0m\n\u001b[0;32m    215\u001b[0m         result = _pprint_seq(thing, _nest_lvl, escape_chars=escape_chars,\n\u001b[0;32m    216\u001b[0m                              \u001b[0mquote_strings\u001b[0m\u001b[1;33m=\u001b[0m\u001b[0mquote_strings\u001b[0m\u001b[1;33m,\u001b[0m\u001b[1;33m\u001b[0m\u001b[0m\n\u001b[1;32m--> 217\u001b[1;33m                              max_seq_items=max_seq_items)\n\u001b[0m\u001b[0;32m    218\u001b[0m     \u001b[1;32melif\u001b[0m \u001b[0misinstance\u001b[0m\u001b[1;33m(\u001b[0m\u001b[0mthing\u001b[0m\u001b[1;33m,\u001b[0m \u001b[0mcompat\u001b[0m\u001b[1;33m.\u001b[0m\u001b[0mstring_types\u001b[0m\u001b[1;33m)\u001b[0m \u001b[1;32mand\u001b[0m \u001b[0mquote_strings\u001b[0m\u001b[1;33m:\u001b[0m\u001b[1;33m\u001b[0m\u001b[0m\n\u001b[0;32m    219\u001b[0m         \u001b[1;32mif\u001b[0m \u001b[0mcompat\u001b[0m\u001b[1;33m.\u001b[0m\u001b[0mPY3\u001b[0m\u001b[1;33m:\u001b[0m\u001b[1;33m\u001b[0m\u001b[0m\n",
      "\u001b[1;32mc:\\python37\\lib\\site-packages\\pandas\\io\\formats\\printing.py\u001b[0m in \u001b[0;36m_pprint_seq\u001b[1;34m(seq, _nest_lvl, max_seq_items, **kwds)\u001b[0m\n\u001b[0;32m    111\u001b[0m     \u001b[1;32mfor\u001b[0m \u001b[0mi\u001b[0m \u001b[1;32min\u001b[0m \u001b[0mrange\u001b[0m\u001b[1;33m(\u001b[0m\u001b[0mmin\u001b[0m\u001b[1;33m(\u001b[0m\u001b[0mnitems\u001b[0m\u001b[1;33m,\u001b[0m \u001b[0mlen\u001b[0m\u001b[1;33m(\u001b[0m\u001b[0mseq\u001b[0m\u001b[1;33m)\u001b[0m\u001b[1;33m)\u001b[0m\u001b[1;33m)\u001b[0m\u001b[1;33m:\u001b[0m  \u001b[1;31m# handle sets, no slicing\u001b[0m\u001b[1;33m\u001b[0m\u001b[0m\n\u001b[0;32m    112\u001b[0m         r.append(pprint_thing(\n\u001b[1;32m--> 113\u001b[1;33m             next(s), _nest_lvl + 1, max_seq_items=max_seq_items, **kwds))\n\u001b[0m\u001b[0;32m    114\u001b[0m     \u001b[0mbody\u001b[0m \u001b[1;33m=\u001b[0m \u001b[1;34m\", \"\u001b[0m\u001b[1;33m.\u001b[0m\u001b[0mjoin\u001b[0m\u001b[1;33m(\u001b[0m\u001b[0mr\u001b[0m\u001b[1;33m)\u001b[0m\u001b[1;33m\u001b[0m\u001b[0m\n\u001b[0;32m    115\u001b[0m \u001b[1;33m\u001b[0m\u001b[0m\n",
      "\u001b[1;31mStopIteration\u001b[0m: "
     ]
    }
   ],
   "source": [
    "predictions"
   ]
  },
  {
   "cell_type": "code",
   "execution_count": null,
   "metadata": {},
   "outputs": [],
   "source": []
  },
  {
   "cell_type": "code",
   "execution_count": 198,
   "metadata": {},
   "outputs": [
    {
     "data": {
      "text/html": [
       "<table>\n",
       "<thead>\n",
       "<tr><th style=\"text-align: right;\">  predict</th></tr>\n",
       "</thead>\n",
       "<tbody>\n",
       "<tr><td style=\"text-align: right;\"> 0.918879</td></tr>\n",
       "<tr><td style=\"text-align: right;\"> 0.890137</td></tr>\n",
       "<tr><td style=\"text-align: right;\"> 0.941667</td></tr>\n",
       "<tr><td style=\"text-align: right;\"> 0.914733</td></tr>\n",
       "<tr><td style=\"text-align: right;\"> 0.924386</td></tr>\n",
       "<tr><td style=\"text-align: right;\"> 0.927693</td></tr>\n",
       "<tr><td style=\"text-align: right;\"> 0.9237  </td></tr>\n",
       "<tr><td style=\"text-align: right;\"> 0.899857</td></tr>\n",
       "<tr><td style=\"text-align: right;\"> 0.932536</td></tr>\n",
       "<tr><td style=\"text-align: right;\"> 0.925355</td></tr>\n",
       "</tbody>\n",
       "</table>"
      ]
     },
     "metadata": {},
     "output_type": "display_data"
    }
   ],
   "source": [
    "predictions.to_csv('sub.csv')"
   ]
  },
  {
   "cell_type": "code",
   "execution_count": null,
   "metadata": {},
   "outputs": [],
   "source": []
  }
 ],
 "metadata": {
  "kernelspec": {
   "display_name": "Python 3",
   "language": "python",
   "name": "python3"
  },
  "language_info": {
   "codemirror_mode": {
    "name": "ipython",
    "version": 3
   },
   "file_extension": ".py",
   "mimetype": "text/x-python",
   "name": "python",
   "nbconvert_exporter": "python",
   "pygments_lexer": "ipython3",
   "version": "3.7.0"
  }
 },
 "nbformat": 4,
 "nbformat_minor": 2
}
