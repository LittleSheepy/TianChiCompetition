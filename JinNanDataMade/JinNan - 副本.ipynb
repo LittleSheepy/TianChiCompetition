{
 "cells": [
  {
   "cell_type": "code",
   "execution_count": 2,
   "metadata": {},
   "outputs": [
    {
     "name": "stdout",
     "output_type": "stream",
     "text": [
      "Checking whether there is an H2O instance running at http://localhost:54321..... not found.\n",
      "Attempting to start a local H2O server...\n",
      "; Java HotSpot(TM) 64-Bit Server VM 18.9 (build 11.0.1+13-LTS, mixed mode)\n",
      "  Starting server from c:\\python37\\lib\\site-packages\\h2o\\backend\\bin\\h2o.jar\n",
      "  Ice root: C:\\Users\\LIUCUI~1.LON\\AppData\\Local\\Temp\\tmpugowmdhm\n",
      "  JVM stdout: C:\\Users\\LIUCUI~1.LON\\AppData\\Local\\Temp\\tmpugowmdhm\\h2o_liucuili_started_from_python.out\n",
      "  JVM stderr: C:\\Users\\LIUCUI~1.LON\\AppData\\Local\\Temp\\tmpugowmdhm\\h2o_liucuili_started_from_python.err\n",
      "  Server is running at http://127.0.0.1:54321\n",
      "Connecting to H2O server at http://127.0.0.1:54321... successful.\n"
     ]
    },
    {
     "data": {
      "text/html": [
       "<div style=\"overflow:auto\"><table style=\"width:50%\"><tr><td>H2O cluster uptime:</td>\n",
       "<td>01 secs</td></tr>\n",
       "<tr><td>H2O cluster timezone:</td>\n",
       "<td>Asia/Shanghai</td></tr>\n",
       "<tr><td>H2O data parsing timezone:</td>\n",
       "<td>UTC</td></tr>\n",
       "<tr><td>H2O cluster version:</td>\n",
       "<td>3.22.1.1</td></tr>\n",
       "<tr><td>H2O cluster version age:</td>\n",
       "<td>12 days </td></tr>\n",
       "<tr><td>H2O cluster name:</td>\n",
       "<td>H2O_from_python_liucuili_9n67js</td></tr>\n",
       "<tr><td>H2O cluster total nodes:</td>\n",
       "<td>1</td></tr>\n",
       "<tr><td>H2O cluster free memory:</td>\n",
       "<td>64 Gb</td></tr>\n",
       "<tr><td>H2O cluster total cores:</td>\n",
       "<td>4</td></tr>\n",
       "<tr><td>H2O cluster allowed cores:</td>\n",
       "<td>4</td></tr>\n",
       "<tr><td>H2O cluster status:</td>\n",
       "<td>accepting new members, healthy</td></tr>\n",
       "<tr><td>H2O connection url:</td>\n",
       "<td>http://127.0.0.1:54321</td></tr>\n",
       "<tr><td>H2O connection proxy:</td>\n",
       "<td>None</td></tr>\n",
       "<tr><td>H2O internal security:</td>\n",
       "<td>False</td></tr>\n",
       "<tr><td>H2O API Extensions:</td>\n",
       "<td>Algos, AutoML, Core V3, Core V4</td></tr>\n",
       "<tr><td>Python version:</td>\n",
       "<td>3.7.0 final</td></tr></table></div>"
      ],
      "text/plain": [
       "--------------------------  -------------------------------\n",
       "H2O cluster uptime:         01 secs\n",
       "H2O cluster timezone:       Asia/Shanghai\n",
       "H2O data parsing timezone:  UTC\n",
       "H2O cluster version:        3.22.1.1\n",
       "H2O cluster version age:    12 days\n",
       "H2O cluster name:           H2O_from_python_liucuili_9n67js\n",
       "H2O cluster total nodes:    1\n",
       "H2O cluster free memory:    64 Gb\n",
       "H2O cluster total cores:    4\n",
       "H2O cluster allowed cores:  4\n",
       "H2O cluster status:         accepting new members, healthy\n",
       "H2O connection url:         http://127.0.0.1:54321\n",
       "H2O connection proxy:\n",
       "H2O internal security:      False\n",
       "H2O API Extensions:         Algos, AutoML, Core V3, Core V4\n",
       "Python version:             3.7.0 final\n",
       "--------------------------  -------------------------------"
      ]
     },
     "metadata": {},
     "output_type": "display_data"
    }
   ],
   "source": [
    "# 想直接看对自己模型的提升的，把max_model改成20，赋权重融合到自己模型里\n",
    "# 按我的经验，融合之前先算一下差异性,np.corr,可以达到0.97左右的相关性的话，融合效果会比较好\n",
    "\n",
    "# 想用的就用，不想用的没必要在这浪费时间\n",
    "# 也呼吁大家多看看鱼的代码，里面干货很多，这份代码的成绩取决于你放进来什么特征\n",
    "# 这份特征在我自己特征工程之后可以达到榜上的成绩，原始特征大概是88左右\n",
    "\n",
    "import h2o\n",
    "from h2o.automl import H2OAutoML\n",
    "h2o.init(max_mem_size='64G')"
   ]
  },
  {
   "cell_type": "code",
   "execution_count": 31,
   "metadata": {},
   "outputs": [
    {
     "name": "stdout",
     "output_type": "stream",
     "text": [
      "Parse progress: |█████████████████████████████████████████████████████████| 100%\n",
      "Parse progress: |█████████████████████████████████████████████████████████| 100%\n"
     ]
    }
   ],
   "source": [
    "train = h2o.upload_file(\"./datasets1/jinnan_round1_train_20181227.csv\", header=0)\n",
    "test = h2o.upload_file(\"./datasets1/jinnan_round1_testA_20181227.csv\", header=0)"
   ]
  },
  {
   "cell_type": "code",
   "execution_count": 20,
   "metadata": {},
   "outputs": [
    {
     "data": {
      "text/html": [
       "<table>\n",
       "<thead>\n",
       "<tr><th>id         </th><th style=\"text-align: right;\">  A1</th><th style=\"text-align: right;\">  A2</th><th style=\"text-align: right;\">  A3</th><th style=\"text-align: right;\">  A4</th><th>A5                 </th><th style=\"text-align: right;\">  A6</th><th>A7  </th><th style=\"text-align: right;\">  A8</th><th>A9                 </th><th style=\"text-align: right;\">  A10</th><th>A11                </th><th style=\"text-align: right;\">  A12</th><th style=\"text-align: right;\">  A13</th><th>A14                </th><th style=\"text-align: right;\">  A15</th><th>A16                </th><th style=\"text-align: right;\">  A17</th><th style=\"text-align: right;\">  A18</th><th style=\"text-align: right;\">  A19</th><th>A20        </th><th style=\"text-align: right;\">  A21</th><th style=\"text-align: right;\">  A22</th><th style=\"text-align: right;\">  A23</th><th>A24                </th><th style=\"text-align: right;\">  A25</th><th>A26                </th><th style=\"text-align: right;\">  A27</th><th>A28        </th><th style=\"text-align: right;\">  B1</th><th style=\"text-align: right;\">  B2</th><th style=\"text-align: right;\">  B3</th><th>B4         </th><th>B5                 </th><th style=\"text-align: right;\">  B6</th><th>B7                 </th><th style=\"text-align: right;\">  B8</th><th>B9         </th><th>B10        </th><th>B11        </th><th style=\"text-align: right;\">  B12</th><th style=\"text-align: right;\">  B13</th><th style=\"text-align: right;\">  B14</th><th style=\"text-align: right;\">  rate</th></tr>\n",
       "</thead>\n",
       "<tbody>\n",
       "<tr><td>sample_1   </td><td style=\"text-align: right;\"> 300</td><td style=\"text-align: right;\"> nan</td><td style=\"text-align: right;\"> 405</td><td style=\"text-align: right;\"> 700</td><td>1970-01-01 06:30:00</td><td style=\"text-align: right;\">  25</td><td>    </td><td style=\"text-align: right;\"> nan</td><td>1970-01-01 08:00:00</td><td style=\"text-align: right;\">  100</td><td>1970-01-01 09:00:00</td><td style=\"text-align: right;\">  103</td><td style=\"text-align: right;\">  0.2</td><td>1970-01-01 10:00:00</td><td style=\"text-align: right;\">  104</td><td>1970-01-01 11:00:00</td><td style=\"text-align: right;\">  105</td><td style=\"text-align: right;\">  0.2</td><td style=\"text-align: right;\">  300</td><td>15:00-15:30</td><td style=\"text-align: right;\">   40</td><td style=\"text-align: right;\">    9</td><td style=\"text-align: right;\">    5</td><td>1970-01-01 15:30:00</td><td style=\"text-align: right;\">   70</td><td>1970-01-01 16:00:00</td><td style=\"text-align: right;\">   78</td><td>0:00-1:00  </td><td style=\"text-align: right;\"> 320</td><td style=\"text-align: right;\"> 3.5</td><td style=\"text-align: right;\"> 3.5</td><td>1:00-2:30  </td><td>1970-01-01 02:30:00</td><td style=\"text-align: right;\">  60</td><td>1970-01-01 04:30:00</td><td style=\"text-align: right;\">  40</td><td>8:00-9:30  </td><td>10:00-11:30</td><td>           </td><td style=\"text-align: right;\">  800</td><td style=\"text-align: right;\"> 0.15</td><td style=\"text-align: right;\">  400</td><td style=\"text-align: right;\"> 0.9  </td></tr>\n",
       "<tr><td>sample_100 </td><td style=\"text-align: right;\"> 300</td><td style=\"text-align: right;\"> nan</td><td style=\"text-align: right;\"> 405</td><td style=\"text-align: right;\"> 700</td><td>1970-01-01 20:00:00</td><td style=\"text-align: right;\">  29</td><td>    </td><td style=\"text-align: right;\"> nan</td><td>1970-01-01 22:00:00</td><td style=\"text-align: right;\">  101</td><td>1970-01-01 23:00:00</td><td style=\"text-align: right;\">  103</td><td style=\"text-align: right;\">  0.2</td><td>1970-01-01 00:00:00</td><td style=\"text-align: right;\">  104</td><td>1970-01-01 01:00:00</td><td style=\"text-align: right;\">  105</td><td style=\"text-align: right;\">  0.2</td><td style=\"text-align: right;\">  200</td><td>1:00-2:00  </td><td style=\"text-align: right;\">   50</td><td style=\"text-align: right;\">    9</td><td style=\"text-align: right;\">    5</td><td>1970-01-01 02:00:00</td><td style=\"text-align: right;\">   80</td><td>1970-01-01 03:00:00</td><td style=\"text-align: right;\">   73</td><td>3:00-4:00  </td><td style=\"text-align: right;\"> 320</td><td style=\"text-align: right;\"> 3.5</td><td style=\"text-align: right;\"> 3.5</td><td>4:00-5:00  </td><td>1970-01-01 05:00:00</td><td style=\"text-align: right;\">  80</td><td>1970-01-01 07:00:00</td><td style=\"text-align: right;\">  45</td><td>7:00-8:30  </td><td>8:30-10:00 </td><td>10:00-11:00</td><td style=\"text-align: right;\"> 1200</td><td style=\"text-align: right;\"> 0.15</td><td style=\"text-align: right;\">  400</td><td style=\"text-align: right;\"> 0.902</td></tr>\n",
       "<tr><td>sample_1000</td><td style=\"text-align: right;\"> 300</td><td style=\"text-align: right;\"> nan</td><td style=\"text-align: right;\"> 405</td><td style=\"text-align: right;\"> 700</td><td>1970-01-01 17:00:00</td><td style=\"text-align: right;\">  30</td><td>    </td><td style=\"text-align: right;\"> nan</td><td>1970-01-01 18:00:00</td><td style=\"text-align: right;\">  100</td><td>1970-01-01 19:00:00</td><td style=\"text-align: right;\">  101</td><td style=\"text-align: right;\">  0.2</td><td>1970-01-01 20:00:00</td><td style=\"text-align: right;\">  103</td><td>1970-01-01 21:00:00</td><td style=\"text-align: right;\">  105</td><td style=\"text-align: right;\">  0.2</td><td style=\"text-align: right;\">  200</td><td>21:30-22:00</td><td style=\"text-align: right;\">   50</td><td style=\"text-align: right;\">   10</td><td style=\"text-align: right;\">    5</td><td>1970-01-01 22:30:00</td><td style=\"text-align: right;\">   70</td><td>1970-01-01 23:30:00</td><td style=\"text-align: right;\">   78</td><td>3:30-4:30  </td><td style=\"text-align: right;\"> 290</td><td style=\"text-align: right;\"> 3.5</td><td style=\"text-align: right;\"> 3.5</td><td>4:30-5:30  </td><td>1970-01-01 05:30:00</td><td style=\"text-align: right;\">  65</td><td>1970-01-01 07:30:00</td><td style=\"text-align: right;\">  45</td><td>9:00-10:30 </td><td>10:30-12:00</td><td>           </td><td style=\"text-align: right;\">  800</td><td style=\"text-align: right;\"> 0.15</td><td style=\"text-align: right;\">  400</td><td style=\"text-align: right;\"> 0.902</td></tr>\n",
       "<tr><td>sample_1001</td><td style=\"text-align: right;\"> 300</td><td style=\"text-align: right;\"> nan</td><td style=\"text-align: right;\"> 405</td><td style=\"text-align: right;\"> 700</td><td>1970-01-01 01:00:00</td><td style=\"text-align: right;\">  21</td><td>    </td><td style=\"text-align: right;\"> nan</td><td>1970-01-01 02:30:00</td><td style=\"text-align: right;\">  100</td><td>1970-01-01 03:30:00</td><td style=\"text-align: right;\">  101</td><td style=\"text-align: right;\">  0.2</td><td>1970-01-01 04:30:00</td><td style=\"text-align: right;\">  103</td><td>1970-01-01 05:30:00</td><td style=\"text-align: right;\">  105</td><td style=\"text-align: right;\">  0.2</td><td style=\"text-align: right;\">  200</td><td>6:00-6:30  </td><td style=\"text-align: right;\">   50</td><td style=\"text-align: right;\">    9</td><td style=\"text-align: right;\">    5</td><td>1970-01-01 07:00:00</td><td style=\"text-align: right;\">   70</td><td>1970-01-01 07:30:00</td><td style=\"text-align: right;\">   78</td><td>10:30-11:00</td><td style=\"text-align: right;\"> 290</td><td style=\"text-align: right;\"> 3.5</td><td style=\"text-align: right;\"> 3.5</td><td>11:00-12:00</td><td>1970-01-01 12:00:00</td><td style=\"text-align: right;\">  60</td><td>1970-01-01 19:00:00</td><td style=\"text-align: right;\">  36</td><td>19:30-21:00</td><td>21:40-23:10</td><td>           </td><td style=\"text-align: right;\">  800</td><td style=\"text-align: right;\"> 0.15</td><td style=\"text-align: right;\">  380</td><td style=\"text-align: right;\"> 0.868</td></tr>\n",
       "<tr><td>sample_1002</td><td style=\"text-align: right;\"> 300</td><td style=\"text-align: right;\"> nan</td><td style=\"text-align: right;\"> 405</td><td style=\"text-align: right;\"> 700</td><td>1970-01-01 14:00:00</td><td style=\"text-align: right;\">  21</td><td>    </td><td style=\"text-align: right;\"> nan</td><td>1970-01-01 15:00:00</td><td style=\"text-align: right;\">  100</td><td>1970-01-01 16:00:00</td><td style=\"text-align: right;\">  101</td><td style=\"text-align: right;\">  0.2</td><td>1970-01-01 17:00:00</td><td style=\"text-align: right;\">  102</td><td>1970-01-01 18:00:00</td><td style=\"text-align: right;\">  103</td><td style=\"text-align: right;\">  0.2</td><td style=\"text-align: right;\">  200</td><td>18:00-18:30</td><td style=\"text-align: right;\">   50</td><td style=\"text-align: right;\">    9</td><td style=\"text-align: right;\">    5</td><td>1970-01-01 18:30:00</td><td style=\"text-align: right;\">   70</td><td>1970-01-01 19:00:00</td><td style=\"text-align: right;\">   78</td><td>19:00-20:00</td><td style=\"text-align: right;\"> 300</td><td style=\"text-align: right;\"> 3.5</td><td style=\"text-align: right;\"> 3.5</td><td>20:00-21:30</td><td>1970-01-01 21:30:00</td><td style=\"text-align: right;\">  60</td><td>1970-01-01 04:00:00</td><td style=\"text-align: right;\">  39</td><td>4:30-6:00  </td><td>7:00-8:00  </td><td>           </td><td style=\"text-align: right;\">  800</td><td style=\"text-align: right;\"> 0.15</td><td style=\"text-align: right;\">  380</td><td style=\"text-align: right;\"> 0.878</td></tr>\n",
       "<tr><td>sample_1004</td><td style=\"text-align: right;\"> 300</td><td style=\"text-align: right;\"> nan</td><td style=\"text-align: right;\"> 405</td><td style=\"text-align: right;\"> 700</td><td>1970-01-01 07:00:00</td><td style=\"text-align: right;\">  20</td><td>    </td><td style=\"text-align: right;\"> nan</td><td>1970-01-01 08:30:00</td><td style=\"text-align: right;\">  100</td><td>1970-01-01 09:30:00</td><td style=\"text-align: right;\">  102</td><td style=\"text-align: right;\">  0.2</td><td>1970-01-01 10:30:00</td><td style=\"text-align: right;\">  103</td><td>1970-01-01 11:30:00</td><td style=\"text-align: right;\">  105</td><td style=\"text-align: right;\">  0.2</td><td style=\"text-align: right;\">  200</td><td>12:00-12:30</td><td style=\"text-align: right;\">   50</td><td style=\"text-align: right;\">    9</td><td style=\"text-align: right;\">    5</td><td>1970-01-01 13:00:00</td><td style=\"text-align: right;\">   70</td><td>1970-01-01 13:30:00</td><td style=\"text-align: right;\">   78</td><td>17:00-18:00</td><td style=\"text-align: right;\"> 290</td><td style=\"text-align: right;\"> 3.5</td><td style=\"text-align: right;\"> 3.5</td><td>18:00-19:00</td><td>1970-01-01 19:00:00</td><td style=\"text-align: right;\">  60</td><td>1970-01-01 21:00:00</td><td style=\"text-align: right;\">  40</td><td>23:30-1:00 </td><td>2:00-3:30  </td><td>           </td><td style=\"text-align: right;\">  800</td><td style=\"text-align: right;\"> 0.15</td><td style=\"text-align: right;\">  400</td><td style=\"text-align: right;\"> 0.902</td></tr>\n",
       "<tr><td>sample_1005</td><td style=\"text-align: right;\"> 300</td><td style=\"text-align: right;\"> nan</td><td style=\"text-align: right;\"> 405</td><td style=\"text-align: right;\"> 700</td><td>1970-01-01 17:30:00</td><td style=\"text-align: right;\">  21</td><td>    </td><td style=\"text-align: right;\"> nan</td><td>1970-01-01 18:30:00</td><td style=\"text-align: right;\">  100</td><td>1970-01-01 19:30:00</td><td style=\"text-align: right;\">  101</td><td style=\"text-align: right;\">  0.2</td><td>1970-01-01 20:30:00</td><td style=\"text-align: right;\">  103</td><td>1970-01-01 21:30:00</td><td style=\"text-align: right;\">  105</td><td style=\"text-align: right;\">  0.2</td><td style=\"text-align: right;\">  200</td><td>21:30-22:00</td><td style=\"text-align: right;\">   40</td><td style=\"text-align: right;\">    9</td><td style=\"text-align: right;\">    5</td><td>1970-01-01 22:00:00</td><td style=\"text-align: right;\">   70</td><td>1970-01-01 22:30:00</td><td style=\"text-align: right;\">   78</td><td>2:00-3:00  </td><td style=\"text-align: right;\"> 300</td><td style=\"text-align: right;\"> 3.5</td><td style=\"text-align: right;\"> 3.5</td><td>3:00-4:30  </td><td>1970-01-01 04:30:00</td><td style=\"text-align: right;\">  60</td><td>1970-01-01 06:30:00</td><td style=\"text-align: right;\">  40</td><td>9:00-10:30 </td><td>11:00-12:30</td><td>           </td><td style=\"text-align: right;\">  800</td><td style=\"text-align: right;\"> 0.15</td><td style=\"text-align: right;\">  400</td><td style=\"text-align: right;\"> 0.902</td></tr>\n",
       "<tr><td>sample_1006</td><td style=\"text-align: right;\"> 300</td><td style=\"text-align: right;\"> nan</td><td style=\"text-align: right;\"> 405</td><td style=\"text-align: right;\"> 700</td><td>1970-01-01 01:30:00</td><td style=\"text-align: right;\">  35</td><td>    </td><td style=\"text-align: right;\"> nan</td><td>1970-01-01 02:30:00</td><td style=\"text-align: right;\">  100</td><td>1970-01-01 03:30:00</td><td style=\"text-align: right;\">  101</td><td style=\"text-align: right;\">  0.2</td><td>1970-01-01 04:30:00</td><td style=\"text-align: right;\">  103</td><td>1970-01-01 05:30:00</td><td style=\"text-align: right;\">  105</td><td style=\"text-align: right;\">  0.2</td><td style=\"text-align: right;\">  200</td><td>6:00-6:30  </td><td style=\"text-align: right;\">   50</td><td style=\"text-align: right;\">    9</td><td style=\"text-align: right;\">    5</td><td>1970-01-01 06:30:00</td><td style=\"text-align: right;\">   70</td><td>1970-01-01 07:00:00</td><td style=\"text-align: right;\">   78</td><td>11:00-12:00</td><td style=\"text-align: right;\"> 280</td><td style=\"text-align: right;\"> 3.5</td><td style=\"text-align: right;\"> 3.5</td><td>12:00-13:30</td><td>1970-01-01 13:30:00</td><td style=\"text-align: right;\">  60</td><td>1970-01-01 19:00:00</td><td style=\"text-align: right;\">  40</td><td>19:00-20:30</td><td>21:30-23:00</td><td>           </td><td style=\"text-align: right;\">  800</td><td style=\"text-align: right;\"> 0.15</td><td style=\"text-align: right;\">  400</td><td style=\"text-align: right;\"> 0.902</td></tr>\n",
       "<tr><td>sample_1007</td><td style=\"text-align: right;\"> 300</td><td style=\"text-align: right;\"> nan</td><td style=\"text-align: right;\"> 405</td><td style=\"text-align: right;\"> 700</td><td>1970-01-01 12:00:00</td><td style=\"text-align: right;\">  35</td><td>    </td><td style=\"text-align: right;\"> nan</td><td>1970-01-01 13:00:00</td><td style=\"text-align: right;\">  100</td><td>1970-01-01 14:00:00</td><td style=\"text-align: right;\">  102</td><td style=\"text-align: right;\">  0.2</td><td>1970-01-01 15:00:00</td><td style=\"text-align: right;\">  103</td><td>1970-01-01 16:00:00</td><td style=\"text-align: right;\">  105</td><td style=\"text-align: right;\">  0.2</td><td style=\"text-align: right;\">  200</td><td>16:30-17:00</td><td style=\"text-align: right;\">   50</td><td style=\"text-align: right;\">   10</td><td style=\"text-align: right;\">    5</td><td>1970-01-01 17:30:00</td><td style=\"text-align: right;\">   70</td><td>1970-01-01 18:00:00</td><td style=\"text-align: right;\">   70</td><td>22:30-23:30</td><td style=\"text-align: right;\"> 290</td><td style=\"text-align: right;\"> 3.5</td><td style=\"text-align: right;\"> 3.5</td><td>23:30-0:30 </td><td>1970-01-01 00:30:00</td><td style=\"text-align: right;\">  65</td><td>1970-01-01 03:00:00</td><td style=\"text-align: right;\">  45</td><td>5:00-6:30  </td><td>7:30-9:00  </td><td>           </td><td style=\"text-align: right;\">  800</td><td style=\"text-align: right;\"> 0.15</td><td style=\"text-align: right;\">  400</td><td style=\"text-align: right;\"> 0.913</td></tr>\n",
       "<tr><td>sample_1008</td><td style=\"text-align: right;\"> 300</td><td style=\"text-align: right;\"> nan</td><td style=\"text-align: right;\"> 405</td><td style=\"text-align: right;\"> 700</td><td>1970-01-01 22:00:00</td><td style=\"text-align: right;\">  21</td><td>    </td><td style=\"text-align: right;\"> nan</td><td>1970-01-01 23:30:00</td><td style=\"text-align: right;\">  100</td><td>1970-01-01 00:30:00</td><td style=\"text-align: right;\">  101</td><td style=\"text-align: right;\">  0.2</td><td>1970-01-01 01:30:00</td><td style=\"text-align: right;\">  103</td><td>1970-01-01 02:30:00</td><td style=\"text-align: right;\">  104</td><td style=\"text-align: right;\">  0.2</td><td style=\"text-align: right;\">  200</td><td>3:00-3:30  </td><td style=\"text-align: right;\">   50</td><td style=\"text-align: right;\">    9</td><td style=\"text-align: right;\">    5</td><td>1970-01-01 04:00:00</td><td style=\"text-align: right;\">   70</td><td>1970-01-01 04:30:00</td><td style=\"text-align: right;\">   78</td><td>7:00-8:00  </td><td style=\"text-align: right;\"> 290</td><td style=\"text-align: right;\"> 3.5</td><td style=\"text-align: right;\"> 3.5</td><td>8:30-10:00 </td><td>1970-01-01 10:00:00</td><td style=\"text-align: right;\">  60</td><td>1970-01-01 12:00:00</td><td style=\"text-align: right;\">  40</td><td>13:30-15:00</td><td>15:00-17:00</td><td>           </td><td style=\"text-align: right;\">  800</td><td style=\"text-align: right;\"> 0.15</td><td style=\"text-align: right;\">  400</td><td style=\"text-align: right;\"> 0.902</td></tr>\n",
       "</tbody>\n",
       "</table>"
      ]
     },
     "metadata": {},
     "output_type": "display_data"
    },
    {
     "data": {
      "text/plain": []
     },
     "execution_count": 20,
     "metadata": {},
     "output_type": "execute_result"
    }
   ],
   "source": [
    "train.head()"
   ]
  },
  {
   "cell_type": "code",
   "execution_count": 21,
   "metadata": {},
   "outputs": [],
   "source": [
    "feature_name = [i for i in train.columns if i not in ['id','rate']]\n",
    "x = feature_name\n",
    "y = 'rate'"
   ]
  },
  {
   "cell_type": "code",
   "execution_count": 22,
   "metadata": {
    "scrolled": true
   },
   "outputs": [
    {
     "data": {
      "text/plain": [
       "['A1',\n",
       " 'A2',\n",
       " 'A3',\n",
       " 'A4',\n",
       " 'A5',\n",
       " 'A6',\n",
       " 'A7',\n",
       " 'A8',\n",
       " 'A9',\n",
       " 'A10',\n",
       " 'A11',\n",
       " 'A12',\n",
       " 'A13',\n",
       " 'A14',\n",
       " 'A15',\n",
       " 'A16',\n",
       " 'A17',\n",
       " 'A18',\n",
       " 'A19',\n",
       " 'A20',\n",
       " 'A21',\n",
       " 'A22',\n",
       " 'A23',\n",
       " 'A24',\n",
       " 'A25',\n",
       " 'A26',\n",
       " 'A27',\n",
       " 'A28',\n",
       " 'B1',\n",
       " 'B2',\n",
       " 'B3',\n",
       " 'B4',\n",
       " 'B5',\n",
       " 'B6',\n",
       " 'B7',\n",
       " 'B8',\n",
       " 'B9',\n",
       " 'B10',\n",
       " 'B11',\n",
       " 'B12',\n",
       " 'B13',\n",
       " 'B14']"
      ]
     },
     "execution_count": 22,
     "metadata": {},
     "output_type": "execute_result"
    }
   ],
   "source": [
    "feature_name"
   ]
  },
  {
   "cell_type": "code",
   "execution_count": 23,
   "metadata": {},
   "outputs": [
    {
     "name": "stdout",
     "output_type": "stream",
     "text": [
      "AutoML progress: |████████████████████████████████████████████████████████| 100%\n"
     ]
    }
   ],
   "source": [
    "aml = H2OAutoML(max_models=320, seed=2019, max_runtime_secs=12800)\n",
    "aml.train(x=feature_name, y=y, training_frame=train)"
   ]
  },
  {
   "cell_type": "code",
   "execution_count": 27,
   "metadata": {},
   "outputs": [
    {
     "data": {
      "text/html": [
       "<table>\n",
       "<thead>\n",
       "<tr><th>model_id                                           </th><th style=\"text-align: right;\">  mean_residual_deviance</th><th style=\"text-align: right;\">       rmse</th><th style=\"text-align: right;\">        mse</th><th style=\"text-align: right;\">        mae</th><th style=\"text-align: right;\">       rmsle</th></tr>\n",
       "</thead>\n",
       "<tbody>\n",
       "<tr><td>StackedEnsemble_BestOfFamily_AutoML_20190109_193515</td><td style=\"text-align: right;\">             0.000300638</td><td style=\"text-align: right;\">0.0173389  </td><td style=\"text-align: right;\">0.000300638</td><td style=\"text-align: right;\">0.0113838  </td><td style=\"text-align: right;\">  0.00923033</td></tr>\n",
       "<tr><td>XRT_1_AutoML_20190109_193515                       </td><td style=\"text-align: right;\">             0.000323951</td><td style=\"text-align: right;\">0.0179986  </td><td style=\"text-align: right;\">0.000323951</td><td style=\"text-align: right;\">0.0118992  </td><td style=\"text-align: right;\">  0.00956932</td></tr>\n",
       "<tr><td>DeepLearning_grid_1_AutoML_20190109_193515_model_17</td><td style=\"text-align: right;\">             0.000337638</td><td style=\"text-align: right;\">0.0183749  </td><td style=\"text-align: right;\">0.000337638</td><td style=\"text-align: right;\">0.0120108  </td><td style=\"text-align: right;\">  0.00975058</td></tr>\n",
       "<tr><td>GBM_1_AutoML_20190109_193515                       </td><td style=\"text-align: right;\">             0.00035548 </td><td style=\"text-align: right;\">0.0188542  </td><td style=\"text-align: right;\">0.00035548 </td><td style=\"text-align: right;\">0.0122279  </td><td style=\"text-align: right;\">  0.0100201 </td></tr>\n",
       "<tr><td>GBM_2_AutoML_20190109_193515                       </td><td style=\"text-align: right;\">             0.000360846</td><td style=\"text-align: right;\">0.0189959  </td><td style=\"text-align: right;\">0.000360846</td><td style=\"text-align: right;\">0.012402   </td><td style=\"text-align: right;\">  0.010091  </td></tr>\n",
       "<tr><td>GBM_grid_1_AutoML_20190109_193515_model_1          </td><td style=\"text-align: right;\">             0.000361447</td><td style=\"text-align: right;\">0.0190118  </td><td style=\"text-align: right;\">0.000361447</td><td style=\"text-align: right;\">0.0124876  </td><td style=\"text-align: right;\">  0.0100999 </td></tr>\n",
       "<tr><td>GBM_grid_1_AutoML_20190109_193515_model_9          </td><td style=\"text-align: right;\">             0.000363868</td><td style=\"text-align: right;\">0.0190753  </td><td style=\"text-align: right;\">0.000363868</td><td style=\"text-align: right;\">0.0125205  </td><td style=\"text-align: right;\">  0.0101312 </td></tr>\n",
       "<tr><td>DeepLearning_grid_1_AutoML_20190109_193515_model_13</td><td style=\"text-align: right;\">             0.000364602</td><td style=\"text-align: right;\">0.0190946  </td><td style=\"text-align: right;\">0.000364602</td><td style=\"text-align: right;\">0.012826   </td><td style=\"text-align: right;\">  0.0101228 </td></tr>\n",
       "<tr><td>GBM_4_AutoML_20190109_193515                       </td><td style=\"text-align: right;\">             0.000364617</td><td style=\"text-align: right;\">0.0190949  </td><td style=\"text-align: right;\">0.000364617</td><td style=\"text-align: right;\">0.0124025  </td><td style=\"text-align: right;\">  0.010141  </td></tr>\n",
       "<tr><td>DRF_1_AutoML_20190109_193515                       </td><td style=\"text-align: right;\">             0.000366558</td><td style=\"text-align: right;\">0.0191457  </td><td style=\"text-align: right;\">0.000366558</td><td style=\"text-align: right;\">0.0122915  </td><td style=\"text-align: right;\">  0.0101711 </td></tr>\n",
       "<tr><td>GBM_3_AutoML_20190109_193515                       </td><td style=\"text-align: right;\">             0.000367401</td><td style=\"text-align: right;\">0.0191677  </td><td style=\"text-align: right;\">0.000367401</td><td style=\"text-align: right;\">0.0124759  </td><td style=\"text-align: right;\">  0.0101792 </td></tr>\n",
       "<tr><td>GBM_grid_1_AutoML_20190109_193515_model_23         </td><td style=\"text-align: right;\">             0.000372101</td><td style=\"text-align: right;\">0.0192899  </td><td style=\"text-align: right;\">0.000372101</td><td style=\"text-align: right;\">0.0124795  </td><td style=\"text-align: right;\">  0.0102384 </td></tr>\n",
       "<tr><td>GBM_grid_1_AutoML_20190109_193515_model_20         </td><td style=\"text-align: right;\">             0.000372336</td><td style=\"text-align: right;\">0.019296   </td><td style=\"text-align: right;\">0.000372336</td><td style=\"text-align: right;\">0.0125585  </td><td style=\"text-align: right;\">  0.0102466 </td></tr>\n",
       "<tr><td>DeepLearning_grid_1_AutoML_20190109_193515_model_25</td><td style=\"text-align: right;\">             0.000373297</td><td style=\"text-align: right;\">0.0193209  </td><td style=\"text-align: right;\">0.000373297</td><td style=\"text-align: right;\">0.0127773  </td><td style=\"text-align: right;\">  0.0102301 </td></tr>\n",
       "<tr><td>GBM_grid_1_AutoML_20190109_193515_model_43         </td><td style=\"text-align: right;\">             0.000373761</td><td style=\"text-align: right;\">0.0193329  </td><td style=\"text-align: right;\">0.000373761</td><td style=\"text-align: right;\">0.0126283  </td><td style=\"text-align: right;\">  0.0102673 </td></tr>\n",
       "<tr><td>GBM_grid_1_AutoML_20190109_193515_model_26         </td><td style=\"text-align: right;\">             0.000374772</td><td style=\"text-align: right;\">0.019359   </td><td style=\"text-align: right;\">0.000374772</td><td style=\"text-align: right;\">0.0125897  </td><td style=\"text-align: right;\">  0.0102761 </td></tr>\n",
       "<tr><td>DeepLearning_grid_1_AutoML_20190109_193515_model_18</td><td style=\"text-align: right;\">             0.000380641</td><td style=\"text-align: right;\">0.01951    </td><td style=\"text-align: right;\">0.000380641</td><td style=\"text-align: right;\">0.0132667  </td><td style=\"text-align: right;\">  0.0103406 </td></tr>\n",
       "<tr><td>GBM_grid_1_AutoML_20190109_193515_model_41         </td><td style=\"text-align: right;\">             0.000384786</td><td style=\"text-align: right;\">0.019616   </td><td style=\"text-align: right;\">0.000384786</td><td style=\"text-align: right;\">0.0131598  </td><td style=\"text-align: right;\">  0.0104036 </td></tr>\n",
       "<tr><td>GBM_grid_1_AutoML_20190109_193515_model_36         </td><td style=\"text-align: right;\">             0.000386107</td><td style=\"text-align: right;\">0.0196496  </td><td style=\"text-align: right;\">0.000386107</td><td style=\"text-align: right;\">0.0131547  </td><td style=\"text-align: right;\">  0.0104213 </td></tr>\n",
       "<tr><td>GBM_grid_1_AutoML_20190109_193515_model_35         </td><td style=\"text-align: right;\">             0.000391345</td><td style=\"text-align: right;\">0.0197824  </td><td style=\"text-align: right;\">0.000391345</td><td style=\"text-align: right;\">0.0133366  </td><td style=\"text-align: right;\">  0.0104885 </td></tr>\n",
       "<tr><td>GBM_grid_1_AutoML_20190109_193515_model_14         </td><td style=\"text-align: right;\">             0.00039789 </td><td style=\"text-align: right;\">0.0199472  </td><td style=\"text-align: right;\">0.00039789 </td><td style=\"text-align: right;\">0.013673   </td><td style=\"text-align: right;\">  0.0105601 </td></tr>\n",
       "<tr><td>GBM_grid_1_AutoML_20190109_193515_model_39         </td><td style=\"text-align: right;\">             0.000399554</td><td style=\"text-align: right;\">0.0199888  </td><td style=\"text-align: right;\">0.000399554</td><td style=\"text-align: right;\">0.0133739  </td><td style=\"text-align: right;\">  0.0105966 </td></tr>\n",
       "<tr><td>DeepLearning_grid_1_AutoML_20190109_193515_model_14</td><td style=\"text-align: right;\">             0.000400277</td><td style=\"text-align: right;\">0.0200069  </td><td style=\"text-align: right;\">0.000400277</td><td style=\"text-align: right;\">0.0137942  </td><td style=\"text-align: right;\">  0.0105786 </td></tr>\n",
       "<tr><td>GBM_grid_1_AutoML_20190109_193515_model_38         </td><td style=\"text-align: right;\">             0.000402875</td><td style=\"text-align: right;\">0.0200718  </td><td style=\"text-align: right;\">0.000402875</td><td style=\"text-align: right;\">0.0137672  </td><td style=\"text-align: right;\">  0.0106292 </td></tr>\n",
       "<tr><td>GBM_grid_1_AutoML_20190109_193515_model_22         </td><td style=\"text-align: right;\">             0.000404147</td><td style=\"text-align: right;\">0.0201034  </td><td style=\"text-align: right;\">0.000404147</td><td style=\"text-align: right;\">0.0135395  </td><td style=\"text-align: right;\">  0.0106536 </td></tr>\n",
       "<tr><td>GBM_5_AutoML_20190109_193515                       </td><td style=\"text-align: right;\">             0.000409827</td><td style=\"text-align: right;\">0.0202442  </td><td style=\"text-align: right;\">0.000409827</td><td style=\"text-align: right;\">0.0138724  </td><td style=\"text-align: right;\">  0.0107151 </td></tr>\n",
       "<tr><td>GBM_grid_1_AutoML_20190109_193515_model_4          </td><td style=\"text-align: right;\">             0.000411565</td><td style=\"text-align: right;\">0.0202871  </td><td style=\"text-align: right;\">0.000411565</td><td style=\"text-align: right;\">0.0138209  </td><td style=\"text-align: right;\">  0.0107474 </td></tr>\n",
       "<tr><td>GBM_grid_1_AutoML_20190109_193515_model_32         </td><td style=\"text-align: right;\">             0.000415303</td><td style=\"text-align: right;\">0.020379   </td><td style=\"text-align: right;\">0.000415303</td><td style=\"text-align: right;\">0.0137051  </td><td style=\"text-align: right;\">  0.0107942 </td></tr>\n",
       "<tr><td>GBM_grid_1_AutoML_20190109_193515_model_29         </td><td style=\"text-align: right;\">             0.000416109</td><td style=\"text-align: right;\">0.0203987  </td><td style=\"text-align: right;\">0.000416109</td><td style=\"text-align: right;\">0.0139489  </td><td style=\"text-align: right;\">  0.0107979 </td></tr>\n",
       "<tr><td>GBM_grid_1_AutoML_20190109_193515_model_17         </td><td style=\"text-align: right;\">             0.000416558</td><td style=\"text-align: right;\">0.0204097  </td><td style=\"text-align: right;\">0.000416558</td><td style=\"text-align: right;\">0.0139239  </td><td style=\"text-align: right;\">  0.010807  </td></tr>\n",
       "<tr><td>GBM_grid_1_AutoML_20190109_193515_model_34         </td><td style=\"text-align: right;\">             0.000419923</td><td style=\"text-align: right;\">0.020492   </td><td style=\"text-align: right;\">0.000419923</td><td style=\"text-align: right;\">0.0141007  </td><td style=\"text-align: right;\">  0.0108417 </td></tr>\n",
       "<tr><td>GBM_grid_1_AutoML_20190109_193515_model_37         </td><td style=\"text-align: right;\">             0.000422499</td><td style=\"text-align: right;\">0.0205548  </td><td style=\"text-align: right;\">0.000422499</td><td style=\"text-align: right;\">0.0134932  </td><td style=\"text-align: right;\">  0.0109018 </td></tr>\n",
       "<tr><td>GBM_grid_1_AutoML_20190109_193515_model_7          </td><td style=\"text-align: right;\">             0.000425879</td><td style=\"text-align: right;\">0.0206368  </td><td style=\"text-align: right;\">0.000425879</td><td style=\"text-align: right;\">0.0141191  </td><td style=\"text-align: right;\">  0.0109141 </td></tr>\n",
       "<tr><td>GBM_grid_1_AutoML_20190109_193515_model_40         </td><td style=\"text-align: right;\">             0.000427283</td><td style=\"text-align: right;\">0.0206708  </td><td style=\"text-align: right;\">0.000427283</td><td style=\"text-align: right;\">0.0141892  </td><td style=\"text-align: right;\">  0.0109375 </td></tr>\n",
       "<tr><td>GBM_grid_1_AutoML_20190109_193515_model_33         </td><td style=\"text-align: right;\">             0.000427314</td><td style=\"text-align: right;\">0.0206716  </td><td style=\"text-align: right;\">0.000427314</td><td style=\"text-align: right;\">0.0142996  </td><td style=\"text-align: right;\">  0.0109294 </td></tr>\n",
       "<tr><td>GBM_grid_1_AutoML_20190109_193515_model_19         </td><td style=\"text-align: right;\">             0.000431581</td><td style=\"text-align: right;\">0.0207745  </td><td style=\"text-align: right;\">0.000431581</td><td style=\"text-align: right;\">0.014384   </td><td style=\"text-align: right;\">  0.0109807 </td></tr>\n",
       "<tr><td>GBM_grid_1_AutoML_20190109_193515_model_11         </td><td style=\"text-align: right;\">             0.000434025</td><td style=\"text-align: right;\">0.0208333  </td><td style=\"text-align: right;\">0.000434025</td><td style=\"text-align: right;\">0.0141782  </td><td style=\"text-align: right;\">  0.011035  </td></tr>\n",
       "<tr><td>GBM_grid_1_AutoML_20190109_193515_model_25         </td><td style=\"text-align: right;\">             0.000447942</td><td style=\"text-align: right;\">0.0211646  </td><td style=\"text-align: right;\">0.000447942</td><td style=\"text-align: right;\">0.0141104  </td><td style=\"text-align: right;\">  0.0112003 </td></tr>\n",
       "<tr><td>GBM_grid_1_AutoML_20190109_193515_model_15         </td><td style=\"text-align: right;\">             0.000480923</td><td style=\"text-align: right;\">0.02193    </td><td style=\"text-align: right;\">0.000480923</td><td style=\"text-align: right;\">0.0147367  </td><td style=\"text-align: right;\">  0.011612  </td></tr>\n",
       "<tr><td>GBM_grid_1_AutoML_20190109_193515_model_24         </td><td style=\"text-align: right;\">             0.000482237</td><td style=\"text-align: right;\">0.0219599  </td><td style=\"text-align: right;\">0.000482237</td><td style=\"text-align: right;\">0.015443   </td><td style=\"text-align: right;\">  0.011595  </td></tr>\n",
       "<tr><td>GBM_grid_1_AutoML_20190109_193515_model_27         </td><td style=\"text-align: right;\">             0.000498006</td><td style=\"text-align: right;\">0.022316   </td><td style=\"text-align: right;\">0.000498006</td><td style=\"text-align: right;\">0.0158567  </td><td style=\"text-align: right;\">  0.0117737 </td></tr>\n",
       "<tr><td>GBM_grid_1_AutoML_20190109_193515_model_10         </td><td style=\"text-align: right;\">             0.000501973</td><td style=\"text-align: right;\">0.0224048  </td><td style=\"text-align: right;\">0.000501973</td><td style=\"text-align: right;\">0.0156976  </td><td style=\"text-align: right;\">  0.0118419 </td></tr>\n",
       "<tr><td>GBM_grid_1_AutoML_20190109_193515_model_16         </td><td style=\"text-align: right;\">             0.000503139</td><td style=\"text-align: right;\">0.0224308  </td><td style=\"text-align: right;\">0.000503139</td><td style=\"text-align: right;\">0.0157271  </td><td style=\"text-align: right;\">  0.0118269 </td></tr>\n",
       "<tr><td>GBM_grid_1_AutoML_20190109_193515_model_8          </td><td style=\"text-align: right;\">             0.000517049</td><td style=\"text-align: right;\">0.0227387  </td><td style=\"text-align: right;\">0.000517049</td><td style=\"text-align: right;\">0.0161649  </td><td style=\"text-align: right;\">  0.0119849 </td></tr>\n",
       "<tr><td>GBM_grid_1_AutoML_20190109_193515_model_12         </td><td style=\"text-align: right;\">             0.000524242</td><td style=\"text-align: right;\">0.0228963  </td><td style=\"text-align: right;\">0.000524242</td><td style=\"text-align: right;\">0.0152701  </td><td style=\"text-align: right;\">  0.0121204 </td></tr>\n",
       "<tr><td>GBM_grid_1_AutoML_20190109_193515_model_42         </td><td style=\"text-align: right;\">             0.000526977</td><td style=\"text-align: right;\">0.022956   </td><td style=\"text-align: right;\">0.000526977</td><td style=\"text-align: right;\">0.0165507  </td><td style=\"text-align: right;\">  0.0121208 </td></tr>\n",
       "<tr><td>GBM_grid_1_AutoML_20190109_193515_model_31         </td><td style=\"text-align: right;\">             0.000532826</td><td style=\"text-align: right;\">0.023083   </td><td style=\"text-align: right;\">0.000532826</td><td style=\"text-align: right;\">0.0164871  </td><td style=\"text-align: right;\">  0.012198  </td></tr>\n",
       "<tr><td>GLM_grid_1_AutoML_20190109_193515_model_1          </td><td style=\"text-align: right;\">             0.000555298</td><td style=\"text-align: right;\">0.0235648  </td><td style=\"text-align: right;\">0.000555298</td><td style=\"text-align: right;\">0.0166691  </td><td style=\"text-align: right;\">  0.0124866 </td></tr>\n",
       "<tr><td>GBM_grid_1_AutoML_20190109_193515_model_30         </td><td style=\"text-align: right;\">             0.000589037</td><td style=\"text-align: right;\">0.0242701  </td><td style=\"text-align: right;\">0.000589037</td><td style=\"text-align: right;\">0.0177458  </td><td style=\"text-align: right;\">  0.0127762 </td></tr>\n",
       "<tr><td>GBM_grid_1_AutoML_20190109_193515_model_6          </td><td style=\"text-align: right;\">             0.000607169</td><td style=\"text-align: right;\">0.0246408  </td><td style=\"text-align: right;\">0.000607169</td><td style=\"text-align: right;\">0.0179265  </td><td style=\"text-align: right;\">  0.0129552 </td></tr>\n",
       "<tr><td>GBM_grid_1_AutoML_20190109_193515_model_28         </td><td style=\"text-align: right;\">             0.000649645</td><td style=\"text-align: right;\">0.0254881  </td><td style=\"text-align: right;\">0.000649645</td><td style=\"text-align: right;\">0.0188118  </td><td style=\"text-align: right;\">  0.0133915 </td></tr>\n",
       "<tr><td>GBM_grid_1_AutoML_20190109_193515_model_13         </td><td style=\"text-align: right;\">             0.000651025</td><td style=\"text-align: right;\">0.0255152  </td><td style=\"text-align: right;\">0.000651025</td><td style=\"text-align: right;\">0.0188912  </td><td style=\"text-align: right;\">  0.0134106 </td></tr>\n",
       "<tr><td>GBM_grid_1_AutoML_20190109_193515_model_2          </td><td style=\"text-align: right;\">             0.000663314</td><td style=\"text-align: right;\">0.0257549  </td><td style=\"text-align: right;\">0.000663314</td><td style=\"text-align: right;\">0.0191547  </td><td style=\"text-align: right;\">  0.0135331 </td></tr>\n",
       "<tr><td>GBM_grid_1_AutoML_20190109_193515_model_5          </td><td style=\"text-align: right;\">             0.000919482</td><td style=\"text-align: right;\">0.030323   </td><td style=\"text-align: right;\">0.000919482</td><td style=\"text-align: right;\">0.0237205  </td><td style=\"text-align: right;\">  0.0158838 </td></tr>\n",
       "<tr><td>GBM_grid_1_AutoML_20190109_193515_model_18         </td><td style=\"text-align: right;\">             0.000921765</td><td style=\"text-align: right;\">0.0303606  </td><td style=\"text-align: right;\">0.000921765</td><td style=\"text-align: right;\">0.0237329  </td><td style=\"text-align: right;\">  0.015903  </td></tr>\n",
       "<tr><td>GBM_grid_1_AutoML_20190109_193515_model_3          </td><td style=\"text-align: right;\">             0.000924621</td><td style=\"text-align: right;\">0.0304076  </td><td style=\"text-align: right;\">0.000924621</td><td style=\"text-align: right;\">0.0237883  </td><td style=\"text-align: right;\">  0.0159273 </td></tr>\n",
       "<tr><td>GBM_grid_1_AutoML_20190109_193515_model_21         </td><td style=\"text-align: right;\">             0.000934416</td><td style=\"text-align: right;\">0.0305682  </td><td style=\"text-align: right;\">0.000934416</td><td style=\"text-align: right;\">0.0239117  </td><td style=\"text-align: right;\">  0.0160098 </td></tr>\n",
       "<tr><td>DeepLearning_grid_1_AutoML_20190109_193515_model_23</td><td style=\"text-align: right;\">             8.55328e+15</td><td style=\"text-align: right;\">9.2484e+07 </td><td style=\"text-align: right;\">8.55328e+15</td><td style=\"text-align: right;\">2.47528e+06</td><td style=\"text-align: right;\">  0.570551  </td></tr>\n",
       "<tr><td>DeepLearning_grid_1_AutoML_20190109_193515_model_29</td><td style=\"text-align: right;\">             1.00978e+16</td><td style=\"text-align: right;\">1.00488e+08</td><td style=\"text-align: right;\">1.00978e+16</td><td style=\"text-align: right;\">2.68949e+06</td><td style=\"text-align: right;\">nan         </td></tr>\n",
       "<tr><td>DeepLearning_grid_1_AutoML_20190109_193515_model_19</td><td style=\"text-align: right;\">             1.79101e+16</td><td style=\"text-align: right;\">1.33829e+08</td><td style=\"text-align: right;\">1.79101e+16</td><td style=\"text-align: right;\">3.58184e+06</td><td style=\"text-align: right;\">  0.580442  </td></tr>\n",
       "<tr><td>DeepLearning_grid_1_AutoML_20190109_193515_model_27</td><td style=\"text-align: right;\">             3.77621e+16</td><td style=\"text-align: right;\">1.94325e+08</td><td style=\"text-align: right;\">3.77621e+16</td><td style=\"text-align: right;\">5.20098e+06</td><td style=\"text-align: right;\">  0.590428  </td></tr>\n",
       "<tr><td>DeepLearning_grid_1_AutoML_20190109_193515_model_28</td><td style=\"text-align: right;\">             9.48212e+16</td><td style=\"text-align: right;\">3.07931e+08</td><td style=\"text-align: right;\">9.48212e+16</td><td style=\"text-align: right;\">8.24157e+06</td><td style=\"text-align: right;\">  0.602751  </td></tr>\n",
       "<tr><td>DeepLearning_grid_1_AutoML_20190109_193515_model_26</td><td style=\"text-align: right;\">             2.01739e+17</td><td style=\"text-align: right;\">4.49154e+08</td><td style=\"text-align: right;\">2.01739e+17</td><td style=\"text-align: right;\">1.20213e+07</td><td style=\"text-align: right;\">  0.612863  </td></tr>\n",
       "<tr><td>DeepLearning_grid_1_AutoML_20190109_193515_model_24</td><td style=\"text-align: right;\">             2.33951e+17</td><td style=\"text-align: right;\">4.83685e+08</td><td style=\"text-align: right;\">2.33951e+17</td><td style=\"text-align: right;\">1.29455e+07</td><td style=\"text-align: right;\">  0.614832  </td></tr>\n",
       "<tr><td>DeepLearning_grid_1_AutoML_20190109_193515_model_15</td><td style=\"text-align: right;\">             2.95908e+17</td><td style=\"text-align: right;\">5.43974e+08</td><td style=\"text-align: right;\">2.95908e+17</td><td style=\"text-align: right;\">1.45591e+07</td><td style=\"text-align: right;\">  0.617974  </td></tr>\n",
       "<tr><td>DeepLearning_grid_1_AutoML_20190109_193515_model_16</td><td style=\"text-align: right;\">             4.73424e+17</td><td style=\"text-align: right;\">6.88058e+08</td><td style=\"text-align: right;\">4.73424e+17</td><td style=\"text-align: right;\">1.84154e+07</td><td style=\"text-align: right;\">nan         </td></tr>\n",
       "<tr><td>DeepLearning_grid_1_AutoML_20190109_193515_model_30</td><td style=\"text-align: right;\">             2.23284e+18</td><td style=\"text-align: right;\">1.49427e+09</td><td style=\"text-align: right;\">2.23284e+18</td><td style=\"text-align: right;\">3.99932e+07</td><td style=\"text-align: right;\">  0.645015  </td></tr>\n",
       "<tr><td>StackedEnsemble_AllModels_AutoML_20190109_193515   </td><td style=\"text-align: right;\">             4.09697e+18</td><td style=\"text-align: right;\">2.0241e+09 </td><td style=\"text-align: right;\">4.09697e+18</td><td style=\"text-align: right;\">5.41737e+07</td><td style=\"text-align: right;\">  0.653127  </td></tr>\n",
       "<tr><td>DeepLearning_grid_1_AutoML_20190109_193515_model_1 </td><td style=\"text-align: right;\">             9.7439e+18 </td><td style=\"text-align: right;\">3.12152e+09</td><td style=\"text-align: right;\">9.7439e+18 </td><td style=\"text-align: right;\">8.35456e+07</td><td style=\"text-align: right;\">  0.664748  </td></tr>\n",
       "<tr><td>DeepLearning_grid_1_AutoML_20190109_193515_model_3 </td><td style=\"text-align: right;\">             1.57969e+19</td><td style=\"text-align: right;\">3.97453e+09</td><td style=\"text-align: right;\">1.57969e+19</td><td style=\"text-align: right;\">1.06376e+08</td><td style=\"text-align: right;\">nan         </td></tr>\n",
       "<tr><td>DeepLearning_grid_1_AutoML_20190109_193515_model_4 </td><td style=\"text-align: right;\">             3.27911e+19</td><td style=\"text-align: right;\">5.72635e+09</td><td style=\"text-align: right;\">3.27911e+19</td><td style=\"text-align: right;\">1.53262e+08</td><td style=\"text-align: right;\">nan         </td></tr>\n",
       "<tr><td>DeepLearning_grid_1_AutoML_20190109_193515_model_20</td><td style=\"text-align: right;\">             3.40363e+19</td><td style=\"text-align: right;\">5.83407e+09</td><td style=\"text-align: right;\">3.40363e+19</td><td style=\"text-align: right;\">1.56145e+08</td><td style=\"text-align: right;\">nan         </td></tr>\n",
       "<tr><td>DeepLearning_grid_1_AutoML_20190109_193515_model_32</td><td style=\"text-align: right;\">             5.20291e+19</td><td style=\"text-align: right;\">7.21312e+09</td><td style=\"text-align: right;\">5.20291e+19</td><td style=\"text-align: right;\">1.93055e+08</td><td style=\"text-align: right;\">  0.687204  </td></tr>\n",
       "<tr><td>DeepLearning_grid_1_AutoML_20190109_193515_model_7 </td><td style=\"text-align: right;\">             5.98834e+19</td><td style=\"text-align: right;\">7.73844e+09</td><td style=\"text-align: right;\">5.98834e+19</td><td style=\"text-align: right;\">2.07114e+08</td><td style=\"text-align: right;\">nan         </td></tr>\n",
       "<tr><td>DeepLearning_grid_1_AutoML_20190109_193515_model_2 </td><td style=\"text-align: right;\">             1.47281e+20</td><td style=\"text-align: right;\">1.2136e+10 </td><td style=\"text-align: right;\">1.47281e+20</td><td style=\"text-align: right;\">3.24811e+08</td><td style=\"text-align: right;\">nan         </td></tr>\n",
       "<tr><td>DeepLearning_grid_1_AutoML_20190109_193515_model_22</td><td style=\"text-align: right;\">             1.5834e+20 </td><td style=\"text-align: right;\">1.25833e+10</td><td style=\"text-align: right;\">1.5834e+20 </td><td style=\"text-align: right;\">3.36785e+08</td><td style=\"text-align: right;\">  0.70206   </td></tr>\n",
       "<tr><td>DeepLearning_grid_1_AutoML_20190109_193515_model_6 </td><td style=\"text-align: right;\">             1.63833e+20</td><td style=\"text-align: right;\">1.27997e+10</td><td style=\"text-align: right;\">1.63833e+20</td><td style=\"text-align: right;\">3.42577e+08</td><td style=\"text-align: right;\">nan         </td></tr>\n",
       "<tr><td>DeepLearning_grid_1_AutoML_20190109_193515_model_11</td><td style=\"text-align: right;\">             2.1911e+20 </td><td style=\"text-align: right;\">1.48024e+10</td><td style=\"text-align: right;\">2.1911e+20 </td><td style=\"text-align: right;\">3.96176e+08</td><td style=\"text-align: right;\">  0.706394  </td></tr>\n",
       "<tr><td>DeepLearning_grid_1_AutoML_20190109_193515_model_12</td><td style=\"text-align: right;\">             5.89761e+20</td><td style=\"text-align: right;\">2.4285e+10 </td><td style=\"text-align: right;\">5.89761e+20</td><td style=\"text-align: right;\">6.49973e+08</td><td style=\"text-align: right;\">  0.719657  </td></tr>\n",
       "<tr><td>DeepLearning_grid_1_AutoML_20190109_193515_model_8 </td><td style=\"text-align: right;\">             1.32335e+21</td><td style=\"text-align: right;\">3.63778e+10</td><td style=\"text-align: right;\">1.32335e+21</td><td style=\"text-align: right;\">9.7363e+08 </td><td style=\"text-align: right;\">  0.730466  </td></tr>\n",
       "<tr><td>DeepLearning_grid_1_AutoML_20190109_193515_model_31</td><td style=\"text-align: right;\">             1.90461e+21</td><td style=\"text-align: right;\">4.36419e+10</td><td style=\"text-align: right;\">1.90461e+21</td><td style=\"text-align: right;\">1.16805e+09</td><td style=\"text-align: right;\">nan         </td></tr>\n",
       "<tr><td>DeepLearning_1_AutoML_20190109_193515              </td><td style=\"text-align: right;\">             2.30138e+21</td><td style=\"text-align: right;\">4.79727e+10</td><td style=\"text-align: right;\">2.30138e+21</td><td style=\"text-align: right;\">1.28396e+09</td><td style=\"text-align: right;\">  0.73787   </td></tr>\n",
       "<tr><td>DeepLearning_grid_1_AutoML_20190109_193515_model_9 </td><td style=\"text-align: right;\">             3.34522e+21</td><td style=\"text-align: right;\">5.78379e+10</td><td style=\"text-align: right;\">3.34522e+21</td><td style=\"text-align: right;\">1.548e+09  </td><td style=\"text-align: right;\">nan         </td></tr>\n",
       "<tr><td>DeepLearning_grid_1_AutoML_20190109_193515_model_5 </td><td style=\"text-align: right;\">             5.37759e+21</td><td style=\"text-align: right;\">7.3332e+10 </td><td style=\"text-align: right;\">5.37759e+21</td><td style=\"text-align: right;\">1.96269e+09</td><td style=\"text-align: right;\">  0.749246  </td></tr>\n",
       "<tr><td>DeepLearning_grid_1_AutoML_20190109_193515_model_10</td><td style=\"text-align: right;\">             2.608e+22  </td><td style=\"text-align: right;\">1.61493e+11</td><td style=\"text-align: right;\">2.608e+22  </td><td style=\"text-align: right;\">4.32226e+09</td><td style=\"text-align: right;\">nan         </td></tr>\n",
       "<tr><td>DeepLearning_grid_1_AutoML_20190109_193515_model_21</td><td style=\"text-align: right;\">             2.61847e+22</td><td style=\"text-align: right;\">1.61817e+11</td><td style=\"text-align: right;\">2.61847e+22</td><td style=\"text-align: right;\">4.33093e+09</td><td style=\"text-align: right;\">  0.770435  </td></tr>\n",
       "</tbody>\n",
       "</table>"
      ]
     },
     "metadata": {},
     "output_type": "display_data"
    },
    {
     "data": {
      "text/plain": []
     },
     "execution_count": 27,
     "metadata": {},
     "output_type": "execute_result"
    }
   ],
   "source": [
    "lb = aml.leaderboard\n",
    "lb.head(rows=lb.nrows)"
   ]
  },
  {
   "cell_type": "code",
   "execution_count": 32,
   "metadata": {},
   "outputs": [
    {
     "name": "stdout",
     "output_type": "stream",
     "text": [
      "stackedensemble prediction progress: | (failed)\n"
     ]
    },
    {
     "ename": "OSError",
     "evalue": "Job with key $03017f00000132d4ffffffff$_9eab3cc1a9f1e315c55f0b25643f4b36 failed with an exception: DistributedException from /127.0.0.1:54321: 'Categorical value out of bounds, got 186, next cat starts at 180', caused by java.lang.AssertionError: Categorical value out of bounds, got 186, next cat starts at 180\nstacktrace: \nDistributedException from /127.0.0.1:54321: 'Categorical value out of bounds, got 186, next cat starts at 180', caused by java.lang.AssertionError: Categorical value out of bounds, got 186, next cat starts at 180\r\n\tat water.MRTask.getResult(MRTask.java:478)\r\n\tat water.MRTask.getResult(MRTask.java:486)\r\n\tat water.MRTask.doAll(MRTask.java:390)\r\n\tat water.MRTask.doAll(MRTask.java:396)\r\n\tat hex.StackedEnsembleModel.predictScoreImpl(StackedEnsembleModel.java:161)\r\n\tat hex.Model.score(Model.java:1357)\r\n\tat water.api.ModelMetricsHandler$1.compute2(ModelMetricsHandler.java:374)\r\n\tat water.H2O$H2OCountedCompleter.compute(H2O.java:1395)\r\n\tat jsr166y.CountedCompleter.exec(CountedCompleter.java:468)\r\n\tat jsr166y.ForkJoinTask.doExec(ForkJoinTask.java:263)\r\n\tat jsr166y.ForkJoinPool$WorkQueue.runTask(ForkJoinPool.java:974)\r\n\tat jsr166y.ForkJoinPool.runWorker(ForkJoinPool.java:1477)\r\n\tat jsr166y.ForkJoinWorkerThread.run(ForkJoinWorkerThread.java:104)\r\nCaused by: java.lang.AssertionError: Categorical value out of bounds, got 186, next cat starts at 180\r\n\tat hex.DataInfo.getCategoricalId(DataInfo.java:981)\r\n\tat hex.DataInfo.getCategoricalId(DataInfo.java:960)\r\n\tat hex.glm.GLMModel.score0(GLMModel.java:1184)\r\n\tat hex.Model.score0(Model.java:1681)\r\n\tat hex.Model$BigScore.score0(Model.java:1625)\r\n\tat hex.Model$BigScore.map(Model.java:1603)\r\n\tat water.MRTask.compute2(MRTask.java:657)\r\n\tat water.H2O$H2OCountedCompleter.compute1(H2O.java:1398)\r\n\tat hex.Model$BigScore$Icer.compute1(Model$BigScore$Icer.java)\r\n\tat water.H2O$H2OCountedCompleter.compute(H2O.java:1394)\r\n\t... 5 more\r\n",
     "output_type": "error",
     "traceback": [
      "\u001b[1;31m---------------------------------------------------------------------------\u001b[0m",
      "\u001b[1;31mOSError\u001b[0m                                   Traceback (most recent call last)",
      "\u001b[1;32m<ipython-input-32-1f7743eee59c>\u001b[0m in \u001b[0;36m<module>\u001b[1;34m()\u001b[0m\n\u001b[1;32m----> 1\u001b[1;33m \u001b[0mautoml_predictions\u001b[0m \u001b[1;33m=\u001b[0m \u001b[0maml\u001b[0m\u001b[1;33m.\u001b[0m\u001b[0mpredict\u001b[0m\u001b[1;33m(\u001b[0m\u001b[0mtest\u001b[0m\u001b[1;33m)\u001b[0m\u001b[1;33m.\u001b[0m\u001b[0mas_data_frame\u001b[0m\u001b[1;33m(\u001b[0m\u001b[1;33m)\u001b[0m\u001b[1;33m.\u001b[0m\u001b[0mvalues\u001b[0m\u001b[1;33m.\u001b[0m\u001b[0mflatten\u001b[0m\u001b[1;33m(\u001b[0m\u001b[1;33m)\u001b[0m\u001b[1;33m\u001b[0m\u001b[0m\n\u001b[0m",
      "\u001b[1;32mc:\\python37\\lib\\site-packages\\h2o\\automl\\autoh2o.py\u001b[0m in \u001b[0;36mpredict\u001b[1;34m(self, test_data)\u001b[0m\n\u001b[0;32m    402\u001b[0m         \u001b[1;32mif\u001b[0m \u001b[0mself\u001b[0m\u001b[1;33m.\u001b[0m\u001b[0m_fetch\u001b[0m\u001b[1;33m(\u001b[0m\u001b[1;33m)\u001b[0m\u001b[1;33m:\u001b[0m\u001b[1;33m\u001b[0m\u001b[0m\n\u001b[0;32m    403\u001b[0m             \u001b[0mself\u001b[0m\u001b[1;33m.\u001b[0m\u001b[0m_model\u001b[0m \u001b[1;33m=\u001b[0m \u001b[0mh2o\u001b[0m\u001b[1;33m.\u001b[0m\u001b[0mget_model\u001b[0m\u001b[1;33m(\u001b[0m\u001b[0mself\u001b[0m\u001b[1;33m.\u001b[0m\u001b[0m_leader_id\u001b[0m\u001b[1;33m)\u001b[0m\u001b[1;33m\u001b[0m\u001b[0m\n\u001b[1;32m--> 404\u001b[1;33m             \u001b[1;32mreturn\u001b[0m \u001b[0mself\u001b[0m\u001b[1;33m.\u001b[0m\u001b[0m_model\u001b[0m\u001b[1;33m.\u001b[0m\u001b[0mpredict\u001b[0m\u001b[1;33m(\u001b[0m\u001b[0mtest_data\u001b[0m\u001b[1;33m)\u001b[0m\u001b[1;33m\u001b[0m\u001b[0m\n\u001b[0m\u001b[0;32m    405\u001b[0m         \u001b[0mprint\u001b[0m\u001b[1;33m(\u001b[0m\u001b[1;34m\"No model built yet...\"\u001b[0m\u001b[1;33m)\u001b[0m\u001b[1;33m\u001b[0m\u001b[0m\n\u001b[0;32m    406\u001b[0m \u001b[1;33m\u001b[0m\u001b[0m\n",
      "\u001b[1;32mc:\\python37\\lib\\site-packages\\h2o\\model\\model_base.py\u001b[0m in \u001b[0;36mpredict\u001b[1;34m(self, test_data, custom_metric, custom_metric_func)\u001b[0m\n\u001b[0;32m    191\u001b[0m         j = H2OJob(h2o.api(\"POST /4/Predictions/models/%s/frames/%s\" % (self.model_id, test_data.frame_id), data = {'custom_metric_func': custom_metric_func}),\n\u001b[0;32m    192\u001b[0m                    self._model_json[\"algo\"] + \" prediction\")\n\u001b[1;32m--> 193\u001b[1;33m         \u001b[0mj\u001b[0m\u001b[1;33m.\u001b[0m\u001b[0mpoll\u001b[0m\u001b[1;33m(\u001b[0m\u001b[1;33m)\u001b[0m\u001b[1;33m\u001b[0m\u001b[0m\n\u001b[0m\u001b[0;32m    194\u001b[0m         \u001b[1;32mreturn\u001b[0m \u001b[0mh2o\u001b[0m\u001b[1;33m.\u001b[0m\u001b[0mget_frame\u001b[0m\u001b[1;33m(\u001b[0m\u001b[0mj\u001b[0m\u001b[1;33m.\u001b[0m\u001b[0mdest_key\u001b[0m\u001b[1;33m)\u001b[0m\u001b[1;33m\u001b[0m\u001b[0m\n\u001b[0;32m    195\u001b[0m \u001b[1;33m\u001b[0m\u001b[0m\n",
      "\u001b[1;32mc:\\python37\\lib\\site-packages\\h2o\\job.py\u001b[0m in \u001b[0;36mpoll\u001b[1;34m(self, verbose_model_scoring_history)\u001b[0m\n\u001b[0;32m     75\u001b[0m             \u001b[1;32mif\u001b[0m \u001b[1;33m(\u001b[0m\u001b[0misinstance\u001b[0m\u001b[1;33m(\u001b[0m\u001b[0mself\u001b[0m\u001b[1;33m.\u001b[0m\u001b[0mjob\u001b[0m\u001b[1;33m,\u001b[0m \u001b[0mdict\u001b[0m\u001b[1;33m)\u001b[0m\u001b[1;33m)\u001b[0m \u001b[1;32mand\u001b[0m \u001b[1;33m(\u001b[0m\u001b[1;34m\"stacktrace\"\u001b[0m \u001b[1;32min\u001b[0m \u001b[0mlist\u001b[0m\u001b[1;33m(\u001b[0m\u001b[0mself\u001b[0m\u001b[1;33m.\u001b[0m\u001b[0mjob\u001b[0m\u001b[1;33m)\u001b[0m\u001b[1;33m)\u001b[0m\u001b[1;33m:\u001b[0m\u001b[1;33m\u001b[0m\u001b[0m\n\u001b[0;32m     76\u001b[0m                 raise EnvironmentError(\"Job with key {} failed with an exception: {}\\nstacktrace: \"\n\u001b[1;32m---> 77\u001b[1;33m                                        \"\\n{}\".format(self.job_key, self.exception, self.job[\"stacktrace\"]))\n\u001b[0m\u001b[0;32m     78\u001b[0m             \u001b[1;32melse\u001b[0m\u001b[1;33m:\u001b[0m\u001b[1;33m\u001b[0m\u001b[0m\n\u001b[0;32m     79\u001b[0m                 \u001b[1;32mraise\u001b[0m \u001b[0mEnvironmentError\u001b[0m\u001b[1;33m(\u001b[0m\u001b[1;34m\"Job with key %s failed with an exception: %s\"\u001b[0m \u001b[1;33m%\u001b[0m \u001b[1;33m(\u001b[0m\u001b[0mself\u001b[0m\u001b[1;33m.\u001b[0m\u001b[0mjob_key\u001b[0m\u001b[1;33m,\u001b[0m \u001b[0mself\u001b[0m\u001b[1;33m.\u001b[0m\u001b[0mexception\u001b[0m\u001b[1;33m)\u001b[0m\u001b[1;33m)\u001b[0m\u001b[1;33m\u001b[0m\u001b[0m\n",
      "\u001b[1;31mOSError\u001b[0m: Job with key $03017f00000132d4ffffffff$_9eab3cc1a9f1e315c55f0b25643f4b36 failed with an exception: DistributedException from /127.0.0.1:54321: 'Categorical value out of bounds, got 186, next cat starts at 180', caused by java.lang.AssertionError: Categorical value out of bounds, got 186, next cat starts at 180\nstacktrace: \nDistributedException from /127.0.0.1:54321: 'Categorical value out of bounds, got 186, next cat starts at 180', caused by java.lang.AssertionError: Categorical value out of bounds, got 186, next cat starts at 180\r\n\tat water.MRTask.getResult(MRTask.java:478)\r\n\tat water.MRTask.getResult(MRTask.java:486)\r\n\tat water.MRTask.doAll(MRTask.java:390)\r\n\tat water.MRTask.doAll(MRTask.java:396)\r\n\tat hex.StackedEnsembleModel.predictScoreImpl(StackedEnsembleModel.java:161)\r\n\tat hex.Model.score(Model.java:1357)\r\n\tat water.api.ModelMetricsHandler$1.compute2(ModelMetricsHandler.java:374)\r\n\tat water.H2O$H2OCountedCompleter.compute(H2O.java:1395)\r\n\tat jsr166y.CountedCompleter.exec(CountedCompleter.java:468)\r\n\tat jsr166y.ForkJoinTask.doExec(ForkJoinTask.java:263)\r\n\tat jsr166y.ForkJoinPool$WorkQueue.runTask(ForkJoinPool.java:974)\r\n\tat jsr166y.ForkJoinPool.runWorker(ForkJoinPool.java:1477)\r\n\tat jsr166y.ForkJoinWorkerThread.run(ForkJoinWorkerThread.java:104)\r\nCaused by: java.lang.AssertionError: Categorical value out of bounds, got 186, next cat starts at 180\r\n\tat hex.DataInfo.getCategoricalId(DataInfo.java:981)\r\n\tat hex.DataInfo.getCategoricalId(DataInfo.java:960)\r\n\tat hex.glm.GLMModel.score0(GLMModel.java:1184)\r\n\tat hex.Model.score0(Model.java:1681)\r\n\tat hex.Model$BigScore.score0(Model.java:1625)\r\n\tat hex.Model$BigScore.map(Model.java:1603)\r\n\tat water.MRTask.compute2(MRTask.java:657)\r\n\tat water.H2O$H2OCountedCompleter.compute1(H2O.java:1398)\r\n\tat hex.Model$BigScore$Icer.compute1(Model$BigScore$Icer.java)\r\n\tat water.H2O$H2OCountedCompleter.compute(H2O.java:1394)\r\n\t... 5 more\r\n"
     ]
    }
   ],
   "source": [
    "automl_predictions = aml.predict(test).as_data_frame().values.flatten()"
   ]
  },
  {
   "cell_type": "code",
   "execution_count": 36,
   "metadata": {},
   "outputs": [
    {
     "name": "stdout",
     "output_type": "stream",
     "text": [
      "stackedensemble prediction progress: | (failed)\n"
     ]
    },
    {
     "ename": "OSError",
     "evalue": "Job with key $03017f00000132d4ffffffff$_9caa26a7493fd4342eafe0e70b3448ed failed with an exception: DistributedException from /127.0.0.1:54321: 'Categorical value out of bounds, got 186, next cat starts at 180', caused by java.lang.AssertionError: Categorical value out of bounds, got 186, next cat starts at 180\nstacktrace: \nDistributedException from /127.0.0.1:54321: 'Categorical value out of bounds, got 186, next cat starts at 180', caused by java.lang.AssertionError: Categorical value out of bounds, got 186, next cat starts at 180\r\n\tat water.MRTask.getResult(MRTask.java:478)\r\n\tat water.MRTask.getResult(MRTask.java:486)\r\n\tat water.MRTask.doAll(MRTask.java:390)\r\n\tat water.MRTask.doAll(MRTask.java:396)\r\n\tat hex.StackedEnsembleModel.predictScoreImpl(StackedEnsembleModel.java:161)\r\n\tat hex.Model.score(Model.java:1357)\r\n\tat water.api.ModelMetricsHandler$1.compute2(ModelMetricsHandler.java:374)\r\n\tat water.H2O$H2OCountedCompleter.compute(H2O.java:1395)\r\n\tat jsr166y.CountedCompleter.exec(CountedCompleter.java:468)\r\n\tat jsr166y.ForkJoinTask.doExec(ForkJoinTask.java:263)\r\n\tat jsr166y.ForkJoinPool$WorkQueue.runTask(ForkJoinPool.java:974)\r\n\tat jsr166y.ForkJoinPool.runWorker(ForkJoinPool.java:1477)\r\n\tat jsr166y.ForkJoinWorkerThread.run(ForkJoinWorkerThread.java:104)\r\nCaused by: java.lang.AssertionError: Categorical value out of bounds, got 186, next cat starts at 180\r\n\tat hex.DataInfo.getCategoricalId(DataInfo.java:981)\r\n\tat hex.DataInfo.getCategoricalId(DataInfo.java:960)\r\n\tat hex.glm.GLMModel.score0(GLMModel.java:1184)\r\n\tat hex.Model.score0(Model.java:1681)\r\n\tat hex.Model$BigScore.score0(Model.java:1625)\r\n\tat hex.Model$BigScore.map(Model.java:1603)\r\n\tat water.MRTask.compute2(MRTask.java:657)\r\n\tat water.H2O$H2OCountedCompleter.compute1(H2O.java:1398)\r\n\tat hex.Model$BigScore$Icer.compute1(Model$BigScore$Icer.java)\r\n\tat water.H2O$H2OCountedCompleter.compute(H2O.java:1394)\r\n\t... 5 more\r\n",
     "output_type": "error",
     "traceback": [
      "\u001b[1;31m---------------------------------------------------------------------------\u001b[0m",
      "\u001b[1;31mOSError\u001b[0m                                   Traceback (most recent call last)",
      "\u001b[1;32m<ipython-input-36-a3a1729600c5>\u001b[0m in \u001b[0;36m<module>\u001b[1;34m()\u001b[0m\n\u001b[1;32m----> 1\u001b[1;33m \u001b[0mautoml_predictions\u001b[0m \u001b[1;33m=\u001b[0m \u001b[0maml\u001b[0m\u001b[1;33m.\u001b[0m\u001b[0mpredict\u001b[0m\u001b[1;33m(\u001b[0m\u001b[0mtest\u001b[0m\u001b[1;33m)\u001b[0m\u001b[1;33m\u001b[0m\u001b[0m\n\u001b[0m",
      "\u001b[1;32mc:\\python37\\lib\\site-packages\\h2o\\automl\\autoh2o.py\u001b[0m in \u001b[0;36mpredict\u001b[1;34m(self, test_data)\u001b[0m\n\u001b[0;32m    402\u001b[0m         \u001b[1;32mif\u001b[0m \u001b[0mself\u001b[0m\u001b[1;33m.\u001b[0m\u001b[0m_fetch\u001b[0m\u001b[1;33m(\u001b[0m\u001b[1;33m)\u001b[0m\u001b[1;33m:\u001b[0m\u001b[1;33m\u001b[0m\u001b[0m\n\u001b[0;32m    403\u001b[0m             \u001b[0mself\u001b[0m\u001b[1;33m.\u001b[0m\u001b[0m_model\u001b[0m \u001b[1;33m=\u001b[0m \u001b[0mh2o\u001b[0m\u001b[1;33m.\u001b[0m\u001b[0mget_model\u001b[0m\u001b[1;33m(\u001b[0m\u001b[0mself\u001b[0m\u001b[1;33m.\u001b[0m\u001b[0m_leader_id\u001b[0m\u001b[1;33m)\u001b[0m\u001b[1;33m\u001b[0m\u001b[0m\n\u001b[1;32m--> 404\u001b[1;33m             \u001b[1;32mreturn\u001b[0m \u001b[0mself\u001b[0m\u001b[1;33m.\u001b[0m\u001b[0m_model\u001b[0m\u001b[1;33m.\u001b[0m\u001b[0mpredict\u001b[0m\u001b[1;33m(\u001b[0m\u001b[0mtest_data\u001b[0m\u001b[1;33m)\u001b[0m\u001b[1;33m\u001b[0m\u001b[0m\n\u001b[0m\u001b[0;32m    405\u001b[0m         \u001b[0mprint\u001b[0m\u001b[1;33m(\u001b[0m\u001b[1;34m\"No model built yet...\"\u001b[0m\u001b[1;33m)\u001b[0m\u001b[1;33m\u001b[0m\u001b[0m\n\u001b[0;32m    406\u001b[0m \u001b[1;33m\u001b[0m\u001b[0m\n",
      "\u001b[1;32mc:\\python37\\lib\\site-packages\\h2o\\model\\model_base.py\u001b[0m in \u001b[0;36mpredict\u001b[1;34m(self, test_data, custom_metric, custom_metric_func)\u001b[0m\n\u001b[0;32m    191\u001b[0m         j = H2OJob(h2o.api(\"POST /4/Predictions/models/%s/frames/%s\" % (self.model_id, test_data.frame_id), data = {'custom_metric_func': custom_metric_func}),\n\u001b[0;32m    192\u001b[0m                    self._model_json[\"algo\"] + \" prediction\")\n\u001b[1;32m--> 193\u001b[1;33m         \u001b[0mj\u001b[0m\u001b[1;33m.\u001b[0m\u001b[0mpoll\u001b[0m\u001b[1;33m(\u001b[0m\u001b[1;33m)\u001b[0m\u001b[1;33m\u001b[0m\u001b[0m\n\u001b[0m\u001b[0;32m    194\u001b[0m         \u001b[1;32mreturn\u001b[0m \u001b[0mh2o\u001b[0m\u001b[1;33m.\u001b[0m\u001b[0mget_frame\u001b[0m\u001b[1;33m(\u001b[0m\u001b[0mj\u001b[0m\u001b[1;33m.\u001b[0m\u001b[0mdest_key\u001b[0m\u001b[1;33m)\u001b[0m\u001b[1;33m\u001b[0m\u001b[0m\n\u001b[0;32m    195\u001b[0m \u001b[1;33m\u001b[0m\u001b[0m\n",
      "\u001b[1;32mc:\\python37\\lib\\site-packages\\h2o\\job.py\u001b[0m in \u001b[0;36mpoll\u001b[1;34m(self, verbose_model_scoring_history)\u001b[0m\n\u001b[0;32m     75\u001b[0m             \u001b[1;32mif\u001b[0m \u001b[1;33m(\u001b[0m\u001b[0misinstance\u001b[0m\u001b[1;33m(\u001b[0m\u001b[0mself\u001b[0m\u001b[1;33m.\u001b[0m\u001b[0mjob\u001b[0m\u001b[1;33m,\u001b[0m \u001b[0mdict\u001b[0m\u001b[1;33m)\u001b[0m\u001b[1;33m)\u001b[0m \u001b[1;32mand\u001b[0m \u001b[1;33m(\u001b[0m\u001b[1;34m\"stacktrace\"\u001b[0m \u001b[1;32min\u001b[0m \u001b[0mlist\u001b[0m\u001b[1;33m(\u001b[0m\u001b[0mself\u001b[0m\u001b[1;33m.\u001b[0m\u001b[0mjob\u001b[0m\u001b[1;33m)\u001b[0m\u001b[1;33m)\u001b[0m\u001b[1;33m:\u001b[0m\u001b[1;33m\u001b[0m\u001b[0m\n\u001b[0;32m     76\u001b[0m                 raise EnvironmentError(\"Job with key {} failed with an exception: {}\\nstacktrace: \"\n\u001b[1;32m---> 77\u001b[1;33m                                        \"\\n{}\".format(self.job_key, self.exception, self.job[\"stacktrace\"]))\n\u001b[0m\u001b[0;32m     78\u001b[0m             \u001b[1;32melse\u001b[0m\u001b[1;33m:\u001b[0m\u001b[1;33m\u001b[0m\u001b[0m\n\u001b[0;32m     79\u001b[0m                 \u001b[1;32mraise\u001b[0m \u001b[0mEnvironmentError\u001b[0m\u001b[1;33m(\u001b[0m\u001b[1;34m\"Job with key %s failed with an exception: %s\"\u001b[0m \u001b[1;33m%\u001b[0m \u001b[1;33m(\u001b[0m\u001b[0mself\u001b[0m\u001b[1;33m.\u001b[0m\u001b[0mjob_key\u001b[0m\u001b[1;33m,\u001b[0m \u001b[0mself\u001b[0m\u001b[1;33m.\u001b[0m\u001b[0mexception\u001b[0m\u001b[1;33m)\u001b[0m\u001b[1;33m)\u001b[0m\u001b[1;33m\u001b[0m\u001b[0m\n",
      "\u001b[1;31mOSError\u001b[0m: Job with key $03017f00000132d4ffffffff$_9caa26a7493fd4342eafe0e70b3448ed failed with an exception: DistributedException from /127.0.0.1:54321: 'Categorical value out of bounds, got 186, next cat starts at 180', caused by java.lang.AssertionError: Categorical value out of bounds, got 186, next cat starts at 180\nstacktrace: \nDistributedException from /127.0.0.1:54321: 'Categorical value out of bounds, got 186, next cat starts at 180', caused by java.lang.AssertionError: Categorical value out of bounds, got 186, next cat starts at 180\r\n\tat water.MRTask.getResult(MRTask.java:478)\r\n\tat water.MRTask.getResult(MRTask.java:486)\r\n\tat water.MRTask.doAll(MRTask.java:390)\r\n\tat water.MRTask.doAll(MRTask.java:396)\r\n\tat hex.StackedEnsembleModel.predictScoreImpl(StackedEnsembleModel.java:161)\r\n\tat hex.Model.score(Model.java:1357)\r\n\tat water.api.ModelMetricsHandler$1.compute2(ModelMetricsHandler.java:374)\r\n\tat water.H2O$H2OCountedCompleter.compute(H2O.java:1395)\r\n\tat jsr166y.CountedCompleter.exec(CountedCompleter.java:468)\r\n\tat jsr166y.ForkJoinTask.doExec(ForkJoinTask.java:263)\r\n\tat jsr166y.ForkJoinPool$WorkQueue.runTask(ForkJoinPool.java:974)\r\n\tat jsr166y.ForkJoinPool.runWorker(ForkJoinPool.java:1477)\r\n\tat jsr166y.ForkJoinWorkerThread.run(ForkJoinWorkerThread.java:104)\r\nCaused by: java.lang.AssertionError: Categorical value out of bounds, got 186, next cat starts at 180\r\n\tat hex.DataInfo.getCategoricalId(DataInfo.java:981)\r\n\tat hex.DataInfo.getCategoricalId(DataInfo.java:960)\r\n\tat hex.glm.GLMModel.score0(GLMModel.java:1184)\r\n\tat hex.Model.score0(Model.java:1681)\r\n\tat hex.Model$BigScore.score0(Model.java:1625)\r\n\tat hex.Model$BigScore.map(Model.java:1603)\r\n\tat water.MRTask.compute2(MRTask.java:657)\r\n\tat water.H2O$H2OCountedCompleter.compute1(H2O.java:1398)\r\n\tat hex.Model$BigScore$Icer.compute1(Model$BigScore$Icer.java)\r\n\tat water.H2O$H2OCountedCompleter.compute(H2O.java:1394)\r\n\t... 5 more\r\n"
     ]
    }
   ],
   "source": [
    "automl_predictions = aml.predict(test)"
   ]
  },
  {
   "cell_type": "code",
   "execution_count": null,
   "metadata": {},
   "outputs": [],
   "source": []
  },
  {
   "cell_type": "code",
   "execution_count": null,
   "metadata": {},
   "outputs": [],
   "source": []
  },
  {
   "cell_type": "code",
   "execution_count": null,
   "metadata": {},
   "outputs": [],
   "source": []
  }
 ],
 "metadata": {
  "kernelspec": {
   "display_name": "Python 3",
   "language": "python",
   "name": "python3"
  },
  "language_info": {
   "codemirror_mode": {
    "name": "ipython",
    "version": 3
   },
   "file_extension": ".py",
   "mimetype": "text/x-python",
   "name": "python",
   "nbconvert_exporter": "python",
   "pygments_lexer": "ipython3",
   "version": "3.7.0"
  }
 },
 "nbformat": 4,
 "nbformat_minor": 2
}
